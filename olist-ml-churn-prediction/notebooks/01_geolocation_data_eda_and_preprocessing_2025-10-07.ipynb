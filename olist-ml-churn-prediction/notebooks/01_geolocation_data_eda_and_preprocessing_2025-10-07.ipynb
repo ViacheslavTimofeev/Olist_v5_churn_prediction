{
 "cells": [
  {
   "cell_type": "markdown",
   "id": "41ea6a00-d26c-4f93-8b2b-3aec18afdb9a",
   "metadata": {},
   "source": [
    "# Информация о географическом расположении клиентов (geolocation_olist_public_dataset.csv)"
   ]
  },
  {
   "cell_type": "code",
   "execution_count": 1,
   "id": "1cf34fe1-6273-4842-9da9-c2dac679e15c",
   "metadata": {},
   "outputs": [],
   "source": [
    "import pandas as pd"
   ]
  },
  {
   "cell_type": "code",
   "execution_count": 2,
   "id": "05d068a5-b93e-4ad8-9a9a-817cb5fb33c2",
   "metadata": {},
   "outputs": [],
   "source": [
    "geolocation_data = pd.read_csv(r'C:\\Users\\Вячеслав\\Documents\\olist_churn\\olist-ml-churn-prediction\\data\\raw\\geolocation_olist_public_dataset.csv')"
   ]
  },
  {
   "cell_type": "code",
   "execution_count": 10,
   "id": "0273fcb1-8d5d-40d8-b816-6d3b62799cc9",
   "metadata": {},
   "outputs": [
    {
     "data": {
      "text/html": [
       "<div>\n",
       "<style scoped>\n",
       "    .dataframe tbody tr th:only-of-type {\n",
       "        vertical-align: middle;\n",
       "    }\n",
       "\n",
       "    .dataframe tbody tr th {\n",
       "        vertical-align: top;\n",
       "    }\n",
       "\n",
       "    .dataframe thead th {\n",
       "        text-align: right;\n",
       "    }\n",
       "</style>\n",
       "<table border=\"1\" class=\"dataframe\">\n",
       "  <thead>\n",
       "    <tr style=\"text-align: right;\">\n",
       "      <th></th>\n",
       "      <th>zip_code_prefix</th>\n",
       "      <th>city</th>\n",
       "      <th>state</th>\n",
       "      <th>lat</th>\n",
       "      <th>lng</th>\n",
       "    </tr>\n",
       "  </thead>\n",
       "  <tbody>\n",
       "    <tr>\n",
       "      <th>0</th>\n",
       "      <td>10</td>\n",
       "      <td>sao paulo</td>\n",
       "      <td>sp</td>\n",
       "      <td>-23.547807</td>\n",
       "      <td>-46.636122</td>\n",
       "    </tr>\n",
       "    <tr>\n",
       "      <th>1</th>\n",
       "      <td>10</td>\n",
       "      <td>sao paulo</td>\n",
       "      <td>sp</td>\n",
       "      <td>-23.546081</td>\n",
       "      <td>-46.644820</td>\n",
       "    </tr>\n",
       "    <tr>\n",
       "      <th>2</th>\n",
       "      <td>10</td>\n",
       "      <td>sao paulo</td>\n",
       "      <td>sp</td>\n",
       "      <td>-23.540984</td>\n",
       "      <td>-46.642569</td>\n",
       "    </tr>\n",
       "    <tr>\n",
       "      <th>3</th>\n",
       "      <td>10</td>\n",
       "      <td>sao paulo</td>\n",
       "      <td>sp</td>\n",
       "      <td>-23.546758</td>\n",
       "      <td>-46.645771</td>\n",
       "    </tr>\n",
       "    <tr>\n",
       "      <th>4</th>\n",
       "      <td>10</td>\n",
       "      <td>sao paulo</td>\n",
       "      <td>sp</td>\n",
       "      <td>-23.546362</td>\n",
       "      <td>-46.643073</td>\n",
       "    </tr>\n",
       "  </tbody>\n",
       "</table>\n",
       "</div>"
      ],
      "text/plain": [
       "   zip_code_prefix       city state        lat        lng\n",
       "0               10  sao paulo    sp -23.547807 -46.636122\n",
       "1               10  sao paulo    sp -23.546081 -46.644820\n",
       "2               10  sao paulo    sp -23.540984 -46.642569\n",
       "3               10  sao paulo    sp -23.546758 -46.645771\n",
       "4               10  sao paulo    sp -23.546362 -46.643073"
      ]
     },
     "metadata": {},
     "output_type": "display_data"
    },
    {
     "name": "stdout",
     "output_type": "stream",
     "text": [
      "Размерность: (323016, 5)\n",
      "zip_code_prefix      int64\n",
      "city                object\n",
      "state               object\n",
      "lat                float64\n",
      "lng                float64\n",
      "dtype: object\n"
     ]
    }
   ],
   "source": [
    "display(geolocation_data.head())\n",
    "print('Размерность:', geolocation_data.shape)\n",
    "print(geolocation_data.dtypes)"
   ]
  },
  {
   "cell_type": "markdown",
   "id": "e7ca2426-5c61-444d-9678-f41247d547e9",
   "metadata": {},
   "source": [
    "## Трактовка признаков:"
   ]
  },
  {
   "cell_type": "markdown",
   "id": "68e8df72-d970-42f5-b2e8-f848419e829d",
   "metadata": {},
   "source": [
    "#### *zip_code_prefix* - это префикс почтового индекса. До 3 цифр;\n",
    "\n",
    "#### *city* - город заказчика;\n",
    "\n",
    "#### *state* - штат;\n",
    "\n",
    "#### *lat* - анг. latitude, широта. Координаты ненастоящие, созданы случайно на основе принадлежности к определенному zip_code_prefix;\n",
    "\n",
    "#### *lng* - анг. longitude, долгота. Также ненастоящие."
   ]
  },
  {
   "cell_type": "code",
   "execution_count": 11,
   "id": "eddfc125-9f1d-49a3-a767-01f58a29b3b0",
   "metadata": {},
   "outputs": [
    {
     "name": "stdout",
     "output_type": "stream",
     "text": [
      "Пропуски: zip_code_prefix    0\n",
      "city               0\n",
      "state              0\n",
      "lat                0\n",
      "lng                0\n",
      "dtype: int64\n"
     ]
    }
   ],
   "source": [
    "print('Пропуски:', geolocation_data.isna().sum())"
   ]
  },
  {
   "cell_type": "markdown",
   "id": "38e39130-c9f2-4443-bbb9-87f020e183bc",
   "metadata": {},
   "source": [
    "### Пропусков нет"
   ]
  },
  {
   "cell_type": "code",
   "execution_count": 5,
   "id": "ed29d8da-bd98-457d-b50c-3bb1ae522c25",
   "metadata": {},
   "outputs": [
    {
     "name": "stdout",
     "output_type": "stream",
     "text": [
      "0          10\n",
      "341        10\n",
      "340        10\n",
      "339        10\n",
      "338        10\n",
      "         ... \n",
      "322766    999\n",
      "322765    999\n",
      "322764    999\n",
      "322762    999\n",
      "323015    999\n",
      "Name: zip_code_prefix, Length: 323016, dtype: int64\n"
     ]
    }
   ],
   "source": [
    "print(geolocation_data['zip_code_prefix'].sort_values())"
   ]
  },
  {
   "cell_type": "markdown",
   "id": "2e904320-f6e9-4daf-800c-f2b0b44dd9fe",
   "metadata": {},
   "source": [
    "### Значения zip_code_prefix лежат в промежутке [10; 999]"
   ]
  },
  {
   "cell_type": "markdown",
   "id": "a25d4fe3-2c83-4dc6-95dc-7a329f449de2",
   "metadata": {},
   "source": [
    "print(geolocation_data['zip_code_prefix'].value_counts())"
   ]
  },
  {
   "cell_type": "markdown",
   "id": "362bcad6-c867-4d94-aced-c97b1ba06f55",
   "metadata": {},
   "source": [
    "### Распределение по zip_code_prefix неравномерное, но потолок количества пользователей для одного zip_code_prefix - 500"
   ]
  },
  {
   "cell_type": "code",
   "execution_count": 18,
   "id": "de78f9da-f8e7-4e10-b7a8-d4b86203e889",
   "metadata": {},
   "outputs": [
    {
     "name": "stdout",
     "output_type": "stream",
     "text": [
      "5419\n",
      "27\n"
     ]
    }
   ],
   "source": [
    "print(len(geolocation_data['city'].unique()))\n",
    "print(len(geolocation_data['state'].unique()))"
   ]
  },
  {
   "cell_type": "markdown",
   "id": "849ae74f-8fb2-47c6-8c3e-7ba82bc535a0",
   "metadata": {},
   "source": [
    "### 5419 уникальных городов, 27 уникальных штатов"
   ]
  },
  {
   "cell_type": "code",
   "execution_count": null,
   "id": "7760f235-25ec-4597-835a-325b7fce3faf",
   "metadata": {},
   "outputs": [],
   "source": []
  }
 ],
 "metadata": {
  "kernelspec": {
   "display_name": "Python 3 (ipykernel)",
   "language": "python",
   "name": "python3"
  },
  "language_info": {
   "codemirror_mode": {
    "name": "ipython",
    "version": 3
   },
   "file_extension": ".py",
   "mimetype": "text/x-python",
   "name": "python",
   "nbconvert_exporter": "python",
   "pygments_lexer": "ipython3",
   "version": "3.12.11"
  }
 },
 "nbformat": 4,
 "nbformat_minor": 5
}
