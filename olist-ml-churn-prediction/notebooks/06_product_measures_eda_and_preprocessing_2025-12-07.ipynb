{
 "cells": [
  {
   "cell_type": "markdown",
   "id": "c1a3aed5-20cd-46bc-a367-525c751bcef7",
   "metadata": {},
   "source": [
    "# Информация о размерах и весе товаров (product_measures_olist_public_dataset_.csv)"
   ]
  },
  {
   "cell_type": "code",
   "execution_count": 1,
   "id": "c866ece8-3c60-46fc-92c2-76e6c53bbc59",
   "metadata": {},
   "outputs": [],
   "source": [
    "import pandas as pd"
   ]
  },
  {
   "cell_type": "code",
   "execution_count": 2,
   "id": "9b835e60-495a-43ec-9846-ffbaa6cf293a",
   "metadata": {},
   "outputs": [],
   "source": [
    "product_measures = pd.read_csv(r'C:\\Users\\Вячеслав\\Documents\\olist_churn\\olist-ml-churn-prediction\\data\\raw\\product_measures_olist_public_dataset_.csv')"
   ]
  },
  {
   "cell_type": "code",
   "execution_count": 3,
   "id": "6d43423f-7d23-471d-bcb9-c0aa5221c874",
   "metadata": {},
   "outputs": [
    {
     "data": {
      "text/html": [
       "<div>\n",
       "<style scoped>\n",
       "    .dataframe tbody tr th:only-of-type {\n",
       "        vertical-align: middle;\n",
       "    }\n",
       "\n",
       "    .dataframe tbody tr th {\n",
       "        vertical-align: top;\n",
       "    }\n",
       "\n",
       "    .dataframe thead th {\n",
       "        text-align: right;\n",
       "    }\n",
       "</style>\n",
       "<table border=\"1\" class=\"dataframe\">\n",
       "  <thead>\n",
       "    <tr style=\"text-align: right;\">\n",
       "      <th></th>\n",
       "      <th>product_id</th>\n",
       "      <th>product_weight_g</th>\n",
       "      <th>product_length_cm</th>\n",
       "      <th>product_height_cm</th>\n",
       "      <th>product_width_cm</th>\n",
       "    </tr>\n",
       "  </thead>\n",
       "  <tbody>\n",
       "    <tr>\n",
       "      <th>0</th>\n",
       "      <td>00faa46f36261af8bbf3a4d37fa4841b</td>\n",
       "      <td>100.0</td>\n",
       "      <td>21.0</td>\n",
       "      <td>9.0</td>\n",
       "      <td>14.0</td>\n",
       "    </tr>\n",
       "    <tr>\n",
       "      <th>1</th>\n",
       "      <td>b497d0032ea073dd58bbd2d7809d25b3</td>\n",
       "      <td>750.0</td>\n",
       "      <td>23.0</td>\n",
       "      <td>5.0</td>\n",
       "      <td>15.0</td>\n",
       "    </tr>\n",
       "    <tr>\n",
       "      <th>2</th>\n",
       "      <td>96bd76ec8810374ed1b65e291975717f</td>\n",
       "      <td>200.0</td>\n",
       "      <td>16.0</td>\n",
       "      <td>6.0</td>\n",
       "      <td>19.5</td>\n",
       "    </tr>\n",
       "    <tr>\n",
       "      <th>3</th>\n",
       "      <td>506110a1603e772a8ff52ea1f0b0431d</td>\n",
       "      <td>200.0</td>\n",
       "      <td>16.0</td>\n",
       "      <td>13.0</td>\n",
       "      <td>13.0</td>\n",
       "    </tr>\n",
       "    <tr>\n",
       "      <th>4</th>\n",
       "      <td>feb593f17c2f51af2932dbba3e99f1cb</td>\n",
       "      <td>50.0</td>\n",
       "      <td>35.0</td>\n",
       "      <td>4.0</td>\n",
       "      <td>26.0</td>\n",
       "    </tr>\n",
       "  </tbody>\n",
       "</table>\n",
       "</div>"
      ],
      "text/plain": [
       "                         product_id  product_weight_g  product_length_cm  \\\n",
       "0  00faa46f36261af8bbf3a4d37fa4841b             100.0               21.0   \n",
       "1  b497d0032ea073dd58bbd2d7809d25b3             750.0               23.0   \n",
       "2  96bd76ec8810374ed1b65e291975717f             200.0               16.0   \n",
       "3  506110a1603e772a8ff52ea1f0b0431d             200.0               16.0   \n",
       "4  feb593f17c2f51af2932dbba3e99f1cb              50.0               35.0   \n",
       "\n",
       "   product_height_cm  product_width_cm  \n",
       "0                9.0              14.0  \n",
       "1                5.0              15.0  \n",
       "2                6.0              19.5  \n",
       "3               13.0              13.0  \n",
       "4                4.0              26.0  "
      ]
     },
     "metadata": {},
     "output_type": "display_data"
    }
   ],
   "source": [
    "display(product_measures.head())"
   ]
  },
  {
   "cell_type": "code",
   "execution_count": 4,
   "id": "8b943d03-f66a-42fc-8c4f-3a10e399856f",
   "metadata": {},
   "outputs": [
    {
     "name": "stdout",
     "output_type": "stream",
     "text": [
      "product_id           0\n",
      "product_weight_g     0\n",
      "product_length_cm    0\n",
      "product_height_cm    0\n",
      "product_width_cm     0\n",
      "dtype: int64\n"
     ]
    }
   ],
   "source": [
    "print(product_measures.isna().sum())"
   ]
  },
  {
   "cell_type": "code",
   "execution_count": null,
   "id": "fcfc17b4-1e39-4580-bc83-93b3b646bfad",
   "metadata": {},
   "outputs": [],
   "source": []
  }
 ],
 "metadata": {
  "kernelspec": {
   "display_name": "Python 3 (ipykernel)",
   "language": "python",
   "name": "python3"
  },
  "language_info": {
   "codemirror_mode": {
    "name": "ipython",
    "version": 3
   },
   "file_extension": ".py",
   "mimetype": "text/x-python",
   "name": "python",
   "nbconvert_exporter": "python",
   "pygments_lexer": "ipython3",
   "version": "3.12.11"
  }
 },
 "nbformat": 4,
 "nbformat_minor": 5
}
