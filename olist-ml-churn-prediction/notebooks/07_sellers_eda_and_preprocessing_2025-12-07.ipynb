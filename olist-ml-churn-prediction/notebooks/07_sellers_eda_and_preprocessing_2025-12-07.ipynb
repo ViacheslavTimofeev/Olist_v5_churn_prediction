{
 "cells": [
  {
   "cell_type": "markdown",
   "id": "75aab2f0-b04f-4d8f-ab51-2a1e56a18cb4",
   "metadata": {},
   "source": [
    "# Информация о продавцах (sellers_olist_public_dataset_.csv)"
   ]
  },
  {
   "cell_type": "code",
   "execution_count": 1,
   "id": "ac1ad9b0-cdd0-45dc-aa2b-267516ca28b4",
   "metadata": {},
   "outputs": [],
   "source": [
    "import pandas as pd"
   ]
  },
  {
   "cell_type": "code",
   "execution_count": 2,
   "id": "860f581f-cd23-4e2a-aef8-e00328f0f745",
   "metadata": {},
   "outputs": [],
   "source": [
    "sellers = pd.read_csv(r'C:\\Users\\Вячеслав\\Documents\\olist_churn\\olist-ml-churn-prediction\\data\\raw\\sellers_olist_public_dataset_.csv')"
   ]
  },
  {
   "cell_type": "code",
   "execution_count": 3,
   "id": "8dc2f000-32cf-4171-9908-0c142b37dba1",
   "metadata": {},
   "outputs": [
    {
     "data": {
      "text/html": [
       "<div>\n",
       "<style scoped>\n",
       "    .dataframe tbody tr th:only-of-type {\n",
       "        vertical-align: middle;\n",
       "    }\n",
       "\n",
       "    .dataframe tbody tr th {\n",
       "        vertical-align: top;\n",
       "    }\n",
       "\n",
       "    .dataframe thead th {\n",
       "        text-align: right;\n",
       "    }\n",
       "</style>\n",
       "<table border=\"1\" class=\"dataframe\">\n",
       "  <thead>\n",
       "    <tr style=\"text-align: right;\">\n",
       "      <th></th>\n",
       "      <th>order_id</th>\n",
       "      <th>product_id</th>\n",
       "      <th>seller_id</th>\n",
       "      <th>seller_zip_code_prefix</th>\n",
       "      <th>seller_city</th>\n",
       "      <th>seller_state</th>\n",
       "    </tr>\n",
       "  </thead>\n",
       "  <tbody>\n",
       "    <tr>\n",
       "      <th>0</th>\n",
       "      <td>0faabac07131235fc5d9d711471cb4db</td>\n",
       "      <td>40b09f33e646d488df2ca6fec4082d50</td>\n",
       "      <td>3d871de0142ce09b7081e2b9d1733cb1</td>\n",
       "      <td>132</td>\n",
       "      <td>campo limpo paulista</td>\n",
       "      <td>SP</td>\n",
       "    </tr>\n",
       "    <tr>\n",
       "      <th>1</th>\n",
       "      <td>970f41d57d6e21afa7b8c701b09acb95</td>\n",
       "      <td>d1c427060a0f73f6b889a5c7c61f2ac4</td>\n",
       "      <td>a1043bafd471dff536d0c462352beb48</td>\n",
       "      <td>371</td>\n",
       "      <td>ilicinea</td>\n",
       "      <td>MG</td>\n",
       "    </tr>\n",
       "    <tr>\n",
       "      <th>2</th>\n",
       "      <td>b674ed44cc3f6a869249421debebe104</td>\n",
       "      <td>bd7cd34fc6d02e730221b11edc354aae</td>\n",
       "      <td>46dc3b2cc0980fb8ec44634e21d2718e</td>\n",
       "      <td>222</td>\n",
       "      <td>rio de janeiro</td>\n",
       "      <td>RJ</td>\n",
       "    </tr>\n",
       "    <tr>\n",
       "      <th>3</th>\n",
       "      <td>cbe9eae36605cf2bd005c6bc1ae5f864</td>\n",
       "      <td>0e95d6eef2bedaf4ecf3c33f78199059</td>\n",
       "      <td>dc4a0fc896dc34b0d5bfec8438291c80</td>\n",
       "      <td>149</td>\n",
       "      <td>ibitinga</td>\n",
       "      <td>SP</td>\n",
       "    </tr>\n",
       "    <tr>\n",
       "      <th>4</th>\n",
       "      <td>f562f8a4adf5a459176f7170d0da220d</td>\n",
       "      <td>9a3a44b7cc16f2592b2110e4205edf97</td>\n",
       "      <td>5a8e7d5003a1f221f9e1d6e411de7c23</td>\n",
       "      <td>130</td>\n",
       "      <td>campinas</td>\n",
       "      <td>SP</td>\n",
       "    </tr>\n",
       "  </tbody>\n",
       "</table>\n",
       "</div>"
      ],
      "text/plain": [
       "                           order_id                        product_id  \\\n",
       "0  0faabac07131235fc5d9d711471cb4db  40b09f33e646d488df2ca6fec4082d50   \n",
       "1  970f41d57d6e21afa7b8c701b09acb95  d1c427060a0f73f6b889a5c7c61f2ac4   \n",
       "2  b674ed44cc3f6a869249421debebe104  bd7cd34fc6d02e730221b11edc354aae   \n",
       "3  cbe9eae36605cf2bd005c6bc1ae5f864  0e95d6eef2bedaf4ecf3c33f78199059   \n",
       "4  f562f8a4adf5a459176f7170d0da220d  9a3a44b7cc16f2592b2110e4205edf97   \n",
       "\n",
       "                          seller_id  seller_zip_code_prefix  \\\n",
       "0  3d871de0142ce09b7081e2b9d1733cb1                     132   \n",
       "1  a1043bafd471dff536d0c462352beb48                     371   \n",
       "2  46dc3b2cc0980fb8ec44634e21d2718e                     222   \n",
       "3  dc4a0fc896dc34b0d5bfec8438291c80                     149   \n",
       "4  5a8e7d5003a1f221f9e1d6e411de7c23                     130   \n",
       "\n",
       "            seller_city seller_state  \n",
       "0  campo limpo paulista           SP  \n",
       "1              ilicinea           MG  \n",
       "2        rio de janeiro           RJ  \n",
       "3              ibitinga           SP  \n",
       "4              campinas           SP  "
      ]
     },
     "metadata": {},
     "output_type": "display_data"
    }
   ],
   "source": [
    "display(sellers.head())"
   ]
  },
  {
   "cell_type": "code",
   "execution_count": null,
   "id": "7c06a274-c17d-4b41-8e91-c1d7b5b97f27",
   "metadata": {},
   "outputs": [],
   "source": []
  }
 ],
 "metadata": {
  "kernelspec": {
   "display_name": "Python 3 (ipykernel)",
   "language": "python",
   "name": "python3"
  },
  "language_info": {
   "codemirror_mode": {
    "name": "ipython",
    "version": 3
   },
   "file_extension": ".py",
   "mimetype": "text/x-python",
   "name": "python",
   "nbconvert_exporter": "python",
   "pygments_lexer": "ipython3",
   "version": "3.12.11"
  }
 },
 "nbformat": 4,
 "nbformat_minor": 5
}
