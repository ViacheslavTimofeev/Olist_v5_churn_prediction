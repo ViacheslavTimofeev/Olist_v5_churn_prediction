{
 "cells": [
  {
   "cell_type": "markdown",
   "id": "41ea6a00-d26c-4f93-8b2b-3aec18afdb9a",
   "metadata": {},
   "source": [
    "# Информация о географическом расположении клиентов (geolocation_olist_public_dataset.csv)"
   ]
  },
  {
   "cell_type": "code",
   "execution_count": 2,
   "id": "1cf34fe1-6273-4842-9da9-c2dac679e15c",
   "metadata": {},
   "outputs": [],
   "source": [
    "import pandas as pd\n",
    "import matplotlib.pyplot as plt\n",
    "import re\n",
    "import seaborn as sns\n",
    "import sys, os\n",
    "import pathlib\n",
    "from pathlib import Path\n",
    "from pydantic import ValidationError\n",
    "from olist_churn_prediction.paths import SRC_DIR"
   ]
  },
  {
   "cell_type": "code",
   "execution_count": null,
   "id": "9b6675d0-20c4-47ec-88b3-1d980cf8827a",
   "metadata": {},
   "outputs": [],
   "source": [
    "sys.path.append(str(SRC_DIR))"
   ]
  },
  {
   "cell_type": "code",
   "execution_count": null,
   "id": "f4f6e272-551a-42ff-8c80-84e0cec53a82",
   "metadata": {},
   "outputs": [],
   "source": [
    "from olist_churn_prediction import feature_engineering\n",
    "from olist_churn_prediction.schemas import GeolocationSchema\n",
    "from olist_churn_prediction.paths import RAW_DIR"
   ]
  },
  {
   "cell_type": "code",
   "execution_count": 3,
   "id": "05d068a5-b93e-4ad8-9a9a-817cb5fb33c2",
   "metadata": {},
   "outputs": [],
   "source": [
    "geolocation_data = feature_engineering.load_data(RAW_DIR / \"geolocation_olist_public_dataset.csv\",\n",
    "                      schema = GeolocationSchema,\n",
    "                      validate = True) "
   ]
  },
  {
   "cell_type": "code",
   "execution_count": 6,
   "id": "0273fcb1-8d5d-40d8-b816-6d3b62799cc9",
   "metadata": {},
   "outputs": [
    {
     "data": {
      "text/html": [
       "<div>\n",
       "<style scoped>\n",
       "    .dataframe tbody tr th:only-of-type {\n",
       "        vertical-align: middle;\n",
       "    }\n",
       "\n",
       "    .dataframe tbody tr th {\n",
       "        vertical-align: top;\n",
       "    }\n",
       "\n",
       "    .dataframe thead th {\n",
       "        text-align: right;\n",
       "    }\n",
       "</style>\n",
       "<table border=\"1\" class=\"dataframe\">\n",
       "  <thead>\n",
       "    <tr style=\"text-align: right;\">\n",
       "      <th></th>\n",
       "      <th>zip_code_prefix</th>\n",
       "      <th>city</th>\n",
       "      <th>state</th>\n",
       "      <th>lat</th>\n",
       "      <th>lng</th>\n",
       "    </tr>\n",
       "  </thead>\n",
       "  <tbody>\n",
       "    <tr>\n",
       "      <th>0</th>\n",
       "      <td>10</td>\n",
       "      <td>sao paulo</td>\n",
       "      <td>sp</td>\n",
       "      <td>-23.547808</td>\n",
       "      <td>-46.636124</td>\n",
       "    </tr>\n",
       "    <tr>\n",
       "      <th>1</th>\n",
       "      <td>10</td>\n",
       "      <td>sao paulo</td>\n",
       "      <td>sp</td>\n",
       "      <td>-23.546082</td>\n",
       "      <td>-46.644821</td>\n",
       "    </tr>\n",
       "    <tr>\n",
       "      <th>2</th>\n",
       "      <td>10</td>\n",
       "      <td>sao paulo</td>\n",
       "      <td>sp</td>\n",
       "      <td>-23.540983</td>\n",
       "      <td>-46.642567</td>\n",
       "    </tr>\n",
       "    <tr>\n",
       "      <th>3</th>\n",
       "      <td>10</td>\n",
       "      <td>sao paulo</td>\n",
       "      <td>sp</td>\n",
       "      <td>-23.546759</td>\n",
       "      <td>-46.645771</td>\n",
       "    </tr>\n",
       "    <tr>\n",
       "      <th>4</th>\n",
       "      <td>10</td>\n",
       "      <td>sao paulo</td>\n",
       "      <td>sp</td>\n",
       "      <td>-23.546362</td>\n",
       "      <td>-46.643074</td>\n",
       "    </tr>\n",
       "  </tbody>\n",
       "</table>\n",
       "</div>"
      ],
      "text/plain": [
       "   zip_code_prefix       city state        lat        lng\n",
       "0               10  sao paulo    sp -23.547808 -46.636124\n",
       "1               10  sao paulo    sp -23.546082 -46.644821\n",
       "2               10  sao paulo    sp -23.540983 -46.642567\n",
       "3               10  sao paulo    sp -23.546759 -46.645771\n",
       "4               10  sao paulo    sp -23.546362 -46.643074"
      ]
     },
     "metadata": {},
     "output_type": "display_data"
    },
    {
     "data": {
      "text/plain": [
       "zip_code_prefix             Int64\n",
       "city               string[python]\n",
       "state              string[python]\n",
       "lat                       float32\n",
       "lng                       float32\n",
       "dtype: object"
      ]
     },
     "execution_count": 6,
     "metadata": {},
     "output_type": "execute_result"
    }
   ],
   "source": [
    "display(geolocation_data.head())\n",
    "geolocation_data.shape\n",
    "geolocation_data.dtypes"
   ]
  },
  {
   "cell_type": "markdown",
   "id": "e7ca2426-5c61-444d-9678-f41247d547e9",
   "metadata": {},
   "source": [
    "## Трактовка признаков:"
   ]
  },
  {
   "cell_type": "markdown",
   "id": "68e8df72-d970-42f5-b2e8-f848419e829d",
   "metadata": {},
   "source": [
    "*zip_code_prefix* - это префикс почтового индекса. До 3 цифр;\n",
    "\n",
    "*city* - город заказчика;\n",
    "\n",
    "*state* - штат заказчика;\n",
    "\n",
    "*lat* - анг. latitude, широта. Координаты ненастоящие, созданы случайно на основе принадлежности к определенному zip_code_prefix;\n",
    "\n",
    "*lng* - анг. longitude, долгота. Также ненастоящие."
   ]
  },
  {
   "cell_type": "code",
   "execution_count": 12,
   "id": "eddfc125-9f1d-49a3-a767-01f58a29b3b0",
   "metadata": {},
   "outputs": [
    {
     "name": "stdout",
     "output_type": "stream",
     "text": [
      "Пропуски: zip_code_prefix    0\n",
      "city               0\n",
      "state              0\n",
      "lat                0\n",
      "lng                0\n",
      "dtype: int64\n"
     ]
    }
   ],
   "source": [
    "print('Пропуски:', geolocation_data.isna().sum())"
   ]
  },
  {
   "cell_type": "code",
   "execution_count": 13,
   "id": "d3f29281-69db-4d69-a4ea-590f1a3b579d",
   "metadata": {},
   "outputs": [
    {
     "name": "stdout",
     "output_type": "stream",
     "text": [
      "--- zip_code_prefix ---\n",
      "zip_code_prefix\n",
      "10     500\n",
      "378    500\n",
      "394    500\n",
      "392    500\n",
      "391    500\n",
      "      ... \n",
      "947      4\n",
      "300      2\n",
      "325      1\n",
      "907      1\n",
      "704      1\n",
      "Name: count, Length: 851, dtype: int64\n",
      "\n",
      "--- city ---\n",
      "city\n",
      "sao paulo            25001\n",
      "curitiba             11605\n",
      "rio de janeiro       10020\n",
      "belo horizonte        8500\n",
      "porto alegre          7357\n",
      "                     ...  \n",
      "varzea branca            1\n",
      "sao braz do piaui        1\n",
      "pedro laurentino         1\n",
      "julio borges             1\n",
      "muliterno                1\n",
      "Name: count, Length: 5419, dtype: int64\n",
      "\n",
      "--- state ---\n",
      "state\n",
      "sp    81929\n",
      "mg    39851\n",
      "rs    34831\n",
      "pr    31441\n",
      "rj    29057\n",
      "ba    20463\n",
      "go    11497\n",
      "pe    11460\n",
      "sc     9342\n",
      "ce     7690\n",
      "df     5645\n",
      "pa     5237\n",
      "ms     4921\n",
      "es     4421\n",
      "mt     4387\n",
      "ma     3823\n",
      "pb     2847\n",
      "rn     2640\n",
      "pi     2509\n",
      "to     2394\n",
      "al     1875\n",
      "se     1448\n",
      "ro     1001\n",
      "am      807\n",
      "ap      500\n",
      "rr      500\n",
      "ac      500\n",
      "Name: count, dtype: int64\n",
      "\n",
      "--- lat ---\n",
      "lat\n",
      "-12.147031    32\n",
      "-22.384610    28\n",
      "-23.466590    27\n",
      "-23.506049    26\n",
      "-30.046329    25\n",
      "              ..\n",
      "-20.327668     1\n",
      "-20.846240     1\n",
      "-21.009625     1\n",
      "-21.009310     1\n",
      "-28.387691     1\n",
      "Name: count, Length: 275588, dtype: int64\n",
      "\n",
      "--- lng ---\n",
      "lng\n",
      "-44.996092    32\n",
      "-43.133783    28\n",
      "-46.639282    27\n",
      "-46.717377    26\n",
      "-38.422976    25\n",
      "              ..\n",
      "-40.750612     1\n",
      "-40.500607     1\n",
      "-40.933298     1\n",
      "-40.698322     1\n",
      "-51.847330     1\n",
      "Name: count, Length: 275614, dtype: int64\n",
      "\n"
     ]
    }
   ],
   "source": [
    "for col in geolocation_data.columns:\n",
    "    print(f\"--- {col} ---\")\n",
    "    print(geolocation_data[col].value_counts())\n",
    "    print()"
   ]
  },
  {
   "cell_type": "code",
   "execution_count": 8,
   "id": "de78f9da-f8e7-4e10-b7a8-d4b86203e889",
   "metadata": {},
   "outputs": [
    {
     "name": "stdout",
     "output_type": "stream",
     "text": [
      "5419\n",
      "27\n"
     ]
    }
   ],
   "source": [
    "print(len(geolocation_data['city'].unique()))\n",
    "print(len(geolocation_data['state'].unique()))"
   ]
  },
  {
   "cell_type": "markdown",
   "id": "e085169d-cf83-4b4d-ac2a-b4f2e4cd0d98",
   "metadata": {},
   "source": [
    "# Выводы из таблицы geolocation data:\n",
    "1. Из-за отсутствия order_id или customer_unique_id будет затруднительно сопоставить местоположение клиента и его заказы. Возможно в будущем найдется способ это сделать.\n",
    "2. В таблице 5419 уникальных городов и 27 уникальных штатов.\n",
    "3. Возможно добаления новых признаков, основанных на расстоянии между продавцом и покупателем, хотя пока что нам неизвестны id покупателей."
   ]
  },
  {
   "cell_type": "code",
   "execution_count": null,
   "id": "7e78f65e-4415-49b1-aa3e-580fbc947d0e",
   "metadata": {},
   "outputs": [],
   "source": []
  }
 ],
 "metadata": {
  "kernelspec": {
   "display_name": "Python 3 (ipykernel)",
   "language": "python",
   "name": "python3"
  },
  "language_info": {
   "codemirror_mode": {
    "name": "ipython",
    "version": 3
   },
   "file_extension": ".py",
   "mimetype": "text/x-python",
   "name": "python",
   "nbconvert_exporter": "python",
   "pygments_lexer": "ipython3",
   "version": "3.13.5"
  }
 },
 "nbformat": 4,
 "nbformat_minor": 5
}
