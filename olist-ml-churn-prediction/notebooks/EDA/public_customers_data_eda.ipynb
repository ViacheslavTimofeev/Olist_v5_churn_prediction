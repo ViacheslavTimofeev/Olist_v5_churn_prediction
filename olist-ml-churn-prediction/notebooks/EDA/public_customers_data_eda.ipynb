{
 "cells": [
  {
   "cell_type": "markdown",
   "id": "90818f26-43f0-4dff-b8a7-c37425171535",
   "metadata": {},
   "source": [
    "# Датасет с id заказов и уникальными id пользователей (olist_public_dataset_v2_customers.csv)"
   ]
  },
  {
   "cell_type": "code",
   "execution_count": 1,
   "id": "8a9e097a-464d-4f22-b9ea-a6b2653b716d",
   "metadata": {},
   "outputs": [],
   "source": [
    "import pandas as pd\n",
    "import matplotlib.pyplot as plt\n",
    "import re\n",
    "import seaborn as sns\n",
    "import sys, os\n",
    "import pathlib\n",
    "from pathlib import Path\n",
    "from pydantic import ValidationError\n",
    "from olist_churn_prediction.paths import SRC_DIR, PROCESSED_DIR, INTERIM_NOTEBOOK_DIR"
   ]
  },
  {
   "cell_type": "code",
   "execution_count": 2,
   "id": "7e757564-e1aa-4fb6-8852-e8e9645a36ed",
   "metadata": {},
   "outputs": [],
   "source": [
    "from olist_churn_prediction import feature_processing\n",
    "from olist_churn_prediction.schemas_raw import CustomersSchemaRaw\n",
    "from olist_churn_prediction.paths import RAW_DIR"
   ]
  },
  {
   "cell_type": "code",
   "execution_count": 3,
   "id": "be4a2ce7-4ec7-4cfc-b99e-754679cdf650",
   "metadata": {},
   "outputs": [],
   "source": [
    "public_customers_data = pd.read_csv(RAW_DIR / \"olist_public_dataset_v2_customers.csv\")"
   ]
  },
  {
   "cell_type": "code",
   "execution_count": 4,
   "id": "2a025ce1-7c7d-4521-a976-a73d5239089b",
   "metadata": {},
   "outputs": [
    {
     "data": {
      "text/html": [
       "<div>\n",
       "<style scoped>\n",
       "    .dataframe tbody tr th:only-of-type {\n",
       "        vertical-align: middle;\n",
       "    }\n",
       "\n",
       "    .dataframe tbody tr th {\n",
       "        vertical-align: top;\n",
       "    }\n",
       "\n",
       "    .dataframe thead th {\n",
       "        text-align: right;\n",
       "    }\n",
       "</style>\n",
       "<table border=\"1\" class=\"dataframe\">\n",
       "  <thead>\n",
       "    <tr style=\"text-align: right;\">\n",
       "      <th></th>\n",
       "      <th>customer_id</th>\n",
       "      <th>customer_unique_id</th>\n",
       "    </tr>\n",
       "  </thead>\n",
       "  <tbody>\n",
       "    <tr>\n",
       "      <th>0</th>\n",
       "      <td>0000ca4ff2795842fd6b122c6d974468</td>\n",
       "      <td>ac0e5d7f07043dd32831bdad3b99ad26</td>\n",
       "    </tr>\n",
       "    <tr>\n",
       "      <th>1</th>\n",
       "      <td>00010f206878ba01f199aec4237de72e</td>\n",
       "      <td>4ed24aaed4079fe0661c0e4b3b420dff</td>\n",
       "    </tr>\n",
       "    <tr>\n",
       "      <th>2</th>\n",
       "      <td>00012a2ce6f8dcda20d059ce98491703</td>\n",
       "      <td>7e0e291c0f4fc2d69208954d26ed0586</td>\n",
       "    </tr>\n",
       "    <tr>\n",
       "      <th>3</th>\n",
       "      <td>000161a058600d5901f007fab4c27140</td>\n",
       "      <td>ff1dcb27ea444eddb94ea5fea77b875c</td>\n",
       "    </tr>\n",
       "    <tr>\n",
       "      <th>4</th>\n",
       "      <td>00017f1d6cce0d56046219a2cfabcbbb</td>\n",
       "      <td>237130c4b6717031ed62d9d0b16fd94f</td>\n",
       "    </tr>\n",
       "  </tbody>\n",
       "</table>\n",
       "</div>"
      ],
      "text/plain": [
       "                        customer_id                customer_unique_id\n",
       "0  0000ca4ff2795842fd6b122c6d974468  ac0e5d7f07043dd32831bdad3b99ad26\n",
       "1  00010f206878ba01f199aec4237de72e  4ed24aaed4079fe0661c0e4b3b420dff\n",
       "2  00012a2ce6f8dcda20d059ce98491703  7e0e291c0f4fc2d69208954d26ed0586\n",
       "3  000161a058600d5901f007fab4c27140  ff1dcb27ea444eddb94ea5fea77b875c\n",
       "4  00017f1d6cce0d56046219a2cfabcbbb  237130c4b6717031ed62d9d0b16fd94f"
      ]
     },
     "metadata": {},
     "output_type": "display_data"
    },
    {
     "name": "stdout",
     "output_type": "stream",
     "text": [
      "(96264, 2)\n"
     ]
    },
    {
     "data": {
      "text/plain": [
       "customer_id           object\n",
       "customer_unique_id    object\n",
       "dtype: object"
      ]
     },
     "execution_count": 4,
     "metadata": {},
     "output_type": "execute_result"
    }
   ],
   "source": [
    "display(public_customers_data.head())\n",
    "print(public_customers_data.shape)\n",
    "public_customers_data.dtypes"
   ]
  },
  {
   "cell_type": "markdown",
   "id": "4524cd46-e03e-488a-9286-ab1aebd7544b",
   "metadata": {},
   "source": [
    "*customer_id* - id заказа;\n",
    "\n",
    "*customer_unique_id* - уникальный id пользователя. "
   ]
  },
  {
   "cell_type": "code",
   "execution_count": 5,
   "id": "79177da1-7f4e-4aa7-a4d5-30525c1adc18",
   "metadata": {},
   "outputs": [
    {
     "name": "stdout",
     "output_type": "stream",
     "text": [
      "customer_id           0\n",
      "customer_unique_id    0\n",
      "dtype: int64\n"
     ]
    }
   ],
   "source": [
    "print(public_customers_data.isna().sum())"
   ]
  },
  {
   "cell_type": "code",
   "execution_count": 6,
   "id": "3f5ccb22-775a-4193-8471-0499e4534e1e",
   "metadata": {},
   "outputs": [
    {
     "name": "stdout",
     "output_type": "stream",
     "text": [
      "customer_unique_id\n",
      "ff4ea78481e00334563aea6d1681f496    10\n",
      "b6169cb608e0a9d1b0ed53b93fe21713    10\n",
      "915f2fe0968adc3e5a76d70ca9326bf5     9\n",
      "779ab1cce17159b31d6a0a4694644455     8\n",
      "4cc4fa5148dca9dd9570607562cffc0e     8\n",
      "                                    ..\n",
      "4efe154c832a40a1fd13279c887c7a3d     1\n",
      "d04dbc7e00a8192de408474473c00c4c     1\n",
      "e81c0d5a636449241742d8f188272d26     1\n",
      "fe196d5896a4446e7a19b1febb3cf17b     1\n",
      "959d47fde7bf9b43e7dc2f5d7373a43a     1\n",
      "Name: count, Length: 92516, dtype: int64\n"
     ]
    }
   ],
   "source": [
    "print(public_customers_data['customer_unique_id'].value_counts())"
   ]
  },
  {
   "cell_type": "markdown",
   "id": "e5c3b150-1a0b-416d-a06e-10faccd605d3",
   "metadata": {},
   "source": [
    "Множественные *customer_unique_id* говорят о том, что один пользователь заказал один и тот же товар несколько раз."
   ]
  },
  {
   "cell_type": "markdown",
   "id": "1a70973f-f5d8-495c-be10-2936ae717539",
   "metadata": {},
   "source": [
    "Этот датасет обрабатывать не нужно, он нужен для объединения с olist_public_dataset_v2.csv"
   ]
  },
  {
   "cell_type": "code",
   "execution_count": 16,
   "id": "4f01f99d-04d1-46a4-82ab-84cb35b8a1c4",
   "metadata": {},
   "outputs": [],
   "source": [
    "df = public_customers_data.copy()"
   ]
  },
  {
   "cell_type": "code",
   "execution_count": 17,
   "id": "fa8bf44c-21ee-4477-baa5-56302290fd11",
   "metadata": {},
   "outputs": [],
   "source": [
    "df.to_parquet(INTERIM_NOTEBOOK_DIR / \"public_customers_data_interim.parquet\", index=False)"
   ]
  }
 ],
 "metadata": {
  "kernelspec": {
   "display_name": "Python 3 (ipykernel)",
   "language": "python",
   "name": "python3"
  },
  "language_info": {
   "codemirror_mode": {
    "name": "ipython",
    "version": 3
   },
   "file_extension": ".py",
   "mimetype": "text/x-python",
   "name": "python",
   "nbconvert_exporter": "python",
   "pygments_lexer": "ipython3",
   "version": "3.13.5"
  }
 },
 "nbformat": 4,
 "nbformat_minor": 5
}
