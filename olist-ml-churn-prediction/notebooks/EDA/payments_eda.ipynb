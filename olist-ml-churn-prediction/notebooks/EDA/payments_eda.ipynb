{
 "cells": [
  {
   "cell_type": "markdown",
   "id": "68421dce-08d0-4bad-9886-eceda7a3d08d",
   "metadata": {},
   "source": [
    "# Информация об оплате (payments_olist_public_dataset.csv)"
   ]
  },
  {
   "cell_type": "code",
   "execution_count": 1,
   "id": "94aba9c3-c2fb-471c-a2c7-4a049b35ac27",
   "metadata": {},
   "outputs": [],
   "source": [
    "import pandas as pd\n",
    "import matplotlib.pyplot as plt\n",
    "import re\n",
    "import seaborn as sns\n",
    "import sys, os\n",
    "import pathlib\n",
    "from pathlib import Path\n",
    "from pydantic import ValidationError\n",
    "from olist_churn_prediction.paths import SRC_DIR, PROCESSED_DIR, INTERIM_DIR"
   ]
  },
  {
   "cell_type": "code",
   "execution_count": 2,
   "id": "a14e42d0-e6b4-4cd1-9445-04436ec4c1a3",
   "metadata": {},
   "outputs": [],
   "source": [
    "sys.path.append(str(SRC_DIR))"
   ]
  },
  {
   "cell_type": "code",
   "execution_count": 3,
   "id": "7b6b43ce-2e1b-4699-bdb9-571861347e2f",
   "metadata": {},
   "outputs": [
    {
     "ename": "TypeError",
     "evalue": "type 'Series' is not subscriptable",
     "output_type": "error",
     "traceback": [
      "\u001b[31m---------------------------------------------------------------------------\u001b[39m",
      "\u001b[31mTypeError\u001b[39m                                 Traceback (most recent call last)",
      "\u001b[36mCell\u001b[39m\u001b[36m \u001b[39m\u001b[32mIn[3]\u001b[39m\u001b[32m, line 2\u001b[39m\n\u001b[32m      1\u001b[39m \u001b[38;5;28;01mfrom\u001b[39;00m\u001b[38;5;250m \u001b[39m\u001b[34;01molist_churn_prediction\u001b[39;00m\u001b[38;5;250m \u001b[39m\u001b[38;5;28;01mimport\u001b[39;00m feature_processing\n\u001b[32m----> \u001b[39m\u001b[32m2\u001b[39m \u001b[38;5;28;01mfrom\u001b[39;00m\u001b[38;5;250m \u001b[39m\u001b[34;01molist_churn_prediction\u001b[39;00m\u001b[34;01m.\u001b[39;00m\u001b[34;01mschemas_raw\u001b[39;00m\u001b[38;5;250m \u001b[39m\u001b[38;5;28;01mimport\u001b[39;00m PaymentsSchemaRaw\n\u001b[32m      3\u001b[39m \u001b[38;5;28;01mfrom\u001b[39;00m\u001b[38;5;250m \u001b[39m\u001b[34;01molist_churn_prediction\u001b[39;00m\u001b[34;01m.\u001b[39;00m\u001b[34;01mpaths\u001b[39;00m\u001b[38;5;250m \u001b[39m\u001b[38;5;28;01mimport\u001b[39;00m RAW_DIR\n",
      "\u001b[36mFile \u001b[39m\u001b[32m~\\Documents\\olist_churn\\olist-ml-churn-prediction\\src\\olist_churn_prediction\\schemas_raw.py:25\u001b[39m\n\u001b[32m     22\u001b[39m             \u001b[38;5;28;01mreturn\u001b[39;00m \u001b[38;5;28;01mNone\u001b[39;00m\n\u001b[32m     23\u001b[39m         \u001b[38;5;28;01mreturn\u001b[39;00m v\n\u001b[32m---> \u001b[39m\u001b[32m25\u001b[39m \u001b[38;5;28;01mclass\u001b[39;00m\u001b[38;5;250m \u001b[39m\u001b[34;01mSellersSchemaRaw\u001b[39;00m(_NaN2NoneMixin):\n\u001b[32m     26\u001b[39m     order_id: pd.Series[\u001b[38;5;28mstr\u001b[39m]\n\u001b[32m     27\u001b[39m     product_id: pd.Series[\u001b[38;5;28mstr\u001b[39m]\n",
      "\u001b[36mFile \u001b[39m\u001b[32mC:\\anaconda\\envs\\olist-ml\\Lib\\site-packages\\pydantic\\_internal\\_model_construction.py:221\u001b[39m, in \u001b[36mModelMetaclass.__new__\u001b[39m\u001b[34m(mcs, cls_name, bases, namespace, __pydantic_generic_metadata__, __pydantic_reset_parent_namespace__, _create_model_module, **kwargs)\u001b[39m\n\u001b[32m    217\u001b[39m     parent_namespace = unpack_lenient_weakvaluedict(parent_namespace)\n\u001b[32m    219\u001b[39m ns_resolver = NsResolver(parent_namespace=parent_namespace)\n\u001b[32m--> \u001b[39m\u001b[32m221\u001b[39m set_model_fields(\u001b[38;5;28mcls\u001b[39m, config_wrapper=config_wrapper, ns_resolver=ns_resolver)\n\u001b[32m    223\u001b[39m \u001b[38;5;66;03m# This is also set in `complete_model_class()`, after schema gen because they are recreated.\u001b[39;00m\n\u001b[32m    224\u001b[39m \u001b[38;5;66;03m# We set them here as well for backwards compatibility:\u001b[39;00m\n\u001b[32m    225\u001b[39m \u001b[38;5;28mcls\u001b[39m.__pydantic_computed_fields__ = {\n\u001b[32m    226\u001b[39m     k: v.info \u001b[38;5;28;01mfor\u001b[39;00m k, v \u001b[38;5;129;01min\u001b[39;00m \u001b[38;5;28mcls\u001b[39m.__pydantic_decorators__.computed_fields.items()\n\u001b[32m    227\u001b[39m }\n",
      "\u001b[36mFile \u001b[39m\u001b[32mC:\\anaconda\\envs\\olist-ml\\Lib\\site-packages\\pydantic\\_internal\\_model_construction.py:544\u001b[39m, in \u001b[36mset_model_fields\u001b[39m\u001b[34m(cls, config_wrapper, ns_resolver)\u001b[39m\n\u001b[32m    536\u001b[39m \u001b[38;5;250m\u001b[39m\u001b[33;03m\"\"\"Collect and set `cls.__pydantic_fields__` and `cls.__class_vars__`.\u001b[39;00m\n\u001b[32m    537\u001b[39m \n\u001b[32m    538\u001b[39m \u001b[33;03mArgs:\u001b[39;00m\n\u001b[32m   (...)\u001b[39m\u001b[32m    541\u001b[39m \u001b[33;03m    ns_resolver: Namespace resolver to use when getting model annotations.\u001b[39;00m\n\u001b[32m    542\u001b[39m \u001b[33;03m\"\"\"\u001b[39;00m\n\u001b[32m    543\u001b[39m typevars_map = get_model_typevars_map(\u001b[38;5;28mcls\u001b[39m)\n\u001b[32m--> \u001b[39m\u001b[32m544\u001b[39m fields, class_vars = collect_model_fields(\u001b[38;5;28mcls\u001b[39m, config_wrapper, ns_resolver, typevars_map=typevars_map)\n\u001b[32m    546\u001b[39m \u001b[38;5;28mcls\u001b[39m.__pydantic_fields__ = fields\n\u001b[32m    547\u001b[39m \u001b[38;5;28mcls\u001b[39m.__class_vars__.update(class_vars)\n",
      "\u001b[36mFile \u001b[39m\u001b[32mC:\\anaconda\\envs\\olist-ml\\Lib\\site-packages\\pydantic\\_internal\\_fields.py:118\u001b[39m, in \u001b[36mcollect_model_fields\u001b[39m\u001b[34m(cls, config_wrapper, ns_resolver, typevars_map)\u001b[39m\n\u001b[32m    115\u001b[39m     \u001b[38;5;28;01mif\u001b[39;00m model_fields := \u001b[38;5;28mgetattr\u001b[39m(base, \u001b[33m'\u001b[39m\u001b[33m__pydantic_fields__\u001b[39m\u001b[33m'\u001b[39m, \u001b[38;5;28;01mNone\u001b[39;00m):\n\u001b[32m    116\u001b[39m         parent_fields_lookup.update(model_fields)\n\u001b[32m--> \u001b[39m\u001b[32m118\u001b[39m type_hints = _typing_extra.get_model_type_hints(\u001b[38;5;28mcls\u001b[39m, ns_resolver=ns_resolver)\n\u001b[32m    120\u001b[39m \u001b[38;5;66;03m# https://docs.python.org/3/howto/annotations.html#accessing-the-annotations-dict-of-an-object-in-python-3-9-and-older\u001b[39;00m\n\u001b[32m    121\u001b[39m \u001b[38;5;66;03m# annotations is only used for finding fields in parent classes\u001b[39;00m\n\u001b[32m    122\u001b[39m annotations = \u001b[38;5;28mcls\u001b[39m.\u001b[34m__dict__\u001b[39m.get(\u001b[33m'\u001b[39m\u001b[33m__annotations__\u001b[39m\u001b[33m'\u001b[39m, {})\n",
      "\u001b[36mFile \u001b[39m\u001b[32mC:\\anaconda\\envs\\olist-ml\\Lib\\site-packages\\pydantic\\_internal\\_typing_extra.py:329\u001b[39m, in \u001b[36mget_model_type_hints\u001b[39m\u001b[34m(obj, ns_resolver)\u001b[39m\n\u001b[32m    327\u001b[39m                     hints[name] = (value, \u001b[38;5;28;01mFalse\u001b[39;00m)\n\u001b[32m    328\u001b[39m             \u001b[38;5;28;01melse\u001b[39;00m:\n\u001b[32m--> \u001b[39m\u001b[32m329\u001b[39m                 hints[name] = try_eval_type(value, globalns, localns)\n\u001b[32m    330\u001b[39m \u001b[38;5;28;01mreturn\u001b[39;00m hints\n",
      "\u001b[36mFile \u001b[39m\u001b[32mC:\\anaconda\\envs\\olist-ml\\Lib\\site-packages\\pydantic\\_internal\\_typing_extra.py:378\u001b[39m, in \u001b[36mtry_eval_type\u001b[39m\u001b[34m(value, globalns, localns)\u001b[39m\n\u001b[32m    375\u001b[39m value = _type_convert(value)\n\u001b[32m    377\u001b[39m \u001b[38;5;28;01mtry\u001b[39;00m:\n\u001b[32m--> \u001b[39m\u001b[32m378\u001b[39m     \u001b[38;5;28;01mreturn\u001b[39;00m eval_type_backport(value, globalns, localns), \u001b[38;5;28;01mTrue\u001b[39;00m\n\u001b[32m    379\u001b[39m \u001b[38;5;28;01mexcept\u001b[39;00m \u001b[38;5;167;01mNameError\u001b[39;00m:\n\u001b[32m    380\u001b[39m     \u001b[38;5;28;01mreturn\u001b[39;00m value, \u001b[38;5;28;01mFalse\u001b[39;00m\n",
      "\u001b[36mFile \u001b[39m\u001b[32mC:\\anaconda\\envs\\olist-ml\\Lib\\site-packages\\pydantic\\_internal\\_typing_extra.py:429\u001b[39m, in \u001b[36meval_type_backport\u001b[39m\u001b[34m(value, globalns, localns, type_params)\u001b[39m\n\u001b[32m    419\u001b[39m \u001b[38;5;250m\u001b[39m\u001b[33;03m\"\"\"An enhanced version of `typing._eval_type` which will fall back to using the `eval_type_backport`\u001b[39;00m\n\u001b[32m    420\u001b[39m \u001b[33;03mpackage if it's installed to let older Python versions use newer typing constructs.\u001b[39;00m\n\u001b[32m    421\u001b[39m \n\u001b[32m   (...)\u001b[39m\u001b[32m    426\u001b[39m \u001b[33;03mThis function will also display a helpful error if the value passed fails to evaluate.\u001b[39;00m\n\u001b[32m    427\u001b[39m \u001b[33;03m\"\"\"\u001b[39;00m\n\u001b[32m    428\u001b[39m \u001b[38;5;28;01mtry\u001b[39;00m:\n\u001b[32m--> \u001b[39m\u001b[32m429\u001b[39m     \u001b[38;5;28;01mreturn\u001b[39;00m _eval_type_backport(value, globalns, localns, type_params)\n\u001b[32m    430\u001b[39m \u001b[38;5;28;01mexcept\u001b[39;00m \u001b[38;5;167;01mTypeError\u001b[39;00m \u001b[38;5;28;01mas\u001b[39;00m e:\n\u001b[32m    431\u001b[39m     \u001b[38;5;28;01mif\u001b[39;00m \u001b[33m'\u001b[39m\u001b[33mUnable to evaluate type annotation\u001b[39m\u001b[33m'\u001b[39m \u001b[38;5;129;01min\u001b[39;00m \u001b[38;5;28mstr\u001b[39m(e):\n",
      "\u001b[36mFile \u001b[39m\u001b[32mC:\\anaconda\\envs\\olist-ml\\Lib\\site-packages\\pydantic\\_internal\\_typing_extra.py:466\u001b[39m, in \u001b[36m_eval_type_backport\u001b[39m\u001b[34m(value, globalns, localns, type_params)\u001b[39m\n\u001b[32m    459\u001b[39m \u001b[38;5;28;01mdef\u001b[39;00m\u001b[38;5;250m \u001b[39m\u001b[34m_eval_type_backport\u001b[39m(\n\u001b[32m    460\u001b[39m     value: Any,\n\u001b[32m    461\u001b[39m     globalns: GlobalsNamespace | \u001b[38;5;28;01mNone\u001b[39;00m = \u001b[38;5;28;01mNone\u001b[39;00m,\n\u001b[32m    462\u001b[39m     localns: MappingNamespace | \u001b[38;5;28;01mNone\u001b[39;00m = \u001b[38;5;28;01mNone\u001b[39;00m,\n\u001b[32m    463\u001b[39m     type_params: \u001b[38;5;28mtuple\u001b[39m[Any, ...] | \u001b[38;5;28;01mNone\u001b[39;00m = \u001b[38;5;28;01mNone\u001b[39;00m,\n\u001b[32m    464\u001b[39m ) -> Any:\n\u001b[32m    465\u001b[39m     \u001b[38;5;28;01mtry\u001b[39;00m:\n\u001b[32m--> \u001b[39m\u001b[32m466\u001b[39m         \u001b[38;5;28;01mreturn\u001b[39;00m _eval_type(value, globalns, localns, type_params)\n\u001b[32m    467\u001b[39m     \u001b[38;5;28;01mexcept\u001b[39;00m \u001b[38;5;167;01mTypeError\u001b[39;00m \u001b[38;5;28;01mas\u001b[39;00m e:\n\u001b[32m    468\u001b[39m         \u001b[38;5;28;01mif\u001b[39;00m \u001b[38;5;129;01mnot\u001b[39;00m (\u001b[38;5;28misinstance\u001b[39m(value, typing.ForwardRef) \u001b[38;5;129;01mand\u001b[39;00m is_backport_fixable_error(e)):\n",
      "\u001b[36mFile \u001b[39m\u001b[32mC:\\anaconda\\envs\\olist-ml\\Lib\\site-packages\\pydantic\\_internal\\_typing_extra.py:496\u001b[39m, in \u001b[36m_eval_type\u001b[39m\u001b[34m(value, globalns, localns, type_params)\u001b[39m\n\u001b[32m    489\u001b[39m \u001b[38;5;28;01mdef\u001b[39;00m\u001b[38;5;250m \u001b[39m\u001b[34m_eval_type\u001b[39m(\n\u001b[32m    490\u001b[39m     value: Any,\n\u001b[32m    491\u001b[39m     globalns: GlobalsNamespace | \u001b[38;5;28;01mNone\u001b[39;00m = \u001b[38;5;28;01mNone\u001b[39;00m,\n\u001b[32m    492\u001b[39m     localns: MappingNamespace | \u001b[38;5;28;01mNone\u001b[39;00m = \u001b[38;5;28;01mNone\u001b[39;00m,\n\u001b[32m    493\u001b[39m     type_params: \u001b[38;5;28mtuple\u001b[39m[Any, ...] | \u001b[38;5;28;01mNone\u001b[39;00m = \u001b[38;5;28;01mNone\u001b[39;00m,\n\u001b[32m    494\u001b[39m ) -> Any:\n\u001b[32m    495\u001b[39m     \u001b[38;5;28;01mif\u001b[39;00m sys.version_info >= (\u001b[32m3\u001b[39m, \u001b[32m13\u001b[39m):\n\u001b[32m--> \u001b[39m\u001b[32m496\u001b[39m         \u001b[38;5;28;01mreturn\u001b[39;00m typing._eval_type(  \u001b[38;5;66;03m# type: ignore\u001b[39;00m\n\u001b[32m    497\u001b[39m             value, globalns, localns, type_params=type_params\n\u001b[32m    498\u001b[39m         )\n\u001b[32m    499\u001b[39m     \u001b[38;5;28;01melse\u001b[39;00m:\n\u001b[32m    500\u001b[39m         \u001b[38;5;28;01mreturn\u001b[39;00m typing._eval_type(  \u001b[38;5;66;03m# type: ignore\u001b[39;00m\n\u001b[32m    501\u001b[39m             value, globalns, localns\n\u001b[32m    502\u001b[39m         )\n",
      "\u001b[36mFile \u001b[39m\u001b[32mC:\\anaconda\\envs\\olist-ml\\Lib\\typing.py:474\u001b[39m, in \u001b[36m_eval_type\u001b[39m\u001b[34m(t, globalns, localns, type_params, recursive_guard)\u001b[39m\n\u001b[32m    472\u001b[39m     type_params = ()\n\u001b[32m    473\u001b[39m \u001b[38;5;28;01mif\u001b[39;00m \u001b[38;5;28misinstance\u001b[39m(t, ForwardRef):\n\u001b[32m--> \u001b[39m\u001b[32m474\u001b[39m     \u001b[38;5;28;01mreturn\u001b[39;00m t._evaluate(globalns, localns, type_params, recursive_guard=recursive_guard)\n\u001b[32m    475\u001b[39m \u001b[38;5;28;01mif\u001b[39;00m \u001b[38;5;28misinstance\u001b[39m(t, (_GenericAlias, GenericAlias, types.UnionType)):\n\u001b[32m    476\u001b[39m     \u001b[38;5;28;01mif\u001b[39;00m \u001b[38;5;28misinstance\u001b[39m(t, GenericAlias):\n",
      "\u001b[36mFile \u001b[39m\u001b[32mC:\\anaconda\\envs\\olist-ml\\Lib\\typing.py:1081\u001b[39m, in \u001b[36mForwardRef._evaluate\u001b[39m\u001b[34m(self, globalns, localns, type_params, recursive_guard)\u001b[39m\n\u001b[32m   1077\u001b[39m             globalns[param_name] = param\n\u001b[32m   1078\u001b[39m             localns.pop(param_name, \u001b[38;5;28;01mNone\u001b[39;00m)\n\u001b[32m   1080\u001b[39m type_ = _type_check(\n\u001b[32m-> \u001b[39m\u001b[32m1081\u001b[39m     \u001b[38;5;28meval\u001b[39m(\u001b[38;5;28mself\u001b[39m.__forward_code__, globalns, localns),\n\u001b[32m   1082\u001b[39m     \u001b[33m\"\u001b[39m\u001b[33mForward references must evaluate to types.\u001b[39m\u001b[33m\"\u001b[39m,\n\u001b[32m   1083\u001b[39m     is_argument=\u001b[38;5;28mself\u001b[39m.__forward_is_argument__,\n\u001b[32m   1084\u001b[39m     allow_special_forms=\u001b[38;5;28mself\u001b[39m.__forward_is_class__,\n\u001b[32m   1085\u001b[39m )\n\u001b[32m   1086\u001b[39m \u001b[38;5;28mself\u001b[39m.__forward_value__ = _eval_type(\n\u001b[32m   1087\u001b[39m     type_,\n\u001b[32m   1088\u001b[39m     globalns,\n\u001b[32m   (...)\u001b[39m\u001b[32m   1091\u001b[39m     recursive_guard=(recursive_guard | {\u001b[38;5;28mself\u001b[39m.__forward_arg__}),\n\u001b[32m   1092\u001b[39m )\n\u001b[32m   1093\u001b[39m \u001b[38;5;28mself\u001b[39m.__forward_evaluated__ = \u001b[38;5;28;01mTrue\u001b[39;00m\n",
      "\u001b[36mFile \u001b[39m\u001b[32m<string>:1\u001b[39m\n",
      "\u001b[31mTypeError\u001b[39m: type 'Series' is not subscriptable",
      "Unable to evaluate type annotation 'pd.Series[str]'."
     ]
    }
   ],
   "source": [
    "from olist_churn_prediction import feature_processing\n",
    "from olist_churn_prediction.schemas_raw import PaymentsSchemaRaw\n",
    "from olist_churn_prediction.paths import RAW_DIR"
   ]
  },
  {
   "cell_type": "code",
   "execution_count": 4,
   "id": "9b80ae5d-e67d-4091-9e73-70050cce98d8",
   "metadata": {},
   "outputs": [],
   "source": [
    "df = pd.read_csv(RAW_DIR / \"payments_olist_public_dataset.csv\", low_memory=False)\n",
    "\n",
    "for i, row in df.head(5).iterrows():\n",
    "    try:\n",
    "        PaymentsSchemaRaw.model_validate(row.to_dict())\n",
    "    except ValidationError as e:\n",
    "        print(f\"\\nRow {i}:\\n{e}\\n\")"
   ]
  },
  {
   "cell_type": "code",
   "execution_count": 5,
   "id": "6b6d9c65-abcd-4372-82da-c1cbda3c3207",
   "metadata": {},
   "outputs": [],
   "source": [
    "payments = feature_processing.load_data(RAW_DIR / \"payments_olist_public_dataset.csv\",\n",
    "                      schema = PaymentsSchemaRaw,\n",
    "                      validate = True) "
   ]
  },
  {
   "cell_type": "code",
   "execution_count": 6,
   "id": "56d0aab7-8ccd-4b64-a906-2f699fe49f5b",
   "metadata": {},
   "outputs": [
    {
     "data": {
      "text/html": [
       "<div>\n",
       "<style scoped>\n",
       "    .dataframe tbody tr th:only-of-type {\n",
       "        vertical-align: middle;\n",
       "    }\n",
       "\n",
       "    .dataframe tbody tr th {\n",
       "        vertical-align: top;\n",
       "    }\n",
       "\n",
       "    .dataframe thead th {\n",
       "        text-align: right;\n",
       "    }\n",
       "</style>\n",
       "<table border=\"1\" class=\"dataframe\">\n",
       "  <thead>\n",
       "    <tr style=\"text-align: right;\">\n",
       "      <th></th>\n",
       "      <th>order_id</th>\n",
       "      <th>installments</th>\n",
       "      <th>sequential</th>\n",
       "      <th>payment_type</th>\n",
       "      <th>value</th>\n",
       "    </tr>\n",
       "  </thead>\n",
       "  <tbody>\n",
       "    <tr>\n",
       "      <th>0</th>\n",
       "      <td>25e8ea4e93396b6fa0d3dd708e76c1bd</td>\n",
       "      <td>1</td>\n",
       "      <td>1</td>\n",
       "      <td>credit_card</td>\n",
       "      <td>65.709999</td>\n",
       "    </tr>\n",
       "    <tr>\n",
       "      <th>1</th>\n",
       "      <td>ba78997921bbcdc1373bb41e913ab953</td>\n",
       "      <td>8</td>\n",
       "      <td>1</td>\n",
       "      <td>credit_card</td>\n",
       "      <td>107.779999</td>\n",
       "    </tr>\n",
       "    <tr>\n",
       "      <th>2</th>\n",
       "      <td>42fdf880ba16b47b59251dd489d4441a</td>\n",
       "      <td>2</td>\n",
       "      <td>1</td>\n",
       "      <td>credit_card</td>\n",
       "      <td>128.449997</td>\n",
       "    </tr>\n",
       "    <tr>\n",
       "      <th>3</th>\n",
       "      <td>771ee386b001f06208a7419e4fc1bbd7</td>\n",
       "      <td>1</td>\n",
       "      <td>1</td>\n",
       "      <td>credit_card</td>\n",
       "      <td>81.160004</td>\n",
       "    </tr>\n",
       "    <tr>\n",
       "      <th>4</th>\n",
       "      <td>62fe0bd75deb58982ebf8e53a128a301</td>\n",
       "      <td>1</td>\n",
       "      <td>1</td>\n",
       "      <td>credit_card</td>\n",
       "      <td>15.820000</td>\n",
       "    </tr>\n",
       "  </tbody>\n",
       "</table>\n",
       "</div>"
      ],
      "text/plain": [
       "                           order_id  installments  sequential payment_type  \\\n",
       "0  25e8ea4e93396b6fa0d3dd708e76c1bd             1           1  credit_card   \n",
       "1  ba78997921bbcdc1373bb41e913ab953             8           1  credit_card   \n",
       "2  42fdf880ba16b47b59251dd489d4441a             2           1  credit_card   \n",
       "3  771ee386b001f06208a7419e4fc1bbd7             1           1  credit_card   \n",
       "4  62fe0bd75deb58982ebf8e53a128a301             1           1  credit_card   \n",
       "\n",
       "        value  \n",
       "0   65.709999  \n",
       "1  107.779999  \n",
       "2  128.449997  \n",
       "3   81.160004  \n",
       "4   15.820000  "
      ]
     },
     "metadata": {},
     "output_type": "display_data"
    },
    {
     "name": "stdout",
     "output_type": "stream",
     "text": [
      "(97433, 5)\n"
     ]
    },
    {
     "data": {
      "text/plain": [
       "order_id        string[python]\n",
       "installments             Int64\n",
       "sequential               Int64\n",
       "payment_type    string[python]\n",
       "value                  float32\n",
       "dtype: object"
      ]
     },
     "execution_count": 6,
     "metadata": {},
     "output_type": "execute_result"
    }
   ],
   "source": [
    "display(payments.head())\n",
    "print(payments.shape)\n",
    "payments.dtypes"
   ]
  },
  {
   "cell_type": "markdown",
   "id": "9c9aea95-3189-4e00-b020-3b3ed161096d",
   "metadata": {},
   "source": [
    "*order_id* - id заказа;\n",
    "\n",
    "*installments* - количество маленьких платежей после разбития. В случае рассрочки *installments* > 1;\n",
    "\n",
    "*sequential* - в случае рассрочки: номер платежа в очереди;\n",
    "\n",
    "*payment_type* - способ оплаты;\n",
    "\n",
    "*value* - сумма платежа."
   ]
  },
  {
   "cell_type": "code",
   "execution_count": 32,
   "id": "5b1ea0d5-588e-48f3-bc8e-e27de6947987",
   "metadata": {},
   "outputs": [
    {
     "name": "stdout",
     "output_type": "stream",
     "text": [
      "order_id        0\n",
      "installments    0\n",
      "sequential      0\n",
      "payment_type    0\n",
      "value           0\n",
      "dtype: int64\n"
     ]
    }
   ],
   "source": [
    "print(payments.isna().sum())"
   ]
  },
  {
   "cell_type": "code",
   "execution_count": 33,
   "id": "503459e4-3dde-46db-8e5b-4961c7d4843c",
   "metadata": {},
   "outputs": [
    {
     "name": "stdout",
     "output_type": "stream",
     "text": [
      "--- order_id ---\n",
      "order_id\n",
      "fa65dad1b0e818e3ccc5cb0e39231352    29\n",
      "03e1841a170fb6f5e24206904efc6fab    27\n",
      "41fb7a8d8f3d73458b618d9e8e6acfc5    26\n",
      "ccf804e764ed5650cd8759557269dc13    26\n",
      "895ab968e7bb0d5659d16cd74cd1650c    21\n",
      "                                    ..\n",
      "29dea474da93a6db101993bd66950030     1\n",
      "803e822a03730624352b85d6bb2727c3     1\n",
      "d19f4ab4bd008d9b26f5eb3afc6cc251     1\n",
      "08155dc6ba79711f958dca6dfa4bbb01     1\n",
      "fbf642fcdceb367d872ffafae54fc09a     1\n",
      "Name: count, Length: 93000, dtype: Int64\n",
      "\n",
      "--- installments ---\n",
      "installments\n",
      "1     48376\n",
      "2     11745\n",
      "3     10106\n",
      "4      6806\n",
      "10     5070\n",
      "5      4940\n",
      "8      3933\n",
      "6      3810\n",
      "7      1649\n",
      "9       652\n",
      "12      129\n",
      "15       71\n",
      "11       31\n",
      "18       29\n",
      "24       25\n",
      "20       15\n",
      "13       12\n",
      "14       12\n",
      "16        8\n",
      "17        4\n",
      "19        3\n",
      "22        2\n",
      "21        2\n",
      "0         2\n",
      "23        1\n",
      "Name: count, dtype: Int64\n",
      "\n",
      "--- sequential ---\n",
      "sequential\n",
      "1     92928\n",
      "2      2939\n",
      "3       583\n",
      "4       295\n",
      "5       177\n",
      "6       118\n",
      "7        83\n",
      "8        59\n",
      "9        50\n",
      "10       40\n",
      "11       33\n",
      "12       24\n",
      "13       17\n",
      "14       13\n",
      "15       10\n",
      "16        8\n",
      "17        8\n",
      "19        7\n",
      "18        7\n",
      "20        5\n",
      "21        5\n",
      "24        4\n",
      "23        4\n",
      "25        4\n",
      "26        4\n",
      "22        4\n",
      "27        2\n",
      "28        1\n",
      "29        1\n",
      "Name: count, dtype: Int64\n",
      "\n",
      "--- payment_type ---\n",
      "payment_type\n",
      "credit_card    71676\n",
      "boleto         18845\n",
      "voucher         5635\n",
      "debit_card      1277\n",
      "Name: count, dtype: Int64\n",
      "\n"
     ]
    }
   ],
   "source": [
    "for col in payments.columns.drop('value'):\n",
    "    print(f\"--- {col} ---\")\n",
    "    print(payments[col].value_counts())\n",
    "    print()"
   ]
  },
  {
   "cell_type": "markdown",
   "id": "22832660-85d2-4a9e-a959-3c19ab979dc9",
   "metadata": {},
   "source": [
    "Удалим строки со значениями installments=0 и value=0:"
   ]
  },
  {
   "cell_type": "code",
   "execution_count": 34,
   "id": "9833074d-0745-465c-abf7-b7a8940fadeb",
   "metadata": {},
   "outputs": [],
   "source": [
    "df = payments.copy()"
   ]
  },
  {
   "cell_type": "code",
   "execution_count": 35,
   "id": "2d76de08-a9b8-48d8-922d-36d2af7a9126",
   "metadata": {},
   "outputs": [
    {
     "name": "stdout",
     "output_type": "stream",
     "text": [
      "                               order_id  installments  sequential  \\\n",
      "44043  744bade1fcf9ff3f31d860ace076d422             0           2   \n",
      "74314  1a57108394169c0b47d8f876acc9ba2d             0           2   \n",
      "\n",
      "      payment_type       value  \n",
      "44043  credit_card   58.689999  \n",
      "74314  credit_card  129.940002  \n",
      "                               order_id  installments  sequential  \\\n",
      "34402  fa65dad1b0e818e3ccc5cb0e39231352             1          14   \n",
      "58923  45ed6e85398a87c253db47c2d9f48216             1           3   \n",
      "73231  fa65dad1b0e818e3ccc5cb0e39231352             1          13   \n",
      "\n",
      "      payment_type  value  \n",
      "34402      voucher    0.0  \n",
      "58923      voucher    0.0  \n",
      "73231      voucher    0.0  \n"
     ]
    }
   ],
   "source": [
    "print(df[df['installments'] == 0])\n",
    "print(df[df['value'] == 0])"
   ]
  },
  {
   "cell_type": "code",
   "execution_count": 36,
   "id": "a7d8199b-b68c-48d0-a959-f585a9ae1bc7",
   "metadata": {},
   "outputs": [],
   "source": [
    "df = df.drop(df[df['installments'] == 0].index)"
   ]
  },
  {
   "cell_type": "code",
   "execution_count": 37,
   "id": "4964c4a0-0a05-44f9-8ddf-8afa111ae70f",
   "metadata": {},
   "outputs": [],
   "source": [
    "df = df.drop(df[df['value'] == 0].index)"
   ]
  },
  {
   "cell_type": "code",
   "execution_count": 38,
   "id": "346d5422-7ce2-42ac-a015-84b30705b82f",
   "metadata": {},
   "outputs": [
    {
     "data": {
      "text/plain": [
       "<Axes: xlabel='value', ylabel='Count'>"
      ]
     },
     "execution_count": 38,
     "metadata": {},
     "output_type": "execute_result"
    },
    {
     "data": {
      "image/png": "[encoded data removed]",
      "text/plain": [
       "<Figure size 640x480 with 1 Axes>"
      ]
     },
     "metadata": {},
     "output_type": "display_data"
    }
   ],
   "source": [
    "sns.histplot(data=df, x='value')"
   ]
  },
  {
   "cell_type": "markdown",
   "id": "0c53c2d0-4c91-4d27-8ac8-96b3a65f46bf",
   "metadata": {},
   "source": [
    "## Выводы из таблицы payments:\n",
    "1. Большинство людей предпочитают платить кредитной картой или boleto - бразильский аналог наличного ваучера.\n",
    "2. Почти все суммы платежей лежат в диапазоне от 0 до 1000.\n",
    "3. Более половины клиентов предпочитают платить одним платежом, а не в рассрочку."
   ]
  },
  {
   "cell_type": "code",
   "execution_count": 39,
   "id": "2525ee95-2188-4a3f-8140-99910908e7fd",
   "metadata": {},
   "outputs": [],
   "source": [
    "df.to_parquet(INTERIM_DIR / \"payments_olist_public_dataset_interim.parquet\", index=False)"
   ]
  }
 ],
 "metadata": {
  "kernelspec": {
   "display_name": "Python 3 (ipykernel)",
   "language": "python",
   "name": "python3"
  },
  "language_info": {
   "codemirror_mode": {
    "name": "ipython",
    "version": 3
   },
   "file_extension": ".py",
   "mimetype": "text/x-python",
   "name": "python",
   "nbconvert_exporter": "python",
   "pygments_lexer": "ipython3",
   "version": "3.13.5"
  }
 },
 "nbformat": 4,
 "nbformat_minor": 5
}
