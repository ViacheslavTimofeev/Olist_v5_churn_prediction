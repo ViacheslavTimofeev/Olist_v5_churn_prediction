{
 "cells": [
  {
   "cell_type": "markdown",
   "id": "68421dce-08d0-4bad-9886-eceda7a3d08d",
   "metadata": {},
   "source": [
    "# Информация об оплате (payments_olist_public_dataset.csv)"
   ]
  },
  {
   "cell_type": "code",
   "execution_count": 15,
   "id": "94aba9c3-c2fb-471c-a2c7-4a049b35ac27",
   "metadata": {},
   "outputs": [],
   "source": [
    "import pandas as pd\n",
    "import seaborn as sns"
   ]
  },
  {
   "cell_type": "code",
   "execution_count": 16,
   "id": "6b6d9c65-abcd-4372-82da-c1cbda3c3207",
   "metadata": {},
   "outputs": [],
   "source": [
    "payments = pd.read_csv(r'C:\\Users\\Вячеслав\\Documents\\olist_churn\\olist-ml-churn-prediction\\data\\raw\\payments_olist_public_dataset.csv')"
   ]
  },
  {
   "cell_type": "code",
   "execution_count": 17,
   "id": "56d0aab7-8ccd-4b64-a906-2f699fe49f5b",
   "metadata": {},
   "outputs": [
    {
     "data": {
      "text/html": [
       "<div>\n",
       "<style scoped>\n",
       "    .dataframe tbody tr th:only-of-type {\n",
       "        vertical-align: middle;\n",
       "    }\n",
       "\n",
       "    .dataframe tbody tr th {\n",
       "        vertical-align: top;\n",
       "    }\n",
       "\n",
       "    .dataframe thead th {\n",
       "        text-align: right;\n",
       "    }\n",
       "</style>\n",
       "<table border=\"1\" class=\"dataframe\">\n",
       "  <thead>\n",
       "    <tr style=\"text-align: right;\">\n",
       "      <th></th>\n",
       "      <th>order_id</th>\n",
       "      <th>installments</th>\n",
       "      <th>sequential</th>\n",
       "      <th>payment_type</th>\n",
       "      <th>value</th>\n",
       "    </tr>\n",
       "  </thead>\n",
       "  <tbody>\n",
       "    <tr>\n",
       "      <th>0</th>\n",
       "      <td>25e8ea4e93396b6fa0d3dd708e76c1bd</td>\n",
       "      <td>1</td>\n",
       "      <td>1</td>\n",
       "      <td>credit_card</td>\n",
       "      <td>65.71</td>\n",
       "    </tr>\n",
       "    <tr>\n",
       "      <th>1</th>\n",
       "      <td>ba78997921bbcdc1373bb41e913ab953</td>\n",
       "      <td>8</td>\n",
       "      <td>1</td>\n",
       "      <td>credit_card</td>\n",
       "      <td>107.78</td>\n",
       "    </tr>\n",
       "    <tr>\n",
       "      <th>2</th>\n",
       "      <td>42fdf880ba16b47b59251dd489d4441a</td>\n",
       "      <td>2</td>\n",
       "      <td>1</td>\n",
       "      <td>credit_card</td>\n",
       "      <td>128.45</td>\n",
       "    </tr>\n",
       "    <tr>\n",
       "      <th>3</th>\n",
       "      <td>771ee386b001f06208a7419e4fc1bbd7</td>\n",
       "      <td>1</td>\n",
       "      <td>1</td>\n",
       "      <td>credit_card</td>\n",
       "      <td>81.16</td>\n",
       "    </tr>\n",
       "    <tr>\n",
       "      <th>4</th>\n",
       "      <td>62fe0bd75deb58982ebf8e53a128a301</td>\n",
       "      <td>1</td>\n",
       "      <td>1</td>\n",
       "      <td>credit_card</td>\n",
       "      <td>15.82</td>\n",
       "    </tr>\n",
       "  </tbody>\n",
       "</table>\n",
       "</div>"
      ],
      "text/plain": [
       "                           order_id  installments  sequential payment_type  \\\n",
       "0  25e8ea4e93396b6fa0d3dd708e76c1bd             1           1  credit_card   \n",
       "1  ba78997921bbcdc1373bb41e913ab953             8           1  credit_card   \n",
       "2  42fdf880ba16b47b59251dd489d4441a             2           1  credit_card   \n",
       "3  771ee386b001f06208a7419e4fc1bbd7             1           1  credit_card   \n",
       "4  62fe0bd75deb58982ebf8e53a128a301             1           1  credit_card   \n",
       "\n",
       "    value  \n",
       "0   65.71  \n",
       "1  107.78  \n",
       "2  128.45  \n",
       "3   81.16  \n",
       "4   15.82  "
      ]
     },
     "metadata": {},
     "output_type": "display_data"
    }
   ],
   "source": [
    "display(payments.head())"
   ]
  },
  {
   "cell_type": "markdown",
   "id": "9c9aea95-3189-4e00-b020-3b3ed161096d",
   "metadata": {},
   "source": [
    "*order_id* - id заказа;\n",
    "\n",
    "*installments* - количество маленьких платежей после разбития. В случае рассрочки *installments* > 1;\n",
    "\n",
    "*sequential* - в случае рассрочки: номер платежа в очереди;\n",
    "\n",
    "*payment_type* - способ оплаты;\n",
    "\n",
    "*value* - сумма платежа."
   ]
  },
  {
   "cell_type": "code",
   "execution_count": 23,
   "id": "503459e4-3dde-46db-8e5b-4961c7d4843c",
   "metadata": {},
   "outputs": [
    {
     "name": "stdout",
     "output_type": "stream",
     "text": [
      "--- order_id ---\n",
      "order_id\n",
      "fa65dad1b0e818e3ccc5cb0e39231352    29\n",
      "03e1841a170fb6f5e24206904efc6fab    27\n",
      "ccf804e764ed5650cd8759557269dc13    26\n",
      "41fb7a8d8f3d73458b618d9e8e6acfc5    26\n",
      "895ab968e7bb0d5659d16cd74cd1650c    21\n",
      "                                    ..\n",
      "6e93e9457b5272a0537dc22cac10bcc1     1\n",
      "ee425836d89fad49cee818bafd1d4d70     1\n",
      "4d387befd269a77ed5ebf7274fac2751     1\n",
      "5cb8558cbb7c0c2f00f43468579d3e3c     1\n",
      "b9941e333ce5995bff0c80b5073fba54     1\n",
      "Name: count, Length: 93000, dtype: int64\n",
      "\n",
      "--- installments ---\n",
      "installments\n",
      "1     48376\n",
      "2     11745\n",
      "3     10106\n",
      "4      6806\n",
      "10     5070\n",
      "5      4940\n",
      "8      3933\n",
      "6      3810\n",
      "7      1649\n",
      "9       652\n",
      "12      129\n",
      "15       71\n",
      "11       31\n",
      "18       29\n",
      "24       25\n",
      "20       15\n",
      "13       12\n",
      "14       12\n",
      "16        8\n",
      "17        4\n",
      "19        3\n",
      "22        2\n",
      "21        2\n",
      "0         2\n",
      "23        1\n",
      "Name: count, dtype: int64\n",
      "\n",
      "--- sequential ---\n",
      "sequential\n",
      "1     92928\n",
      "2      2939\n",
      "3       583\n",
      "4       295\n",
      "5       177\n",
      "6       118\n",
      "7        83\n",
      "8        59\n",
      "9        50\n",
      "10       40\n",
      "11       33\n",
      "12       24\n",
      "13       17\n",
      "14       13\n",
      "15       10\n",
      "17        8\n",
      "16        8\n",
      "19        7\n",
      "18        7\n",
      "21        5\n",
      "20        5\n",
      "23        4\n",
      "26        4\n",
      "25        4\n",
      "24        4\n",
      "22        4\n",
      "27        2\n",
      "29        1\n",
      "28        1\n",
      "Name: count, dtype: int64\n",
      "\n",
      "--- payment_type ---\n",
      "payment_type\n",
      "credit_card    71676\n",
      "boleto         18845\n",
      "voucher         5635\n",
      "debit_card      1277\n",
      "Name: count, dtype: int64\n",
      "\n",
      "--- value ---\n",
      "value\n",
      "50.00     337\n",
      "77.57     292\n",
      "100.00    257\n",
      "20.00     257\n",
      "73.34     199\n",
      "         ... \n",
      "153.15      1\n",
      "97.45       1\n",
      "287.16      1\n",
      "129.49      1\n",
      "366.80      1\n",
      "Name: count, Length: 26724, dtype: int64\n",
      "\n"
     ]
    }
   ],
   "source": [
    "for col in payments.columns:\n",
    "    print(f\"--- {col} ---\")\n",
    "    print(payments[col].value_counts())\n",
    "    print()"
   ]
  },
  {
   "cell_type": "code",
   "execution_count": 19,
   "id": "2de49946-e528-4214-bde0-9302451a6b85",
   "metadata": {},
   "outputs": [
    {
     "name": "stdout",
     "output_type": "stream",
     "text": [
      "(97433, 5)\n"
     ]
    }
   ],
   "source": [
    "print(payments.shape)"
   ]
  },
  {
   "cell_type": "code",
   "execution_count": 20,
   "id": "5b1ea0d5-588e-48f3-bc8e-e27de6947987",
   "metadata": {},
   "outputs": [
    {
     "name": "stdout",
     "output_type": "stream",
     "text": [
      "order_id        0\n",
      "installments    0\n",
      "sequential      0\n",
      "payment_type    0\n",
      "value           0\n",
      "dtype: int64\n"
     ]
    }
   ],
   "source": [
    "print(payments.isna().sum())"
   ]
  },
  {
   "cell_type": "code",
   "execution_count": 22,
   "id": "346d5422-7ce2-42ac-a015-84b30705b82f",
   "metadata": {},
   "outputs": [
    {
     "data": {
      "text/plain": [
       "<Axes: xlabel='value', ylabel='Count'>"
      ]
     },
     "execution_count": 22,
     "metadata": {},
     "output_type": "execute_result"
    },
    {
     "data": {
      "image/png": "[encoded data removed]",
      "text/plain": [
       "<Figure size 640x480 with 1 Axes>"
      ]
     },
     "metadata": {},
     "output_type": "display_data"
    }
   ],
   "source": [
    "sns.histplot(data=payments, x='value')"
   ]
  },
  {
   "cell_type": "markdown",
   "id": "0c53c2d0-4c91-4d27-8ac8-96b3a65f46bf",
   "metadata": {},
   "source": [
    "## Выводы из таблицы payments:\n",
    "1. Большинство людей предпочитают платить кредитной картой или boleto - бразильский аналог наличного ваучера.\n",
    "2. Почти все суммы платежей лежат в диапазоне от 0 до 1000.\n",
    "3. Более половины клиентов предпочитают платить одним платежом, а не в рассрочку."
   ]
  }
 ],
 "metadata": {
  "kernelspec": {
   "display_name": "Python 3 (ipykernel)",
   "language": "python",
   "name": "python3"
  },
  "language_info": {
   "codemirror_mode": {
    "name": "ipython",
    "version": 3
   },
   "file_extension": ".py",
   "mimetype": "text/x-python",
   "name": "python",
   "nbconvert_exporter": "python",
   "pygments_lexer": "ipython3",
   "version": "3.12.11"
  }
 },
 "nbformat": 4,
 "nbformat_minor": 5
}
