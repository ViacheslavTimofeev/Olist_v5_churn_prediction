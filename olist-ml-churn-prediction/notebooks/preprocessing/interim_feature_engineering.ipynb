{
 "cells": [
  {
   "cell_type": "markdown",
   "id": "5bbbf413-825d-4840-adb7-98a8c018f7f1",
   "metadata": {},
   "source": [
    "# Создание новых признаков для таблиц"
   ]
  },
  {
   "cell_type": "code",
   "execution_count": 1,
   "id": "d66ec8ed-44c0-4cfc-9983-17aa9994360a",
   "metadata": {},
   "outputs": [],
   "source": [
    "import pandas as pd\n",
    "import matplotlib.pyplot as plt\n",
    "import re\n",
    "import seaborn as sns\n",
    "import sys, os\n",
    "import pathlib\n",
    "from pathlib import Path\n",
    "from pydantic import ValidationError\n",
    "from olist_churn_prediction.paths import SRC_DIR, PROCESSED_DIR, INTERIM_DIR, RAW_DIR\n",
    "from olist_churn_prediction import feature_processing, feature_engineering"
   ]
  },
  {
   "cell_type": "markdown",
   "id": "19a2ce6a-0391-4fe1-9c76-ac66912e5133",
   "metadata": {},
   "source": [
    "## classified_data_interim"
   ]
  },
  {
   "cell_type": "code",
   "execution_count": null,
   "id": "d6e15fd2-60b2-4cd6-adf4-364475446f10",
   "metadata": {},
   "outputs": [],
   "source": [
    "from olist_churn_prediction.schemas_interim import MainClassifiedSchemaInterim\n",
    "\n",
    "classified_data = feature_processing.load_data(INTERIM_DIR / \"classified_data_interim.parquet\",\n",
    "                      schema = MainClassifiedSchemaInterim,\n",
    "                      validate = True) # в проде можно False"
   ]
  },
  {
   "cell_type": "markdown",
   "id": "a75b44d8-cc70-4e12-ad38-4caa75af9891",
   "metadata": {},
   "source": [
    "### Создание временных признаков"
   ]
  },
  {
   "cell_type": "markdown",
   "id": "cc00c49b-217f-40bc-bd97-09fb1ed971e3",
   "metadata": {},
   "source": [
    "#### На основе временных признаков можно создать новые полезные и хорошо интерпретируемые:\n",
    "1. Время между оплатой заказа и подтверждением заказа на сайте (order_approved_at - order_purchase_timestamp).\n",
    "2. Время между подтверждением заказа и ориентировочным времени доставки (order_estimated_delivery_date - order_aproved_at).\n",
    "3. Время между фактическим времени доставки и ожидаемым (order_delivered_customer_date - order_estimated_delivery_date).\n",
    "4. Время между рассылкой с просьбой оценить качество и ответом покупателя (review_answer_timestamp - review_creation_date).\n",
    "5. Время между подтверждением заказа и его прибытием (order_delivered_customer_date - order_aproved_at)."
   ]
  },
  {
   "cell_type": "code",
   "execution_count": null,
   "id": "41906fd9-a9f2-4570-8a9a-3026a1efbd66",
   "metadata": {},
   "outputs": [],
   "source": [
    "def new_time_features(data, feature_1, feature_2):\n",
    "    return (data[feature_2] - data[feature_1]).dt.total_seconds() / 3600"
   ]
  },
  {
   "cell_type": "code",
   "execution_count": null,
   "id": "f28c9c9b-7ba7-40bf-b02c-46de6f9fba03",
   "metadata": {},
   "outputs": [],
   "source": [
    "df['aproved-purchased'] = new_time_features(df, 'order_purchase_timestamp', 'order_aproved_at')\n",
    "df['estimated_delivery-aproved'] = new_time_features(df, 'order_aproved_at', 'order_estimated_delivery_date')\n",
    "df['actual_delivery-estimated_delivery'] = new_time_features(df, 'order_estimated_delivery_date', 'order_delivered_customer_date')\n",
    "df['review_answer-review_creation'] = new_time_features(df, 'review_creation_date', 'review_answer_timestamp')\n",
    "df['actual_delivery-aproved'] = new_time_features(df, 'order_aproved_at', 'order_delivered_customer_date')"
   ]
  },
  {
   "cell_type": "code",
   "execution_count": null,
   "id": "453f7cd6-99a8-4751-8268-5150756e1cae",
   "metadata": {},
   "outputs": [],
   "source": [
    "display(df[['aproved-purchased', 'estimated_delivery-aproved', 'actual_delivery-estimated_delivery', 'review_answer-review_creation', 'actual_delivery-aproved']].head())"
   ]
  },
  {
   "cell_type": "markdown",
   "id": "0363ffac-ff22-40de-b9cc-8d85c961843b",
   "metadata": {},
   "source": [
    "#### Значения показывают количество часов разницы. В случае с разницей в доставке число отрицательное если заказ был доставлен раньше ориентировочного числа (скорее хорошо), и положительное, если была задержка по сравнению с ориентировочным числом (скорее плохо)."
   ]
  },
  {
   "cell_type": "markdown",
   "id": "293ad4a9-1199-478b-9479-c9dd048c02fd",
   "metadata": {},
   "source": [
    "## Новые классы из votes-признаков"
   ]
  },
  {
   "cell_type": "code",
   "execution_count": null,
   "id": "18b591fb-c0c8-44ed-bf6e-04a3debbade5",
   "metadata": {},
   "outputs": [],
   "source": [
    "# max_votes: максимальное число голосов в строке\n",
    "# ties_mask: True там, где столбец == max_votes\n",
    "max_votes  = df[votes_features].max(axis=1)\n",
    "ties_mask  = df[votes_features].eq(max_votes, axis=0) # широкая матрица True/False такой же формы\n",
    "\n",
    "display(max_votes.head())\n",
    "display(ties_mask.head())"
   ]
  },
  {
   "cell_type": "code",
   "execution_count": null,
   "id": "2d2ec07b-cb17-44ce-a24d-18b7462bd554",
   "metadata": {},
   "outputs": [],
   "source": [
    "# формируем новые индикаторы\n",
    "new_cols = [c.replace('votes_', '') for c in votes_features] # ['satisfied', 'partial_delivery', 'not_as_anounced', ...]\n",
    "df[new_cols] = ties_mask.astype(int).values # True→1, False→0"
   ]
  },
  {
   "cell_type": "code",
   "execution_count": null,
   "id": "ae9130e0-23af-4772-ab18-5206ed5fdb66",
   "metadata": {},
   "outputs": [],
   "source": [
    "display(df[new_cols].head())"
   ]
  }
 ],
 "metadata": {
  "kernelspec": {
   "display_name": "Python 3 (ipykernel)",
   "language": "python",
   "name": "python3"
  },
  "language_info": {
   "codemirror_mode": {
    "name": "ipython",
    "version": 3
   },
   "file_extension": ".py",
   "mimetype": "text/x-python",
   "name": "python",
   "nbconvert_exporter": "python",
   "pygments_lexer": "ipython3",
   "version": "3.13.5"
  }
 },
 "nbformat": 4,
 "nbformat_minor": 5
}
