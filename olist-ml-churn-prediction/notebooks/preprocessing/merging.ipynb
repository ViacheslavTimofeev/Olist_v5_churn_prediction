{
 "cells": [
  {
   "cell_type": "markdown",
   "id": "c1d88688-40a3-4f84-8c59-6edefdfab874",
   "metadata": {},
   "source": [
    "# Объединение таблиц"
   ]
  },
  {
   "cell_type": "code",
   "execution_count": 1,
   "id": "ab89907c-38cf-4a25-a57f-8cc7d95417d8",
   "metadata": {},
   "outputs": [],
   "source": [
    "import pandas as pd\n",
    "import matplotlib.pyplot as plt\n",
    "import re\n",
    "import seaborn as sns\n",
    "import sys, os\n",
    "import pathlib\n",
    "from pathlib import Path\n",
    "from pydantic import ValidationError\n",
    "from olist_churn_prediction.paths import SRC_DIR, PROCESSED_DIR, INTERIM_DIR"
   ]
  },
  {
   "cell_type": "code",
   "execution_count": 2,
   "id": "bb595a94-afab-4468-ac52-47bc15037f3f",
   "metadata": {},
   "outputs": [],
   "source": [
    "sys.path.append(str(SRC_DIR))"
   ]
  },
  {
   "cell_type": "code",
   "execution_count": 2,
   "id": "b6e84adb-da7e-4e52-be29-77c91c2d9c9d",
   "metadata": {},
   "outputs": [],
   "source": [
    "from olist_churn_prediction import feature_processing, feature_engineering\n",
    "from olist_churn_prediction.schemas_interim import GeolocationSchemaInterim, MainClassifiedSchemaInterim, PaymentsSchemaInterim, MeasuresSchemaInterim, CustomersSchemaInterim, SellersSchemaInterim\n",
    "from olist_churn_prediction.paths import RAW_DIR"
   ]
  },
  {
   "cell_type": "code",
   "execution_count": 3,
   "id": "90fc201d-a4ee-4337-83ed-d70eb3d16d0b",
   "metadata": {},
   "outputs": [],
   "source": [
    "geolocation_data = feature_processing.load_data(INTERIM_DIR / \"geolocation_olist_public_dataset_interim.parquet\",\n",
    "                      schema = GeolocationSchemaInterim,\n",
    "                      validate = True)"
   ]
  },
  {
   "cell_type": "code",
   "execution_count": 4,
   "id": "72b3d247-849e-4314-9a08-1a08dd8053fd",
   "metadata": {},
   "outputs": [
    {
     "data": {
      "text/html": [
       "<div>\n",
       "<style scoped>\n",
       "    .dataframe tbody tr th:only-of-type {\n",
       "        vertical-align: middle;\n",
       "    }\n",
       "\n",
       "    .dataframe tbody tr th {\n",
       "        vertical-align: top;\n",
       "    }\n",
       "\n",
       "    .dataframe thead th {\n",
       "        text-align: right;\n",
       "    }\n",
       "</style>\n",
       "<table border=\"1\" class=\"dataframe\">\n",
       "  <thead>\n",
       "    <tr style=\"text-align: right;\">\n",
       "      <th></th>\n",
       "      <th>zip_code_prefix</th>\n",
       "      <th>city</th>\n",
       "      <th>state</th>\n",
       "      <th>lat</th>\n",
       "      <th>lng</th>\n",
       "    </tr>\n",
       "  </thead>\n",
       "  <tbody>\n",
       "    <tr>\n",
       "      <th>0</th>\n",
       "      <td>010</td>\n",
       "      <td>sao_paulo</td>\n",
       "      <td>sp</td>\n",
       "      <td>-23.547808</td>\n",
       "      <td>-46.636124</td>\n",
       "    </tr>\n",
       "    <tr>\n",
       "      <th>1</th>\n",
       "      <td>010</td>\n",
       "      <td>sao_paulo</td>\n",
       "      <td>sp</td>\n",
       "      <td>-23.546082</td>\n",
       "      <td>-46.644821</td>\n",
       "    </tr>\n",
       "    <tr>\n",
       "      <th>2</th>\n",
       "      <td>010</td>\n",
       "      <td>sao_paulo</td>\n",
       "      <td>sp</td>\n",
       "      <td>-23.540983</td>\n",
       "      <td>-46.642567</td>\n",
       "    </tr>\n",
       "    <tr>\n",
       "      <th>3</th>\n",
       "      <td>010</td>\n",
       "      <td>sao_paulo</td>\n",
       "      <td>sp</td>\n",
       "      <td>-23.546759</td>\n",
       "      <td>-46.645771</td>\n",
       "    </tr>\n",
       "    <tr>\n",
       "      <th>4</th>\n",
       "      <td>010</td>\n",
       "      <td>sao_paulo</td>\n",
       "      <td>sp</td>\n",
       "      <td>-23.546362</td>\n",
       "      <td>-46.643074</td>\n",
       "    </tr>\n",
       "  </tbody>\n",
       "</table>\n",
       "</div>"
      ],
      "text/plain": [
       "  zip_code_prefix       city state        lat        lng\n",
       "0             010  sao_paulo    sp -23.547808 -46.636124\n",
       "1             010  sao_paulo    sp -23.546082 -46.644821\n",
       "2             010  sao_paulo    sp -23.540983 -46.642567\n",
       "3             010  sao_paulo    sp -23.546759 -46.645771\n",
       "4             010  sao_paulo    sp -23.546362 -46.643074"
      ]
     },
     "metadata": {},
     "output_type": "display_data"
    },
    {
     "name": "stdout",
     "output_type": "stream",
     "text": [
      "(323016, 5)\n"
     ]
    },
    {
     "data": {
      "text/plain": [
       "zip_code_prefix    string[python]\n",
       "city               string[python]\n",
       "state              string[python]\n",
       "lat                       float32\n",
       "lng                       float32\n",
       "dtype: object"
      ]
     },
     "execution_count": 4,
     "metadata": {},
     "output_type": "execute_result"
    }
   ],
   "source": [
    "display(geolocation_data.head())\n",
    "print(geolocation_data.shape)\n",
    "geolocation_data.dtypes"
   ]
  },
  {
   "cell_type": "code",
   "execution_count": 14,
   "id": "a8c54951-e78a-4644-8d57-e317f3f5fb33",
   "metadata": {},
   "outputs": [],
   "source": [
    "payments_data = feature_processing.load_data(INTERIM_DIR / \"payments_olist_public_dataset_interim.parquet\",\n",
    "                      schema = PaymentsSchemaInterim,\n",
    "                      validate = True)"
   ]
  },
  {
   "cell_type": "code",
   "execution_count": 15,
   "id": "08509e61-ed76-4ba6-a259-3e4fd49fc241",
   "metadata": {},
   "outputs": [
    {
     "data": {
      "text/html": [
       "<div>\n",
       "<style scoped>\n",
       "    .dataframe tbody tr th:only-of-type {\n",
       "        vertical-align: middle;\n",
       "    }\n",
       "\n",
       "    .dataframe tbody tr th {\n",
       "        vertical-align: top;\n",
       "    }\n",
       "\n",
       "    .dataframe thead th {\n",
       "        text-align: right;\n",
       "    }\n",
       "</style>\n",
       "<table border=\"1\" class=\"dataframe\">\n",
       "  <thead>\n",
       "    <tr style=\"text-align: right;\">\n",
       "      <th></th>\n",
       "      <th>order_id</th>\n",
       "      <th>installments</th>\n",
       "      <th>sequential</th>\n",
       "      <th>payment_type</th>\n",
       "      <th>value</th>\n",
       "    </tr>\n",
       "  </thead>\n",
       "  <tbody>\n",
       "    <tr>\n",
       "      <th>0</th>\n",
       "      <td>25e8ea4e93396b6fa0d3dd708e76c1bd</td>\n",
       "      <td>1</td>\n",
       "      <td>1</td>\n",
       "      <td>credit_card</td>\n",
       "      <td>65.709999</td>\n",
       "    </tr>\n",
       "    <tr>\n",
       "      <th>1</th>\n",
       "      <td>ba78997921bbcdc1373bb41e913ab953</td>\n",
       "      <td>8</td>\n",
       "      <td>1</td>\n",
       "      <td>credit_card</td>\n",
       "      <td>107.779999</td>\n",
       "    </tr>\n",
       "    <tr>\n",
       "      <th>2</th>\n",
       "      <td>42fdf880ba16b47b59251dd489d4441a</td>\n",
       "      <td>2</td>\n",
       "      <td>1</td>\n",
       "      <td>credit_card</td>\n",
       "      <td>128.449997</td>\n",
       "    </tr>\n",
       "    <tr>\n",
       "      <th>3</th>\n",
       "      <td>771ee386b001f06208a7419e4fc1bbd7</td>\n",
       "      <td>1</td>\n",
       "      <td>1</td>\n",
       "      <td>credit_card</td>\n",
       "      <td>81.160004</td>\n",
       "    </tr>\n",
       "    <tr>\n",
       "      <th>4</th>\n",
       "      <td>62fe0bd75deb58982ebf8e53a128a301</td>\n",
       "      <td>1</td>\n",
       "      <td>1</td>\n",
       "      <td>credit_card</td>\n",
       "      <td>15.820000</td>\n",
       "    </tr>\n",
       "  </tbody>\n",
       "</table>\n",
       "</div>"
      ],
      "text/plain": [
       "                           order_id  installments  sequential payment_type  \\\n",
       "0  25e8ea4e93396b6fa0d3dd708e76c1bd             1           1  credit_card   \n",
       "1  ba78997921bbcdc1373bb41e913ab953             8           1  credit_card   \n",
       "2  42fdf880ba16b47b59251dd489d4441a             2           1  credit_card   \n",
       "3  771ee386b001f06208a7419e4fc1bbd7             1           1  credit_card   \n",
       "4  62fe0bd75deb58982ebf8e53a128a301             1           1  credit_card   \n",
       "\n",
       "        value  \n",
       "0   65.709999  \n",
       "1  107.779999  \n",
       "2  128.449997  \n",
       "3   81.160004  \n",
       "4   15.820000  "
      ]
     },
     "metadata": {},
     "output_type": "display_data"
    },
    {
     "data": {
      "text/plain": [
       "(97428, 5)"
      ]
     },
     "execution_count": 15,
     "metadata": {},
     "output_type": "execute_result"
    }
   ],
   "source": [
    "display(payments_data.head())\n",
    "payments_data.shape"
   ]
  },
  {
   "cell_type": "code",
   "execution_count": 16,
   "id": "8dfbb48c-4815-449c-93fa-78555ee8de4c",
   "metadata": {},
   "outputs": [
    {
     "name": "stdout",
     "output_type": "stream",
     "text": [
      "(92119, 5)\n"
     ]
    }
   ],
   "source": [
    "# Группировка: множество payment_type по каждому user_id\n",
    "type_counts = payments_data.groupby(\"order_id\")[\"payment_type\"].nunique()\n",
    "\n",
    "# Оставляем только те user_id, где один уникальный тип оплаты\n",
    "consistent_users = type_counts[type_counts == 1].index\n",
    "\n",
    "# Фильтрация исходного DataFrame\n",
    "filtered_df = payments_data[payments_data[\"order_id\"].isin(consistent_users)]\n",
    "\n",
    "print(filtered_df.shape)"
   ]
  },
  {
   "cell_type": "markdown",
   "id": "8ab03890-359b-44d2-80b1-487e3f1d5092",
   "metadata": {},
   "source": [
    "#### Количество заказов с одним способом оплаты - 92119, изначальное количество - 97428. Решено убрать признак payment_type для сохранения числа заказов."
   ]
  },
  {
   "cell_type": "code",
   "execution_count": 17,
   "id": "34858ae0-4d1e-4c26-9d53-4fcd16a60b07",
   "metadata": {},
   "outputs": [],
   "source": [
    "payments_data = payments_data.drop('payment_type', axis=1)"
   ]
  },
  {
   "cell_type": "markdown",
   "id": "b5d8872f-259e-4895-84bc-690cf01a28c5",
   "metadata": {},
   "source": [
    "#### Сгруппируем по order_id:"
   ]
  },
  {
   "cell_type": "code",
   "execution_count": 27,
   "id": "0d662c81-9e40-4530-9d00-7a1b60fb78ad",
   "metadata": {},
   "outputs": [],
   "source": [
    "payments_data_grouped = filtered_df.groupby(\"order_id\").agg({\n",
    "    \"value\": \"sum\",\n",
    "    \"installments\": \"max\",\n",
    "    \"sequential\": \"count\"}).reset_index()"
   ]
  },
  {
   "cell_type": "code",
   "execution_count": 29,
   "id": "5641cbc7-ca11-417f-bb82-4f93c118928c",
   "metadata": {},
   "outputs": [
    {
     "data": {
      "text/html": [
       "<div>\n",
       "<style scoped>\n",
       "    .dataframe tbody tr th:only-of-type {\n",
       "        vertical-align: middle;\n",
       "    }\n",
       "\n",
       "    .dataframe tbody tr th {\n",
       "        vertical-align: top;\n",
       "    }\n",
       "\n",
       "    .dataframe thead th {\n",
       "        text-align: right;\n",
       "    }\n",
       "</style>\n",
       "<table border=\"1\" class=\"dataframe\">\n",
       "  <thead>\n",
       "    <tr style=\"text-align: right;\">\n",
       "      <th></th>\n",
       "      <th>order_id</th>\n",
       "      <th>value</th>\n",
       "      <th>installments</th>\n",
       "      <th>sequential</th>\n",
       "    </tr>\n",
       "  </thead>\n",
       "  <tbody>\n",
       "    <tr>\n",
       "      <th>0</th>\n",
       "      <td>0000f01da58c553799200eb71eb0563b</td>\n",
       "      <td>72.900002</td>\n",
       "      <td>1</td>\n",
       "      <td>1</td>\n",
       "    </tr>\n",
       "    <tr>\n",
       "      <th>1</th>\n",
       "      <td>00010242fe8c5a6d1ba2dd792cb16214</td>\n",
       "      <td>72.190002</td>\n",
       "      <td>2</td>\n",
       "      <td>1</td>\n",
       "    </tr>\n",
       "    <tr>\n",
       "      <th>2</th>\n",
       "      <td>00026c8a4fe2c14efa2afe807921981c</td>\n",
       "      <td>477.279999</td>\n",
       "      <td>1</td>\n",
       "      <td>1</td>\n",
       "    </tr>\n",
       "    <tr>\n",
       "      <th>3</th>\n",
       "      <td>000312d02b605a8a630c3a9882793ffb</td>\n",
       "      <td>673.200012</td>\n",
       "      <td>10</td>\n",
       "      <td>1</td>\n",
       "    </tr>\n",
       "    <tr>\n",
       "      <th>4</th>\n",
       "      <td>00042b26cf59d7ce69dfabb4e55b4fd9</td>\n",
       "      <td>218.039993</td>\n",
       "      <td>3</td>\n",
       "      <td>1</td>\n",
       "    </tr>\n",
       "  </tbody>\n",
       "</table>\n",
       "</div>"
      ],
      "text/plain": [
       "                           order_id       value  installments  sequential\n",
       "0  0000f01da58c553799200eb71eb0563b   72.900002             1           1\n",
       "1  00010242fe8c5a6d1ba2dd792cb16214   72.190002             2           1\n",
       "2  00026c8a4fe2c14efa2afe807921981c  477.279999             1           1\n",
       "3  000312d02b605a8a630c3a9882793ffb  673.200012            10           1\n",
       "4  00042b26cf59d7ce69dfabb4e55b4fd9  218.039993             3           1"
      ]
     },
     "metadata": {},
     "output_type": "display_data"
    }
   ],
   "source": [
    "display(payments_data_grouped.head())"
   ]
  },
  {
   "cell_type": "code",
   "execution_count": 30,
   "id": "73215c0d-c84a-43e3-bedd-8837b2b1b102",
   "metadata": {},
   "outputs": [],
   "source": [
    "#payments_data_grouped.to_parquet(INTERIM_DIR / \"payments_grouped_interim.parquet\", index=False)"
   ]
  },
  {
   "cell_type": "code",
   "execution_count": 19,
   "id": "926bdbdd-357d-44a8-b5b3-a64f6c60d8f0",
   "metadata": {},
   "outputs": [],
   "source": [
    "measures_data = feature_processing.load_data(INTERIM_DIR / \"product_measures_olist_public_dataset_interim.parquet\",\n",
    "                      schema = MeasuresSchemaInterim,\n",
    "                      validate = True)"
   ]
  },
  {
   "cell_type": "code",
   "execution_count": 20,
   "id": "9e0045b4-5136-4e1c-a8d3-1ea62c11da35",
   "metadata": {},
   "outputs": [
    {
     "data": {
      "text/html": [
       "<div>\n",
       "<style scoped>\n",
       "    .dataframe tbody tr th:only-of-type {\n",
       "        vertical-align: middle;\n",
       "    }\n",
       "\n",
       "    .dataframe tbody tr th {\n",
       "        vertical-align: top;\n",
       "    }\n",
       "\n",
       "    .dataframe thead th {\n",
       "        text-align: right;\n",
       "    }\n",
       "</style>\n",
       "<table border=\"1\" class=\"dataframe\">\n",
       "  <thead>\n",
       "    <tr style=\"text-align: right;\">\n",
       "      <th></th>\n",
       "      <th>product_id</th>\n",
       "      <th>product_weight_g</th>\n",
       "      <th>product_length_cm</th>\n",
       "      <th>product_height_cm</th>\n",
       "      <th>product_width_cm</th>\n",
       "    </tr>\n",
       "  </thead>\n",
       "  <tbody>\n",
       "    <tr>\n",
       "      <th>0</th>\n",
       "      <td>00faa46f36261af8bbf3a4d37fa4841b</td>\n",
       "      <td>100.0</td>\n",
       "      <td>21.0</td>\n",
       "      <td>9.0</td>\n",
       "      <td>14.0</td>\n",
       "    </tr>\n",
       "    <tr>\n",
       "      <th>1</th>\n",
       "      <td>b497d0032ea073dd58bbd2d7809d25b3</td>\n",
       "      <td>750.0</td>\n",
       "      <td>23.0</td>\n",
       "      <td>5.0</td>\n",
       "      <td>15.0</td>\n",
       "    </tr>\n",
       "    <tr>\n",
       "      <th>2</th>\n",
       "      <td>96bd76ec8810374ed1b65e291975717f</td>\n",
       "      <td>200.0</td>\n",
       "      <td>16.0</td>\n",
       "      <td>6.0</td>\n",
       "      <td>19.5</td>\n",
       "    </tr>\n",
       "    <tr>\n",
       "      <th>3</th>\n",
       "      <td>506110a1603e772a8ff52ea1f0b0431d</td>\n",
       "      <td>200.0</td>\n",
       "      <td>16.0</td>\n",
       "      <td>13.0</td>\n",
       "      <td>13.0</td>\n",
       "    </tr>\n",
       "    <tr>\n",
       "      <th>4</th>\n",
       "      <td>feb593f17c2f51af2932dbba3e99f1cb</td>\n",
       "      <td>50.0</td>\n",
       "      <td>35.0</td>\n",
       "      <td>4.0</td>\n",
       "      <td>26.0</td>\n",
       "    </tr>\n",
       "  </tbody>\n",
       "</table>\n",
       "</div>"
      ],
      "text/plain": [
       "                         product_id  product_weight_g  product_length_cm  \\\n",
       "0  00faa46f36261af8bbf3a4d37fa4841b             100.0               21.0   \n",
       "1  b497d0032ea073dd58bbd2d7809d25b3             750.0               23.0   \n",
       "2  96bd76ec8810374ed1b65e291975717f             200.0               16.0   \n",
       "3  506110a1603e772a8ff52ea1f0b0431d             200.0               16.0   \n",
       "4  feb593f17c2f51af2932dbba3e99f1cb              50.0               35.0   \n",
       "\n",
       "   product_height_cm  product_width_cm  \n",
       "0                9.0              14.0  \n",
       "1                5.0              15.0  \n",
       "2                6.0              19.5  \n",
       "3               13.0              13.0  \n",
       "4                4.0              26.0  "
      ]
     },
     "metadata": {},
     "output_type": "display_data"
    },
    {
     "data": {
      "text/plain": [
       "(24439, 5)"
      ]
     },
     "execution_count": 20,
     "metadata": {},
     "output_type": "execute_result"
    }
   ],
   "source": [
    "display(measures_data.head())\n",
    "measures_data.shape"
   ]
  },
  {
   "cell_type": "code",
   "execution_count": 31,
   "id": "2a2652e9-4bb1-4317-9d41-4072c9b3e877",
   "metadata": {},
   "outputs": [],
   "source": [
    "customers_data = feature_processing.load_data(INTERIM_DIR / \"public_customers_data_interim.parquet\",\n",
    "                      schema = CustomersSchemaInterim,\n",
    "                      validate = True)"
   ]
  },
  {
   "cell_type": "code",
   "execution_count": 32,
   "id": "ad1cdcdc-310f-40cb-87d3-ae171b023fde",
   "metadata": {},
   "outputs": [
    {
     "data": {
      "text/html": [
       "<div>\n",
       "<style scoped>\n",
       "    .dataframe tbody tr th:only-of-type {\n",
       "        vertical-align: middle;\n",
       "    }\n",
       "\n",
       "    .dataframe tbody tr th {\n",
       "        vertical-align: top;\n",
       "    }\n",
       "\n",
       "    .dataframe thead th {\n",
       "        text-align: right;\n",
       "    }\n",
       "</style>\n",
       "<table border=\"1\" class=\"dataframe\">\n",
       "  <thead>\n",
       "    <tr style=\"text-align: right;\">\n",
       "      <th></th>\n",
       "      <th>customer_id</th>\n",
       "      <th>customer_unique_id</th>\n",
       "    </tr>\n",
       "  </thead>\n",
       "  <tbody>\n",
       "    <tr>\n",
       "      <th>0</th>\n",
       "      <td>0000ca4ff2795842fd6b122c6d974468</td>\n",
       "      <td>ac0e5d7f07043dd32831bdad3b99ad26</td>\n",
       "    </tr>\n",
       "    <tr>\n",
       "      <th>1</th>\n",
       "      <td>00010f206878ba01f199aec4237de72e</td>\n",
       "      <td>4ed24aaed4079fe0661c0e4b3b420dff</td>\n",
       "    </tr>\n",
       "    <tr>\n",
       "      <th>2</th>\n",
       "      <td>00012a2ce6f8dcda20d059ce98491703</td>\n",
       "      <td>7e0e291c0f4fc2d69208954d26ed0586</td>\n",
       "    </tr>\n",
       "    <tr>\n",
       "      <th>3</th>\n",
       "      <td>000161a058600d5901f007fab4c27140</td>\n",
       "      <td>ff1dcb27ea444eddb94ea5fea77b875c</td>\n",
       "    </tr>\n",
       "    <tr>\n",
       "      <th>4</th>\n",
       "      <td>00017f1d6cce0d56046219a2cfabcbbb</td>\n",
       "      <td>237130c4b6717031ed62d9d0b16fd94f</td>\n",
       "    </tr>\n",
       "  </tbody>\n",
       "</table>\n",
       "</div>"
      ],
      "text/plain": [
       "                        customer_id                customer_unique_id\n",
       "0  0000ca4ff2795842fd6b122c6d974468  ac0e5d7f07043dd32831bdad3b99ad26\n",
       "1  00010f206878ba01f199aec4237de72e  4ed24aaed4079fe0661c0e4b3b420dff\n",
       "2  00012a2ce6f8dcda20d059ce98491703  7e0e291c0f4fc2d69208954d26ed0586\n",
       "3  000161a058600d5901f007fab4c27140  ff1dcb27ea444eddb94ea5fea77b875c\n",
       "4  00017f1d6cce0d56046219a2cfabcbbb  237130c4b6717031ed62d9d0b16fd94f"
      ]
     },
     "metadata": {},
     "output_type": "display_data"
    },
    {
     "data": {
      "text/plain": [
       "(96264, 2)"
      ]
     },
     "execution_count": 32,
     "metadata": {},
     "output_type": "execute_result"
    }
   ],
   "source": [
    "display(customers_data.head())\n",
    "customers_data.shape"
   ]
  },
  {
   "cell_type": "code",
   "execution_count": 37,
   "id": "9fcd453b-d8c5-4728-adbd-46e03b54aa00",
   "metadata": {},
   "outputs": [
    {
     "name": "stdout",
     "output_type": "stream",
     "text": [
      "customer_unique_id\n",
      "ff4ea78481e00334563aea6d1681f496    10\n",
      "b6169cb608e0a9d1b0ed53b93fe21713    10\n",
      "915f2fe0968adc3e5a76d70ca9326bf5     9\n",
      "779ab1cce17159b31d6a0a4694644455     8\n",
      "4cc4fa5148dca9dd9570607562cffc0e     8\n",
      "                                    ..\n",
      "4efe154c832a40a1fd13279c887c7a3d     1\n",
      "d04dbc7e00a8192de408474473c00c4c     1\n",
      "e81c0d5a636449241742d8f188272d26     1\n",
      "fe196d5896a4446e7a19b1febb3cf17b     1\n",
      "959d47fde7bf9b43e7dc2f5d7373a43a     1\n",
      "Name: count, Length: 92516, dtype: Int64\n"
     ]
    }
   ],
   "source": [
    "print(customers_data['customer_unique_id'].value_counts())"
   ]
  },
  {
   "cell_type": "code",
   "execution_count": 34,
   "id": "1d84bec3-fd80-47a3-99eb-613739b686e4",
   "metadata": {},
   "outputs": [],
   "source": [
    "sellers_data = feature_processing.load_data(INTERIM_DIR / \"sellers_olist_public_dataset_interim.parquet\",\n",
    "                      schema = SellersSchemaInterim,\n",
    "                      validate = True)"
   ]
  },
  {
   "cell_type": "code",
   "execution_count": 35,
   "id": "2ccb098a-abd1-4b14-80cb-b5e17314cc91",
   "metadata": {},
   "outputs": [
    {
     "data": {
      "text/html": [
       "<div>\n",
       "<style scoped>\n",
       "    .dataframe tbody tr th:only-of-type {\n",
       "        vertical-align: middle;\n",
       "    }\n",
       "\n",
       "    .dataframe tbody tr th {\n",
       "        vertical-align: top;\n",
       "    }\n",
       "\n",
       "    .dataframe thead th {\n",
       "        text-align: right;\n",
       "    }\n",
       "</style>\n",
       "<table border=\"1\" class=\"dataframe\">\n",
       "  <thead>\n",
       "    <tr style=\"text-align: right;\">\n",
       "      <th></th>\n",
       "      <th>order_id</th>\n",
       "      <th>product_id</th>\n",
       "      <th>seller_id</th>\n",
       "      <th>seller_zip_code_prefix</th>\n",
       "      <th>seller_city</th>\n",
       "      <th>seller_state</th>\n",
       "    </tr>\n",
       "  </thead>\n",
       "  <tbody>\n",
       "    <tr>\n",
       "      <th>0</th>\n",
       "      <td>0faabac07131235fc5d9d711471cb4db</td>\n",
       "      <td>40b09f33e646d488df2ca6fec4082d50</td>\n",
       "      <td>3d871de0142ce09b7081e2b9d1733cb1</td>\n",
       "      <td>132</td>\n",
       "      <td>campo_limpo_paulista</td>\n",
       "      <td>sp</td>\n",
       "    </tr>\n",
       "    <tr>\n",
       "      <th>1</th>\n",
       "      <td>970f41d57d6e21afa7b8c701b09acb95</td>\n",
       "      <td>d1c427060a0f73f6b889a5c7c61f2ac4</td>\n",
       "      <td>a1043bafd471dff536d0c462352beb48</td>\n",
       "      <td>371</td>\n",
       "      <td>ilicinea</td>\n",
       "      <td>mg</td>\n",
       "    </tr>\n",
       "    <tr>\n",
       "      <th>2</th>\n",
       "      <td>b674ed44cc3f6a869249421debebe104</td>\n",
       "      <td>bd7cd34fc6d02e730221b11edc354aae</td>\n",
       "      <td>46dc3b2cc0980fb8ec44634e21d2718e</td>\n",
       "      <td>222</td>\n",
       "      <td>rio_de_janeiro</td>\n",
       "      <td>rj</td>\n",
       "    </tr>\n",
       "    <tr>\n",
       "      <th>3</th>\n",
       "      <td>cbe9eae36605cf2bd005c6bc1ae5f864</td>\n",
       "      <td>0e95d6eef2bedaf4ecf3c33f78199059</td>\n",
       "      <td>dc4a0fc896dc34b0d5bfec8438291c80</td>\n",
       "      <td>149</td>\n",
       "      <td>ibitinga</td>\n",
       "      <td>sp</td>\n",
       "    </tr>\n",
       "    <tr>\n",
       "      <th>4</th>\n",
       "      <td>f562f8a4adf5a459176f7170d0da220d</td>\n",
       "      <td>9a3a44b7cc16f2592b2110e4205edf97</td>\n",
       "      <td>5a8e7d5003a1f221f9e1d6e411de7c23</td>\n",
       "      <td>130</td>\n",
       "      <td>campinas</td>\n",
       "      <td>sp</td>\n",
       "    </tr>\n",
       "  </tbody>\n",
       "</table>\n",
       "</div>"
      ],
      "text/plain": [
       "                           order_id                        product_id  \\\n",
       "0  0faabac07131235fc5d9d711471cb4db  40b09f33e646d488df2ca6fec4082d50   \n",
       "1  970f41d57d6e21afa7b8c701b09acb95  d1c427060a0f73f6b889a5c7c61f2ac4   \n",
       "2  b674ed44cc3f6a869249421debebe104  bd7cd34fc6d02e730221b11edc354aae   \n",
       "3  cbe9eae36605cf2bd005c6bc1ae5f864  0e95d6eef2bedaf4ecf3c33f78199059   \n",
       "4  f562f8a4adf5a459176f7170d0da220d  9a3a44b7cc16f2592b2110e4205edf97   \n",
       "\n",
       "                          seller_id seller_zip_code_prefix  \\\n",
       "0  3d871de0142ce09b7081e2b9d1733cb1                    132   \n",
       "1  a1043bafd471dff536d0c462352beb48                    371   \n",
       "2  46dc3b2cc0980fb8ec44634e21d2718e                    222   \n",
       "3  dc4a0fc896dc34b0d5bfec8438291c80                    149   \n",
       "4  5a8e7d5003a1f221f9e1d6e411de7c23                    130   \n",
       "\n",
       "            seller_city seller_state  \n",
       "0  campo_limpo_paulista           sp  \n",
       "1              ilicinea           mg  \n",
       "2        rio_de_janeiro           rj  \n",
       "3              ibitinga           sp  \n",
       "4              campinas           sp  "
      ]
     },
     "metadata": {},
     "output_type": "display_data"
    },
    {
     "data": {
      "text/plain": [
       "(98981, 6)"
      ]
     },
     "execution_count": 35,
     "metadata": {},
     "output_type": "execute_result"
    }
   ],
   "source": [
    "display(sellers_data.head())\n",
    "sellers_data.shape"
   ]
  },
  {
   "cell_type": "code",
   "execution_count": 41,
   "id": "2b07099d-d24f-4c48-ab43-a2d9710a8c9c",
   "metadata": {},
   "outputs": [],
   "source": [
    "customers_data = customers_data.rename(columns={\"customer_id\": \"order_id\"})"
   ]
  },
  {
   "cell_type": "code",
   "execution_count": 42,
   "id": "962ba261-a5c4-4042-8486-f94116baef5a",
   "metadata": {},
   "outputs": [
    {
     "data": {
      "text/html": [
       "<div>\n",
       "<style scoped>\n",
       "    .dataframe tbody tr th:only-of-type {\n",
       "        vertical-align: middle;\n",
       "    }\n",
       "\n",
       "    .dataframe tbody tr th {\n",
       "        vertical-align: top;\n",
       "    }\n",
       "\n",
       "    .dataframe thead th {\n",
       "        text-align: right;\n",
       "    }\n",
       "</style>\n",
       "<table border=\"1\" class=\"dataframe\">\n",
       "  <thead>\n",
       "    <tr style=\"text-align: right;\">\n",
       "      <th></th>\n",
       "      <th>order_id</th>\n",
       "      <th>customer_unique_id</th>\n",
       "    </tr>\n",
       "  </thead>\n",
       "  <tbody>\n",
       "    <tr>\n",
       "      <th>0</th>\n",
       "      <td>0000ca4ff2795842fd6b122c6d974468</td>\n",
       "      <td>ac0e5d7f07043dd32831bdad3b99ad26</td>\n",
       "    </tr>\n",
       "    <tr>\n",
       "      <th>1</th>\n",
       "      <td>00010f206878ba01f199aec4237de72e</td>\n",
       "      <td>4ed24aaed4079fe0661c0e4b3b420dff</td>\n",
       "    </tr>\n",
       "    <tr>\n",
       "      <th>2</th>\n",
       "      <td>00012a2ce6f8dcda20d059ce98491703</td>\n",
       "      <td>7e0e291c0f4fc2d69208954d26ed0586</td>\n",
       "    </tr>\n",
       "    <tr>\n",
       "      <th>3</th>\n",
       "      <td>000161a058600d5901f007fab4c27140</td>\n",
       "      <td>ff1dcb27ea444eddb94ea5fea77b875c</td>\n",
       "    </tr>\n",
       "    <tr>\n",
       "      <th>4</th>\n",
       "      <td>00017f1d6cce0d56046219a2cfabcbbb</td>\n",
       "      <td>237130c4b6717031ed62d9d0b16fd94f</td>\n",
       "    </tr>\n",
       "  </tbody>\n",
       "</table>\n",
       "</div>"
      ],
      "text/plain": [
       "                           order_id                customer_unique_id\n",
       "0  0000ca4ff2795842fd6b122c6d974468  ac0e5d7f07043dd32831bdad3b99ad26\n",
       "1  00010f206878ba01f199aec4237de72e  4ed24aaed4079fe0661c0e4b3b420dff\n",
       "2  00012a2ce6f8dcda20d059ce98491703  7e0e291c0f4fc2d69208954d26ed0586\n",
       "3  000161a058600d5901f007fab4c27140  ff1dcb27ea444eddb94ea5fea77b875c\n",
       "4  00017f1d6cce0d56046219a2cfabcbbb  237130c4b6717031ed62d9d0b16fd94f"
      ]
     },
     "execution_count": 42,
     "metadata": {},
     "output_type": "execute_result"
    }
   ],
   "source": [
    "customers_data.head()"
   ]
  },
  {
   "cell_type": "code",
   "execution_count": 43,
   "id": "a9d0024a-b504-4bd7-9f1d-9ba0a38b8f08",
   "metadata": {},
   "outputs": [],
   "source": [
    "merged_table = customers_data.merge(payments_data_grouped, how='left', on='order_id')"
   ]
  },
  {
   "cell_type": "code",
   "execution_count": 46,
   "id": "62361cf7-1aeb-43fa-a96d-4ed63b7a9b55",
   "metadata": {},
   "outputs": [
    {
     "name": "stdout",
     "output_type": "stream",
     "text": [
      "                           order_id                customer_unique_id  value  \\\n",
      "0  0000ca4ff2795842fd6b122c6d974468  ac0e5d7f07043dd32831bdad3b99ad26    NaN   \n",
      "1  00010f206878ba01f199aec4237de72e  4ed24aaed4079fe0661c0e4b3b420dff    NaN   \n",
      "2  00012a2ce6f8dcda20d059ce98491703  7e0e291c0f4fc2d69208954d26ed0586    NaN   \n",
      "3  000161a058600d5901f007fab4c27140  ff1dcb27ea444eddb94ea5fea77b875c    NaN   \n",
      "4  00017f1d6cce0d56046219a2cfabcbbb  237130c4b6717031ed62d9d0b16fd94f    NaN   \n",
      "\n",
      "   installments  sequential  \n",
      "0          <NA>        <NA>  \n",
      "1          <NA>        <NA>  \n",
      "2          <NA>        <NA>  \n",
      "3          <NA>        <NA>  \n",
      "4          <NA>        <NA>  \n"
     ]
    }
   ],
   "source": [
    "print(merged_table.head())"
   ]
  },
  {
   "cell_type": "code",
   "execution_count": null,
   "id": "dbe9deb8-8d73-4094-8b83-83e2bf493e1c",
   "metadata": {},
   "outputs": [],
   "source": []
  }
 ],
 "metadata": {
  "kernelspec": {
   "display_name": "Python 3 (ipykernel)",
   "language": "python",
   "name": "python3"
  },
  "language_info": {
   "codemirror_mode": {
    "name": "ipython",
    "version": 3
   },
   "file_extension": ".py",
   "mimetype": "text/x-python",
   "name": "python",
   "nbconvert_exporter": "python",
   "pygments_lexer": "ipython3",
   "version": "3.13.5"
  }
 },
 "nbformat": 4,
 "nbformat_minor": 5
}
