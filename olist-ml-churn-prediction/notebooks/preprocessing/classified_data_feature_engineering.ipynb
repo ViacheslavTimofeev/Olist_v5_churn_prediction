{
 "cells": [
  {
   "cell_type": "markdown",
   "id": "5bbbf413-825d-4840-adb7-98a8c018f7f1",
   "metadata": {},
   "source": [
    "# Создание новых признаков для classified_data (olist_classified_public_dataset.csv)"
   ]
  },
  {
   "cell_type": "code",
   "execution_count": 15,
   "id": "d66ec8ed-44c0-4cfc-9983-17aa9994360a",
   "metadata": {},
   "outputs": [],
   "source": [
    "import pandas as pd\n",
    "import sys, pathlib\n",
    "from feature_engineering import load_data, build_feature_matrix"
   ]
  },
  {
   "cell_type": "code",
   "execution_count": 16,
   "id": "7af11f1c-dad0-48cb-97d7-e8b029eaeb92",
   "metadata": {},
   "outputs": [],
   "source": [
    "sys.path.append(str(pathlib.Path(\"notebooks/preprocessing\").resolve()))"
   ]
  },
  {
   "cell_type": "code",
   "execution_count": 17,
   "id": "bcb77154-9f11-4338-9d1f-cd310ddba211",
   "metadata": {},
   "outputs": [
    {
     "name": "stderr",
     "output_type": "stream",
     "text": [
      "2025-07-15 16:48:59,926 - INFO - Loading data from ../../data/interim/classified_data_processed.parquet\n"
     ]
    }
   ],
   "source": [
    "df = load_data(\"../../data/interim/classified_data_processed.parquet\")"
   ]
  },
  {
   "cell_type": "code",
   "execution_count": 18,
   "id": "4d08618e-3ebd-43da-ad21-7561ac2296c5",
   "metadata": {},
   "outputs": [
    {
     "data": {
      "text/html": [
       "<div>\n",
       "<style scoped>\n",
       "    .dataframe tbody tr th:only-of-type {\n",
       "        vertical-align: middle;\n",
       "    }\n",
       "\n",
       "    .dataframe tbody tr th {\n",
       "        vertical-align: top;\n",
       "    }\n",
       "\n",
       "    .dataframe thead th {\n",
       "        text-align: right;\n",
       "    }\n",
       "</style>\n",
       "<table border=\"1\" class=\"dataframe\">\n",
       "  <thead>\n",
       "    <tr style=\"text-align: right;\">\n",
       "      <th></th>\n",
       "      <th>id</th>\n",
       "      <th>order_status</th>\n",
       "      <th>order_products_value</th>\n",
       "      <th>order_freight_value</th>\n",
       "      <th>order_items_qty</th>\n",
       "      <th>order_purchase_timestamp</th>\n",
       "      <th>order_aproved_at</th>\n",
       "      <th>order_estimated_delivery_date</th>\n",
       "      <th>order_delivered_customer_date</th>\n",
       "      <th>customer_city</th>\n",
       "      <th>...</th>\n",
       "      <th>votes_low_quality</th>\n",
       "      <th>votes_return</th>\n",
       "      <th>votes_not_as_anounced</th>\n",
       "      <th>votes_partial_delivery</th>\n",
       "      <th>votes_other_delivery</th>\n",
       "      <th>votes_other_order</th>\n",
       "      <th>votes_satisfied</th>\n",
       "      <th>most_voted_subclass</th>\n",
       "      <th>most_voted_class</th>\n",
       "      <th>product_category_name_english</th>\n",
       "    </tr>\n",
       "  </thead>\n",
       "  <tbody>\n",
       "    <tr>\n",
       "      <th>0</th>\n",
       "      <td>1</td>\n",
       "      <td>delivered</td>\n",
       "      <td>89.99</td>\n",
       "      <td>14.38</td>\n",
       "      <td>1</td>\n",
       "      <td>2017-08-30 11:41:01</td>\n",
       "      <td>2017-08-30 11:55:08.970352</td>\n",
       "      <td>2017-09-21</td>\n",
       "      <td>2017-09-08 20:35:27.276847</td>\n",
       "      <td>belo_horizonte</td>\n",
       "      <td>...</td>\n",
       "      <td>0</td>\n",
       "      <td>0</td>\n",
       "      <td>0</td>\n",
       "      <td>0</td>\n",
       "      <td>0</td>\n",
       "      <td>0</td>\n",
       "      <td>3</td>\n",
       "      <td>satisfeito</td>\n",
       "      <td>satisfeito_com_pedido</td>\n",
       "      <td>health_beauty</td>\n",
       "    </tr>\n",
       "    <tr>\n",
       "      <th>1</th>\n",
       "      <td>2</td>\n",
       "      <td>delivered</td>\n",
       "      <td>69.00</td>\n",
       "      <td>15.23</td>\n",
       "      <td>1</td>\n",
       "      <td>2017-09-26 09:13:36</td>\n",
       "      <td>2017-09-26 09:28:10.922048</td>\n",
       "      <td>2017-10-24</td>\n",
       "      <td>2017-09-29 21:13:04.984841</td>\n",
       "      <td>pocos_de_caldas</td>\n",
       "      <td>...</td>\n",
       "      <td>0</td>\n",
       "      <td>0</td>\n",
       "      <td>0</td>\n",
       "      <td>0</td>\n",
       "      <td>0</td>\n",
       "      <td>0</td>\n",
       "      <td>0</td>\n",
       "      <td>antes_prazo</td>\n",
       "      <td>satisfeito_com_pedido</td>\n",
       "      <td>toys</td>\n",
       "    </tr>\n",
       "    <tr>\n",
       "      <th>2</th>\n",
       "      <td>3</td>\n",
       "      <td>delivered</td>\n",
       "      <td>99.80</td>\n",
       "      <td>15.86</td>\n",
       "      <td>2</td>\n",
       "      <td>2018-01-15 15:50:42</td>\n",
       "      <td>2018-01-17 07:29:56.419769</td>\n",
       "      <td>2018-02-05</td>\n",
       "      <td>2018-01-23 17:51:31.134866</td>\n",
       "      <td>sao_jose_dos_campos</td>\n",
       "      <td>...</td>\n",
       "      <td>0</td>\n",
       "      <td>0</td>\n",
       "      <td>0</td>\n",
       "      <td>3</td>\n",
       "      <td>0</td>\n",
       "      <td>0</td>\n",
       "      <td>0</td>\n",
       "      <td>entrega_parcial</td>\n",
       "      <td>problemas_de_entrega</td>\n",
       "      <td>garden_tools</td>\n",
       "    </tr>\n",
       "    <tr>\n",
       "      <th>3</th>\n",
       "      <td>4</td>\n",
       "      <td>delivered</td>\n",
       "      <td>87.00</td>\n",
       "      <td>12.74</td>\n",
       "      <td>1</td>\n",
       "      <td>2018-02-04 11:16:42</td>\n",
       "      <td>2018-02-06 05:31:50.990164</td>\n",
       "      <td>2018-03-13</td>\n",
       "      <td>2018-02-20 19:38:06.633080</td>\n",
       "      <td>ribeirao_preto</td>\n",
       "      <td>...</td>\n",
       "      <td>0</td>\n",
       "      <td>0</td>\n",
       "      <td>0</td>\n",
       "      <td>0</td>\n",
       "      <td>0</td>\n",
       "      <td>0</td>\n",
       "      <td>0</td>\n",
       "      <td>atrasado</td>\n",
       "      <td>problemas_de_entrega</td>\n",
       "      <td>computers_accessories</td>\n",
       "    </tr>\n",
       "    <tr>\n",
       "      <th>4</th>\n",
       "      <td>5</td>\n",
       "      <td>delivered</td>\n",
       "      <td>99.90</td>\n",
       "      <td>17.95</td>\n",
       "      <td>1</td>\n",
       "      <td>2017-12-07 11:58:42</td>\n",
       "      <td>2017-12-08 02:36:49.587515</td>\n",
       "      <td>2018-01-03</td>\n",
       "      <td>2017-12-19 22:33:18.952512</td>\n",
       "      <td>rio_de_janeiro</td>\n",
       "      <td>...</td>\n",
       "      <td>0</td>\n",
       "      <td>0</td>\n",
       "      <td>0</td>\n",
       "      <td>3</td>\n",
       "      <td>0</td>\n",
       "      <td>0</td>\n",
       "      <td>0</td>\n",
       "      <td>entrega_parcial</td>\n",
       "      <td>problemas_de_entrega</td>\n",
       "      <td>bed_bath_table</td>\n",
       "    </tr>\n",
       "  </tbody>\n",
       "</table>\n",
       "<p>5 rows × 31 columns</p>\n",
       "</div>"
      ],
      "text/plain": [
       "   id order_status  order_products_value  order_freight_value  \\\n",
       "0   1    delivered                 89.99                14.38   \n",
       "1   2    delivered                 69.00                15.23   \n",
       "2   3    delivered                 99.80                15.86   \n",
       "3   4    delivered                 87.00                12.74   \n",
       "4   5    delivered                 99.90                17.95   \n",
       "\n",
       "   order_items_qty order_purchase_timestamp           order_aproved_at  \\\n",
       "0                1      2017-08-30 11:41:01 2017-08-30 11:55:08.970352   \n",
       "1                1      2017-09-26 09:13:36 2017-09-26 09:28:10.922048   \n",
       "2                2      2018-01-15 15:50:42 2018-01-17 07:29:56.419769   \n",
       "3                1      2018-02-04 11:16:42 2018-02-06 05:31:50.990164   \n",
       "4                1      2017-12-07 11:58:42 2017-12-08 02:36:49.587515   \n",
       "\n",
       "  order_estimated_delivery_date order_delivered_customer_date  \\\n",
       "0                    2017-09-21    2017-09-08 20:35:27.276847   \n",
       "1                    2017-10-24    2017-09-29 21:13:04.984841   \n",
       "2                    2018-02-05    2018-01-23 17:51:31.134866   \n",
       "3                    2018-03-13    2018-02-20 19:38:06.633080   \n",
       "4                    2018-01-03    2017-12-19 22:33:18.952512   \n",
       "\n",
       "         customer_city  ... votes_low_quality  votes_return  \\\n",
       "0       belo_horizonte  ...                 0             0   \n",
       "1      pocos_de_caldas  ...                 0             0   \n",
       "2  sao_jose_dos_campos  ...                 0             0   \n",
       "3       ribeirao_preto  ...                 0             0   \n",
       "4       rio_de_janeiro  ...                 0             0   \n",
       "\n",
       "   votes_not_as_anounced  votes_partial_delivery  votes_other_delivery  \\\n",
       "0                      0                       0                     0   \n",
       "1                      0                       0                     0   \n",
       "2                      0                       3                     0   \n",
       "3                      0                       0                     0   \n",
       "4                      0                       3                     0   \n",
       "\n",
       "   votes_other_order votes_satisfied most_voted_subclass  \\\n",
       "0                  0               3          satisfeito   \n",
       "1                  0               0         antes_prazo   \n",
       "2                  0               0     entrega_parcial   \n",
       "3                  0               0            atrasado   \n",
       "4                  0               0     entrega_parcial   \n",
       "\n",
       "        most_voted_class  product_category_name_english  \n",
       "0  satisfeito_com_pedido                  health_beauty  \n",
       "1  satisfeito_com_pedido                           toys  \n",
       "2   problemas_de_entrega                   garden_tools  \n",
       "3   problemas_de_entrega          computers_accessories  \n",
       "4   problemas_de_entrega                 bed_bath_table  \n",
       "\n",
       "[5 rows x 31 columns]"
      ]
     },
     "metadata": {},
     "output_type": "display_data"
    }
   ],
   "source": [
    "display(df.head())"
   ]
  },
  {
   "cell_type": "markdown",
   "id": "a75b44d8-cc70-4e12-ad38-4caa75af9891",
   "metadata": {},
   "source": [
    "## Создание временных признаков"
   ]
  },
  {
   "cell_type": "markdown",
   "id": "cc00c49b-217f-40bc-bd97-09fb1ed971e3",
   "metadata": {},
   "source": [
    "#### На основе временных признаков можно создать новые полезные и хорошо интерпретируемые:\n",
    "1. Время между оплатой заказа и подтверждением заказа на сайте (order_approved_at - order_purchase_timestamp).\n",
    "2. Время между подтверждением заказа и ориентировочным времени доставки (order_estimated_delivery_date - order_aproved_at).\n",
    "3. Время между фактическим времени доставки и ожидаемым (order_delivered_customer_date - order_estimated_delivery_date).\n",
    "4. Время между рассылкой с просьбой оценить качество и ответом покупателя (review_answer_timestamp - review_creation_date).\n",
    "5. Время между подтверждением заказа и его прибытием (order_delivered_customer_date - order_aproved_at)."
   ]
  },
  {
   "cell_type": "code",
   "execution_count": null,
   "id": "41906fd9-a9f2-4570-8a9a-3026a1efbd66",
   "metadata": {},
   "outputs": [],
   "source": [
    "def new_time_features(data, feature_1, feature_2):\n",
    "    return (data[feature_2] - data[feature_1]).dt.total_seconds() / 3600"
   ]
  },
  {
   "cell_type": "code",
   "execution_count": null,
   "id": "f28c9c9b-7ba7-40bf-b02c-46de6f9fba03",
   "metadata": {},
   "outputs": [],
   "source": [
    "df['aproved-purchased'] = new_time_features(df, 'order_purchase_timestamp', 'order_aproved_at')\n",
    "df['estimated_delivery-aproved'] = new_time_features(df, 'order_aproved_at', 'order_estimated_delivery_date')\n",
    "df['actual_delivery-estimated_delivery'] = new_time_features(df, 'order_estimated_delivery_date', 'order_delivered_customer_date')\n",
    "df['review_answer-review_creation'] = new_time_features(df, 'review_creation_date', 'review_answer_timestamp')\n",
    "df['actual_delivery-aproved'] = new_time_features(df, 'order_aproved_at', 'order_delivered_customer_date')"
   ]
  },
  {
   "cell_type": "code",
   "execution_count": null,
   "id": "453f7cd6-99a8-4751-8268-5150756e1cae",
   "metadata": {},
   "outputs": [],
   "source": [
    "display(df[['aproved-purchased', 'estimated_delivery-aproved', 'actual_delivery-estimated_delivery', 'review_answer-review_creation', 'actual_delivery-aproved']].head())"
   ]
  },
  {
   "cell_type": "markdown",
   "id": "0363ffac-ff22-40de-b9cc-8d85c961843b",
   "metadata": {},
   "source": [
    "#### Значения показывают количество часов разницы. В случае с разницей в доставке число отрицательное если заказ был доставлен раньше ориентировочного числа (скорее хорошо), и положительное, если была задержка по сравнению с ориентировочным числом (скорее плохо)."
   ]
  },
  {
   "cell_type": "markdown",
   "id": "293ad4a9-1199-478b-9479-c9dd048c02fd",
   "metadata": {},
   "source": [
    "## Новые классы из votes-признаков"
   ]
  },
  {
   "cell_type": "code",
   "execution_count": null,
   "id": "18b591fb-c0c8-44ed-bf6e-04a3debbade5",
   "metadata": {},
   "outputs": [],
   "source": [
    "# max_votes: максимальное число голосов в строке\n",
    "# ties_mask: True там, где столбец == max_votes\n",
    "max_votes  = df[votes_features].max(axis=1)\n",
    "ties_mask  = df[votes_features].eq(max_votes, axis=0) # широкая матрица True/False такой же формы\n",
    "\n",
    "display(max_votes.head())\n",
    "display(ties_mask.head())"
   ]
  },
  {
   "cell_type": "code",
   "execution_count": null,
   "id": "2d2ec07b-cb17-44ce-a24d-18b7462bd554",
   "metadata": {},
   "outputs": [],
   "source": [
    "# формируем новые индикаторы\n",
    "new_cols = [c.replace('votes_', '') for c in votes_features] # ['satisfied', 'partial_delivery', 'not_as_anounced', ...]\n",
    "df[new_cols] = ties_mask.astype(int).values # True→1, False→0"
   ]
  },
  {
   "cell_type": "code",
   "execution_count": null,
   "id": "ae9130e0-23af-4772-ab18-5206ed5fdb66",
   "metadata": {},
   "outputs": [],
   "source": [
    "display(df[new_cols].head())"
   ]
  }
 ],
 "metadata": {
  "kernelspec": {
   "display_name": "Python 3 (ipykernel)",
   "language": "python",
   "name": "python3"
  },
  "language_info": {
   "codemirror_mode": {
    "name": "ipython",
    "version": 3
   },
   "file_extension": ".py",
   "mimetype": "text/x-python",
   "name": "python",
   "nbconvert_exporter": "python",
   "pygments_lexer": "ipython3",
   "version": "3.13.5"
  }
 },
 "nbformat": 4,
 "nbformat_minor": 5
}
