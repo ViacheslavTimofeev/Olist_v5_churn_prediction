{
 "cells": [
  {
   "cell_type": "markdown",
   "id": "90818f26-43f0-4dff-b8a7-c37425171535",
   "metadata": {},
   "source": [
    "# Датасет с id заказов и уникальными id пользователей (olist_public_dataset_v2_customers.csv)"
   ]
  },
  {
   "cell_type": "code",
   "execution_count": 1,
   "id": "8a9e097a-464d-4f22-b9ea-a6b2653b716d",
   "metadata": {},
   "outputs": [],
   "source": [
    "import pandas as pd"
   ]
  },
  {
   "cell_type": "code",
   "execution_count": 2,
   "id": "fbb61729-89d5-4b44-92b5-17135e34e289",
   "metadata": {},
   "outputs": [],
   "source": [
    "public_customers_data = pd.read_csv(r'C:\\Users\\Вячеслав\\Documents\\olist_churn\\olist-ml-churn-prediction\\data\\raw\\olist_public_dataset_v2_customers.csv')"
   ]
  },
  {
   "cell_type": "code",
   "execution_count": 3,
   "id": "2a025ce1-7c7d-4521-a976-a73d5239089b",
   "metadata": {},
   "outputs": [
    {
     "data": {
      "text/html": [
       "<div>\n",
       "<style scoped>\n",
       "    .dataframe tbody tr th:only-of-type {\n",
       "        vertical-align: middle;\n",
       "    }\n",
       "\n",
       "    .dataframe tbody tr th {\n",
       "        vertical-align: top;\n",
       "    }\n",
       "\n",
       "    .dataframe thead th {\n",
       "        text-align: right;\n",
       "    }\n",
       "</style>\n",
       "<table border=\"1\" class=\"dataframe\">\n",
       "  <thead>\n",
       "    <tr style=\"text-align: right;\">\n",
       "      <th></th>\n",
       "      <th>customer_id</th>\n",
       "      <th>customer_unique_id</th>\n",
       "    </tr>\n",
       "  </thead>\n",
       "  <tbody>\n",
       "    <tr>\n",
       "      <th>0</th>\n",
       "      <td>0000ca4ff2795842fd6b122c6d974468</td>\n",
       "      <td>ac0e5d7f07043dd32831bdad3b99ad26</td>\n",
       "    </tr>\n",
       "    <tr>\n",
       "      <th>1</th>\n",
       "      <td>00010f206878ba01f199aec4237de72e</td>\n",
       "      <td>4ed24aaed4079fe0661c0e4b3b420dff</td>\n",
       "    </tr>\n",
       "    <tr>\n",
       "      <th>2</th>\n",
       "      <td>00012a2ce6f8dcda20d059ce98491703</td>\n",
       "      <td>7e0e291c0f4fc2d69208954d26ed0586</td>\n",
       "    </tr>\n",
       "    <tr>\n",
       "      <th>3</th>\n",
       "      <td>000161a058600d5901f007fab4c27140</td>\n",
       "      <td>ff1dcb27ea444eddb94ea5fea77b875c</td>\n",
       "    </tr>\n",
       "    <tr>\n",
       "      <th>4</th>\n",
       "      <td>00017f1d6cce0d56046219a2cfabcbbb</td>\n",
       "      <td>237130c4b6717031ed62d9d0b16fd94f</td>\n",
       "    </tr>\n",
       "  </tbody>\n",
       "</table>\n",
       "</div>"
      ],
      "text/plain": [
       "                        customer_id                customer_unique_id\n",
       "0  0000ca4ff2795842fd6b122c6d974468  ac0e5d7f07043dd32831bdad3b99ad26\n",
       "1  00010f206878ba01f199aec4237de72e  4ed24aaed4079fe0661c0e4b3b420dff\n",
       "2  00012a2ce6f8dcda20d059ce98491703  7e0e291c0f4fc2d69208954d26ed0586\n",
       "3  000161a058600d5901f007fab4c27140  ff1dcb27ea444eddb94ea5fea77b875c\n",
       "4  00017f1d6cce0d56046219a2cfabcbbb  237130c4b6717031ed62d9d0b16fd94f"
      ]
     },
     "metadata": {},
     "output_type": "display_data"
    }
   ],
   "source": [
    "display(public_customers_data.head())"
   ]
  },
  {
   "cell_type": "code",
   "execution_count": 4,
   "id": "79177da1-7f4e-4aa7-a4d5-30525c1adc18",
   "metadata": {},
   "outputs": [
    {
     "name": "stdout",
     "output_type": "stream",
     "text": [
      "customer_id           0\n",
      "customer_unique_id    0\n",
      "dtype: int64\n"
     ]
    }
   ],
   "source": [
    "print(public_customers_data.isna().sum())"
   ]
  },
  {
   "cell_type": "code",
   "execution_count": 6,
   "id": "3f5ccb22-775a-4193-8471-0499e4534e1e",
   "metadata": {},
   "outputs": [
    {
     "name": "stdout",
     "output_type": "stream",
     "text": [
      "customer_id\n",
      "0000ca4ff2795842fd6b122c6d974468    1\n",
      "aa8fe6fdddb25648793aab5b07e5f73d    1\n",
      "aa9982bcb598edfa7ac5bb9c48b24955    1\n",
      "aa98b0ee899c4f787d88f11b88b50fc2    1\n",
      "aa984b30a9c9b8d012fa8500d52b6a3b    1\n",
      "                                   ..\n",
      "5552a11fd9f02c067bbdecaf9d85a5b7    1\n",
      "55521b1f0b80672b3c61939a06211691    1\n",
      "55513efc0eba40006847cad792a53ccb    1\n",
      "555128d9759ad81dd318c2120966fe57    1\n",
      "ffffdd34d58526db84c9eeb26bb38e4f    1\n",
      "Name: count, Length: 96264, dtype: int64\n"
     ]
    }
   ],
   "source": [
    "print(public_customers_data['customer_id'].value_counts())"
   ]
  },
  {
   "cell_type": "markdown",
   "id": "1a70973f-f5d8-495c-be10-2936ae717539",
   "metadata": {},
   "source": [
    "#### Этот датасет обрабатывать не нужно, он нужен для объединения с olist_public_dataset_v2.csv"
   ]
  }
 ],
 "metadata": {
  "kernelspec": {
   "display_name": "Python 3 (ipykernel)",
   "language": "python",
   "name": "python3"
  },
  "language_info": {
   "codemirror_mode": {
    "name": "ipython",
    "version": 3
   },
   "file_extension": ".py",
   "mimetype": "text/x-python",
   "name": "python",
   "nbconvert_exporter": "python",
   "pygments_lexer": "ipython3",
   "version": "3.12.11"
  }
 },
 "nbformat": 4,
 "nbformat_minor": 5
}
