{
 "cells": [
  {
   "cell_type": "markdown",
   "id": "65421ed7-d746-46ca-861b-8dc29df1d744",
   "metadata": {},
   "source": [
    "# Создание целевой переменной"
   ]
  },
  {
   "cell_type": "markdown",
   "id": "407d662c-806a-4b97-a810-a7704986617f",
   "metadata": {},
   "source": [
    "#### Важно: целевая переменная создается без привязки по времени. Для экспериментов с временными рядами смотреть ноутбук time_series_analysis.ipynb"
   ]
  },
  {
   "cell_type": "code",
   "execution_count": 1,
   "id": "7e5993f2-0034-45c9-ae49-971e7c54e7f8",
   "metadata": {},
   "outputs": [],
   "source": [
    "import pandas as pd\n",
    "from olist_churn_prediction.paths import SRC_DIR, PROCESSED_DIR, INTERIM_NOTEBOOK_DIR"
   ]
  },
  {
   "cell_type": "markdown",
   "id": "7d1ae320-18e9-493b-9ace-24e2ccb56f5c",
   "metadata": {},
   "source": [
    "Возьмем за классы метки '1' - ушел и '0' - не ушел. За условие ухода возьмем факт отсутствия покупок за следующие 120 дней с последней покупки. Так как данные за 2016-2018 годы, то за reference-дату возьмем последнее доступное `order_purchase_timestamp`: это даст нам настоящую метку ухода (если взять 2025 год за последнюю дату, то все клиенты будут считаться ушедшими)."
   ]
  },
  {
   "cell_type": "code",
   "execution_count": 2,
   "id": "e9795bf7-92fd-414c-9a87-b3e0b0d164b7",
   "metadata": {},
   "outputs": [],
   "source": [
    "df = pd.read_parquet(INTERIM_NOTEBOOK_DIR / \"merged_df.parquet\")"
   ]
  },
  {
   "cell_type": "code",
   "execution_count": 3,
   "id": "bf5d3bd4-5e02-4e7f-85dc-cfc8fb3d86e7",
   "metadata": {},
   "outputs": [],
   "source": [
    "reference_date = df['order_purchase_timestamp'].max()\n",
    "last_orders = df.groupby('customer_id')['order_purchase_timestamp'].max().reset_index()\n",
    "last_orders['days_since_last_order'] = (reference_date - last_orders['order_purchase_timestamp']).dt.days\n",
    "last_orders['churned'] = (last_orders['days_since_last_order'] > 120).astype(int)\n",
    "df = df.merge(last_orders[['customer_id', 'churned']], on='customer_id', how='left')"
   ]
  },
  {
   "cell_type": "code",
   "execution_count": 4,
   "id": "080ba0fd-50d2-4780-8d61-4702235b10e3",
   "metadata": {},
   "outputs": [
    {
     "name": "stdout",
     "output_type": "stream",
     "text": [
      "2018-09-28 10:54:31\n"
     ]
    }
   ],
   "source": [
    "print(reference_date)"
   ]
  },
  {
   "cell_type": "code",
   "execution_count": 5,
   "id": "6a8c25bf-0fcc-4c80-ade7-6a26418b2fb1",
   "metadata": {},
   "outputs": [
    {
     "data": {
      "text/html": [
       "<div>\n",
       "<style scoped>\n",
       "    .dataframe tbody tr th:only-of-type {\n",
       "        vertical-align: middle;\n",
       "    }\n",
       "\n",
       "    .dataframe tbody tr th {\n",
       "        vertical-align: top;\n",
       "    }\n",
       "\n",
       "    .dataframe thead th {\n",
       "        text-align: right;\n",
       "    }\n",
       "</style>\n",
       "<table border=\"1\" class=\"dataframe\">\n",
       "  <thead>\n",
       "    <tr style=\"text-align: right;\">\n",
       "      <th></th>\n",
       "      <th>customer_id</th>\n",
       "      <th>order_purchase_timestamp</th>\n",
       "      <th>days_since_last_order</th>\n",
       "      <th>churned</th>\n",
       "    </tr>\n",
       "  </thead>\n",
       "  <tbody>\n",
       "    <tr>\n",
       "      <th>0</th>\n",
       "      <td>0000ca4ff2795842fd6b122c6d974468</td>\n",
       "      <td>2018-01-27 10:04:53</td>\n",
       "      <td>244</td>\n",
       "      <td>1</td>\n",
       "    </tr>\n",
       "    <tr>\n",
       "      <th>1</th>\n",
       "      <td>00010f206878ba01f199aec4237de72e</td>\n",
       "      <td>2017-09-10 14:35:08</td>\n",
       "      <td>382</td>\n",
       "      <td>1</td>\n",
       "    </tr>\n",
       "    <tr>\n",
       "      <th>2</th>\n",
       "      <td>00012a2ce6f8dcda20d059ce98491703</td>\n",
       "      <td>2017-11-14 16:08:26</td>\n",
       "      <td>317</td>\n",
       "      <td>1</td>\n",
       "    </tr>\n",
       "    <tr>\n",
       "      <th>3</th>\n",
       "      <td>000161a058600d5901f007fab4c27140</td>\n",
       "      <td>2017-07-16 09:40:32</td>\n",
       "      <td>439</td>\n",
       "      <td>1</td>\n",
       "    </tr>\n",
       "    <tr>\n",
       "      <th>4</th>\n",
       "      <td>00017f1d6cce0d56046219a2cfabcbbb</td>\n",
       "      <td>2017-08-19 16:22:14</td>\n",
       "      <td>404</td>\n",
       "      <td>1</td>\n",
       "    </tr>\n",
       "  </tbody>\n",
       "</table>\n",
       "</div>"
      ],
      "text/plain": [
       "                        customer_id order_purchase_timestamp  \\\n",
       "0  0000ca4ff2795842fd6b122c6d974468      2018-01-27 10:04:53   \n",
       "1  00010f206878ba01f199aec4237de72e      2017-09-10 14:35:08   \n",
       "2  00012a2ce6f8dcda20d059ce98491703      2017-11-14 16:08:26   \n",
       "3  000161a058600d5901f007fab4c27140      2017-07-16 09:40:32   \n",
       "4  00017f1d6cce0d56046219a2cfabcbbb      2017-08-19 16:22:14   \n",
       "\n",
       "   days_since_last_order  churned  \n",
       "0                    244        1  \n",
       "1                    382        1  \n",
       "2                    317        1  \n",
       "3                    439        1  \n",
       "4                    404        1  "
      ]
     },
     "execution_count": 5,
     "metadata": {},
     "output_type": "execute_result"
    }
   ],
   "source": [
    "last_orders.head()"
   ]
  },
  {
   "cell_type": "code",
   "execution_count": 6,
   "id": "8f191eda-db70-46c4-9977-627c2c352ca5",
   "metadata": {},
   "outputs": [
    {
     "data": {
      "text/plain": [
       "count    93882.000000\n",
       "mean       308.885708\n",
       "std        157.080852\n",
       "min          0.000000\n",
       "25%        190.000000\n",
       "50%        307.000000\n",
       "75%        430.000000\n",
       "max        753.000000\n",
       "Name: days_since_last_order, dtype: float64"
      ]
     },
     "execution_count": 6,
     "metadata": {},
     "output_type": "execute_result"
    }
   ],
   "source": [
    "last_orders['days_since_last_order'].describe()"
   ]
  },
  {
   "cell_type": "code",
   "execution_count": 10,
   "id": "2794cafb-c6c2-4f2f-9ab6-e0843dff102b",
   "metadata": {},
   "outputs": [
    {
     "data": {
      "text/plain": [
       "0    1\n",
       "1    1\n",
       "2    1\n",
       "3    1\n",
       "4    1\n",
       "Name: churned, dtype: int64"
      ]
     },
     "execution_count": 10,
     "metadata": {},
     "output_type": "execute_result"
    }
   ],
   "source": [
    "last_orders['churned'].head()"
   ]
  },
  {
   "cell_type": "code",
   "execution_count": 11,
   "id": "c21f249b-5761-493a-8584-83e4f625995a",
   "metadata": {},
   "outputs": [
    {
     "data": {
      "text/plain": [
       "churned\n",
       "1    81024\n",
       "0    12858\n",
       "Name: count, dtype: int64"
      ]
     },
     "execution_count": 11,
     "metadata": {},
     "output_type": "execute_result"
    }
   ],
   "source": [
    "last_orders['churned'].value_counts()"
   ]
  },
  {
   "cell_type": "markdown",
   "id": "b01762d2-9816-400c-84d6-31a3bdc73d3b",
   "metadata": {},
   "source": [
    "Важное замечание: классы несбалансированы. Лочически соотношение выглядит приемлемым, оставим условие в 120 дней."
   ]
  },
  {
   "cell_type": "code",
   "execution_count": 12,
   "id": "c1cde4b9-45b3-4aa5-b4a5-033ef0221062",
   "metadata": {},
   "outputs": [
    {
     "name": "stdout",
     "output_type": "stream",
     "text": [
      "<class 'pandas.core.frame.DataFrame'>\n",
      "RangeIndex: 93882 entries, 0 to 93881\n",
      "Data columns (total 34 columns):\n",
      " #   Column                         Non-Null Count  Dtype         \n",
      "---  ------                         --------------  -----         \n",
      " 0   order_id                       93882 non-null  string        \n",
      " 1   order_products_value           93882 non-null  float32       \n",
      " 2   order_freight_value            93882 non-null  float32       \n",
      " 3   order_items_qty                93882 non-null  Int64         \n",
      " 4   product_photos_qty             93882 non-null  Int64         \n",
      " 5   product_name_lenght            93882 non-null  Float64       \n",
      " 6   product_description_lenght     93882 non-null  Float64       \n",
      " 7   review_creation_date           93882 non-null  datetime64[ns]\n",
      " 8   review_answer_timestamp        93882 non-null  datetime64[ns]\n",
      " 9   order_purchase_timestamp       93882 non-null  datetime64[ns]\n",
      " 10  order_aproved_at               93882 non-null  datetime64[ns]\n",
      " 11  order_estimated_delivery_date  93882 non-null  datetime64[ns]\n",
      " 12  order_delivered_customer_date  93882 non-null  datetime64[ns]\n",
      " 13  customer_id                    93882 non-null  string        \n",
      " 14  customer_city                  93882 non-null  string        \n",
      " 15  customer_state                 93882 non-null  string        \n",
      " 16  customer_zip_code_prefix       93882 non-null  string        \n",
      " 17  product_id                     93882 non-null  string        \n",
      " 18  review_id                      93882 non-null  string        \n",
      " 19  review_score                   93882 non-null  Int64         \n",
      " 20  product_category_name_english  93882 non-null  object        \n",
      " 21  value                          93882 non-null  float32       \n",
      " 22  installments                   93882 non-null  Int64         \n",
      " 23  sequential                     93882 non-null  Int64         \n",
      " 24  product_weight_g               93882 non-null  float32       \n",
      " 25  product_length_cm              93882 non-null  float32       \n",
      " 26  product_height_cm              93882 non-null  float32       \n",
      " 27  product_width_cm               93882 non-null  float32       \n",
      " 28  customer_unique_id             93882 non-null  string        \n",
      " 29  seller_id                      93882 non-null  string        \n",
      " 30  seller_zip_code_prefix         93882 non-null  string        \n",
      " 31  seller_city                    93882 non-null  string        \n",
      " 32  seller_state                   93882 non-null  string        \n",
      " 33  churned                        93882 non-null  int64         \n",
      "dtypes: Float64(2), Int64(5), datetime64[ns](6), float32(7), int64(1), object(1), string(12)\n",
      "memory usage: 22.5+ MB\n"
     ]
    }
   ],
   "source": [
    "df.info()"
   ]
  },
  {
   "cell_type": "code",
   "execution_count": null,
   "id": "cca5f4bd-0468-4a3f-83a7-1c89bf95da8d",
   "metadata": {},
   "outputs": [],
   "source": [
    "df.to_parquet(INTERIM_NOTEBOOK_DIR / \"merged_churn_interim.parquet\")"
   ]
  }
 ],
 "metadata": {
  "kernelspec": {
   "display_name": "Python 3 (ipykernel)",
   "language": "python",
   "name": "python3"
  },
  "language_info": {
   "codemirror_mode": {
    "name": "ipython",
    "version": 3
   },
   "file_extension": ".py",
   "mimetype": "text/x-python",
   "name": "python",
   "nbconvert_exporter": "python",
   "pygments_lexer": "ipython3",
   "version": "3.13.5"
  }
 },
 "nbformat": 4,
 "nbformat_minor": 5
}
