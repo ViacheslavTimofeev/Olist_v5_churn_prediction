{
 "cells": [
  {
   "cell_type": "markdown",
   "id": "c1d88688-40a3-4f84-8c59-6edefdfab874",
   "metadata": {},
   "source": [
    "# Объединение таблиц"
   ]
  },
  {
   "cell_type": "code",
   "execution_count": 1,
   "id": "ab89907c-38cf-4a25-a57f-8cc7d95417d8",
   "metadata": {},
   "outputs": [],
   "source": [
    "import pandas as pd\n",
    "import matplotlib.pyplot as plt\n",
    "import re\n",
    "import seaborn as sns\n",
    "import sys, os\n",
    "import pathlib\n",
    "from pathlib import Path\n",
    "from olist_churn_prediction.paths import SRC_DIR, PROCESSED_DIR, INTERIM_NOTEBOOK_DIR, RAW_DIR\n",
    "from olist_churn_prediction import feature_processing, feature_engineering"
   ]
  },
  {
   "cell_type": "code",
   "execution_count": 3,
   "id": "2b9216ed-78d0-4dd5-bb1c-5492d9d5e5b9",
   "metadata": {},
   "outputs": [],
   "source": [
    "pd.set_option('display.max_columns', None)"
   ]
  },
  {
   "cell_type": "markdown",
   "id": "144485c2-8fa8-487b-b88b-f103824d6daa",
   "metadata": {},
   "source": [
    "## geolocation_data"
   ]
  },
  {
   "cell_type": "code",
   "execution_count": 4,
   "id": "90fc201d-a4ee-4337-83ed-d70eb3d16d0b",
   "metadata": {},
   "outputs": [],
   "source": [
    "geolocation_data = pd.read_parquet(INTERIM_NOTEBOOK_DIR / \"geolocation_olist_public_dataset_interim.parquet\")"
   ]
  },
  {
   "cell_type": "code",
   "execution_count": 5,
   "id": "72b3d247-849e-4314-9a08-1a08dd8053fd",
   "metadata": {},
   "outputs": [
    {
     "data": {
      "text/html": [
       "<div>\n",
       "<style scoped>\n",
       "    .dataframe tbody tr th:only-of-type {\n",
       "        vertical-align: middle;\n",
       "    }\n",
       "\n",
       "    .dataframe tbody tr th {\n",
       "        vertical-align: top;\n",
       "    }\n",
       "\n",
       "    .dataframe thead th {\n",
       "        text-align: right;\n",
       "    }\n",
       "</style>\n",
       "<table border=\"1\" class=\"dataframe\">\n",
       "  <thead>\n",
       "    <tr style=\"text-align: right;\">\n",
       "      <th></th>\n",
       "      <th>zip_code_prefix</th>\n",
       "      <th>city</th>\n",
       "      <th>state</th>\n",
       "      <th>lat</th>\n",
       "      <th>lng</th>\n",
       "    </tr>\n",
       "  </thead>\n",
       "  <tbody>\n",
       "    <tr>\n",
       "      <th>0</th>\n",
       "      <td>010</td>\n",
       "      <td>sao_paulo</td>\n",
       "      <td>sp</td>\n",
       "      <td>-23.547808</td>\n",
       "      <td>-46.636124</td>\n",
       "    </tr>\n",
       "    <tr>\n",
       "      <th>1</th>\n",
       "      <td>010</td>\n",
       "      <td>sao_paulo</td>\n",
       "      <td>sp</td>\n",
       "      <td>-23.546082</td>\n",
       "      <td>-46.644821</td>\n",
       "    </tr>\n",
       "    <tr>\n",
       "      <th>2</th>\n",
       "      <td>010</td>\n",
       "      <td>sao_paulo</td>\n",
       "      <td>sp</td>\n",
       "      <td>-23.540983</td>\n",
       "      <td>-46.642567</td>\n",
       "    </tr>\n",
       "    <tr>\n",
       "      <th>3</th>\n",
       "      <td>010</td>\n",
       "      <td>sao_paulo</td>\n",
       "      <td>sp</td>\n",
       "      <td>-23.546759</td>\n",
       "      <td>-46.645771</td>\n",
       "    </tr>\n",
       "    <tr>\n",
       "      <th>4</th>\n",
       "      <td>010</td>\n",
       "      <td>sao_paulo</td>\n",
       "      <td>sp</td>\n",
       "      <td>-23.546362</td>\n",
       "      <td>-46.643074</td>\n",
       "    </tr>\n",
       "  </tbody>\n",
       "</table>\n",
       "</div>"
      ],
      "text/plain": [
       "  zip_code_prefix       city state        lat        lng\n",
       "0             010  sao_paulo    sp -23.547808 -46.636124\n",
       "1             010  sao_paulo    sp -23.546082 -46.644821\n",
       "2             010  sao_paulo    sp -23.540983 -46.642567\n",
       "3             010  sao_paulo    sp -23.546759 -46.645771\n",
       "4             010  sao_paulo    sp -23.546362 -46.643074"
      ]
     },
     "metadata": {},
     "output_type": "display_data"
    },
    {
     "name": "stdout",
     "output_type": "stream",
     "text": [
      "(323016, 5)\n"
     ]
    },
    {
     "data": {
      "text/plain": [
       "zip_code_prefix    string[python]\n",
       "city               string[python]\n",
       "state              string[python]\n",
       "lat                       float32\n",
       "lng                       float32\n",
       "dtype: object"
      ]
     },
     "execution_count": 5,
     "metadata": {},
     "output_type": "execute_result"
    }
   ],
   "source": [
    "display(geolocation_data.head())\n",
    "print(geolocation_data.shape)\n",
    "geolocation_data.dtypes"
   ]
  },
  {
   "cell_type": "markdown",
   "id": "6ae72df8-09df-4cc0-821c-3c07625eb23d",
   "metadata": {},
   "source": [
    "## payments_data"
   ]
  },
  {
   "cell_type": "code",
   "execution_count": 5,
   "id": "a8c54951-e78a-4644-8d57-e317f3f5fb33",
   "metadata": {},
   "outputs": [],
   "source": [
    "payments_data =  pd.read_parquet(INTERIM_NOTEBOOK_DIR / \"payments_olist_public_dataset_interim.parquet\")"
   ]
  },
  {
   "cell_type": "code",
   "execution_count": 6,
   "id": "08509e61-ed76-4ba6-a259-3e4fd49fc241",
   "metadata": {},
   "outputs": [
    {
     "data": {
      "text/html": [
       "<div>\n",
       "<style scoped>\n",
       "    .dataframe tbody tr th:only-of-type {\n",
       "        vertical-align: middle;\n",
       "    }\n",
       "\n",
       "    .dataframe tbody tr th {\n",
       "        vertical-align: top;\n",
       "    }\n",
       "\n",
       "    .dataframe thead th {\n",
       "        text-align: right;\n",
       "    }\n",
       "</style>\n",
       "<table border=\"1\" class=\"dataframe\">\n",
       "  <thead>\n",
       "    <tr style=\"text-align: right;\">\n",
       "      <th></th>\n",
       "      <th>order_id</th>\n",
       "      <th>installments</th>\n",
       "      <th>sequential</th>\n",
       "      <th>payment_type</th>\n",
       "      <th>value</th>\n",
       "    </tr>\n",
       "  </thead>\n",
       "  <tbody>\n",
       "    <tr>\n",
       "      <th>0</th>\n",
       "      <td>25e8ea4e93396b6fa0d3dd708e76c1bd</td>\n",
       "      <td>1</td>\n",
       "      <td>1</td>\n",
       "      <td>credit_card</td>\n",
       "      <td>65.709999</td>\n",
       "    </tr>\n",
       "    <tr>\n",
       "      <th>1</th>\n",
       "      <td>ba78997921bbcdc1373bb41e913ab953</td>\n",
       "      <td>8</td>\n",
       "      <td>1</td>\n",
       "      <td>credit_card</td>\n",
       "      <td>107.779999</td>\n",
       "    </tr>\n",
       "    <tr>\n",
       "      <th>2</th>\n",
       "      <td>42fdf880ba16b47b59251dd489d4441a</td>\n",
       "      <td>2</td>\n",
       "      <td>1</td>\n",
       "      <td>credit_card</td>\n",
       "      <td>128.449997</td>\n",
       "    </tr>\n",
       "    <tr>\n",
       "      <th>3</th>\n",
       "      <td>771ee386b001f06208a7419e4fc1bbd7</td>\n",
       "      <td>1</td>\n",
       "      <td>1</td>\n",
       "      <td>credit_card</td>\n",
       "      <td>81.160004</td>\n",
       "    </tr>\n",
       "    <tr>\n",
       "      <th>4</th>\n",
       "      <td>62fe0bd75deb58982ebf8e53a128a301</td>\n",
       "      <td>1</td>\n",
       "      <td>1</td>\n",
       "      <td>credit_card</td>\n",
       "      <td>15.820000</td>\n",
       "    </tr>\n",
       "  </tbody>\n",
       "</table>\n",
       "</div>"
      ],
      "text/plain": [
       "                           order_id  installments  sequential payment_type  \\\n",
       "0  25e8ea4e93396b6fa0d3dd708e76c1bd             1           1  credit_card   \n",
       "1  ba78997921bbcdc1373bb41e913ab953             8           1  credit_card   \n",
       "2  42fdf880ba16b47b59251dd489d4441a             2           1  credit_card   \n",
       "3  771ee386b001f06208a7419e4fc1bbd7             1           1  credit_card   \n",
       "4  62fe0bd75deb58982ebf8e53a128a301             1           1  credit_card   \n",
       "\n",
       "        value  \n",
       "0   65.709999  \n",
       "1  107.779999  \n",
       "2  128.449997  \n",
       "3   81.160004  \n",
       "4   15.820000  "
      ]
     },
     "metadata": {},
     "output_type": "display_data"
    },
    {
     "data": {
      "text/plain": [
       "(97428, 5)"
      ]
     },
     "execution_count": 6,
     "metadata": {},
     "output_type": "execute_result"
    }
   ],
   "source": [
    "display(payments_data.head())\n",
    "payments_data.shape"
   ]
  },
  {
   "cell_type": "code",
   "execution_count": 7,
   "id": "bfdf4d77-3fa9-45b3-a938-5a1a9d6c66d7",
   "metadata": {},
   "outputs": [
    {
     "data": {
      "text/plain": [
       "order_id        0\n",
       "installments    0\n",
       "sequential      0\n",
       "payment_type    0\n",
       "value           0\n",
       "dtype: int64"
      ]
     },
     "execution_count": 7,
     "metadata": {},
     "output_type": "execute_result"
    }
   ],
   "source": [
    "payments_data.isna().sum()"
   ]
  },
  {
   "cell_type": "code",
   "execution_count": 8,
   "id": "8dfbb48c-4815-449c-93fa-78555ee8de4c",
   "metadata": {},
   "outputs": [
    {
     "name": "stdout",
     "output_type": "stream",
     "text": [
      "(92119, 5)\n"
     ]
    }
   ],
   "source": [
    "# Группировка: множество payment_type по каждому user_id\n",
    "type_counts = payments_data.groupby(\"order_id\")[\"payment_type\"].nunique()\n",
    "\n",
    "# Оставляем только те user_id, где один уникальный тип оплаты\n",
    "consistent_users = type_counts[type_counts == 1].index\n",
    "\n",
    "# Фильтрация исходного DataFrame\n",
    "filtered_df = payments_data[payments_data[\"order_id\"].isin(consistent_users)]\n",
    "\n",
    "print(filtered_df.shape)"
   ]
  },
  {
   "cell_type": "markdown",
   "id": "8ab03890-359b-44d2-80b1-487e3f1d5092",
   "metadata": {},
   "source": [
    "Количество заказов с одним способом оплаты - 92119, изначальное количество - 97428. Решено убрать признак payment_type для сохранения числа заказов."
   ]
  },
  {
   "cell_type": "code",
   "execution_count": 9,
   "id": "34858ae0-4d1e-4c26-9d53-4fcd16a60b07",
   "metadata": {},
   "outputs": [],
   "source": [
    "payments_data = payments_data.drop('payment_type', axis=1)"
   ]
  },
  {
   "cell_type": "markdown",
   "id": "b5d8872f-259e-4895-84bc-690cf01a28c5",
   "metadata": {},
   "source": [
    "Сгруппируем по order_id:"
   ]
  },
  {
   "cell_type": "code",
   "execution_count": 10,
   "id": "0d662c81-9e40-4530-9d00-7a1b60fb78ad",
   "metadata": {},
   "outputs": [],
   "source": [
    "payments_data_grouped = filtered_df.groupby(\"order_id\").agg({\n",
    "    \"value\": \"sum\",\n",
    "    \"installments\": \"max\",\n",
    "    \"sequential\": \"count\"}).reset_index()"
   ]
  },
  {
   "cell_type": "code",
   "execution_count": 11,
   "id": "5641cbc7-ca11-417f-bb82-4f93c118928c",
   "metadata": {},
   "outputs": [
    {
     "data": {
      "text/html": [
       "<div>\n",
       "<style scoped>\n",
       "    .dataframe tbody tr th:only-of-type {\n",
       "        vertical-align: middle;\n",
       "    }\n",
       "\n",
       "    .dataframe tbody tr th {\n",
       "        vertical-align: top;\n",
       "    }\n",
       "\n",
       "    .dataframe thead th {\n",
       "        text-align: right;\n",
       "    }\n",
       "</style>\n",
       "<table border=\"1\" class=\"dataframe\">\n",
       "  <thead>\n",
       "    <tr style=\"text-align: right;\">\n",
       "      <th></th>\n",
       "      <th>order_id</th>\n",
       "      <th>value</th>\n",
       "      <th>installments</th>\n",
       "      <th>sequential</th>\n",
       "    </tr>\n",
       "  </thead>\n",
       "  <tbody>\n",
       "    <tr>\n",
       "      <th>0</th>\n",
       "      <td>0000f01da58c553799200eb71eb0563b</td>\n",
       "      <td>72.900002</td>\n",
       "      <td>1</td>\n",
       "      <td>1</td>\n",
       "    </tr>\n",
       "    <tr>\n",
       "      <th>1</th>\n",
       "      <td>00010242fe8c5a6d1ba2dd792cb16214</td>\n",
       "      <td>72.190002</td>\n",
       "      <td>2</td>\n",
       "      <td>1</td>\n",
       "    </tr>\n",
       "    <tr>\n",
       "      <th>2</th>\n",
       "      <td>00026c8a4fe2c14efa2afe807921981c</td>\n",
       "      <td>477.279999</td>\n",
       "      <td>1</td>\n",
       "      <td>1</td>\n",
       "    </tr>\n",
       "    <tr>\n",
       "      <th>3</th>\n",
       "      <td>000312d02b605a8a630c3a9882793ffb</td>\n",
       "      <td>673.200012</td>\n",
       "      <td>10</td>\n",
       "      <td>1</td>\n",
       "    </tr>\n",
       "    <tr>\n",
       "      <th>4</th>\n",
       "      <td>00042b26cf59d7ce69dfabb4e55b4fd9</td>\n",
       "      <td>218.039993</td>\n",
       "      <td>3</td>\n",
       "      <td>1</td>\n",
       "    </tr>\n",
       "  </tbody>\n",
       "</table>\n",
       "</div>"
      ],
      "text/plain": [
       "                           order_id       value  installments  sequential\n",
       "0  0000f01da58c553799200eb71eb0563b   72.900002             1           1\n",
       "1  00010242fe8c5a6d1ba2dd792cb16214   72.190002             2           1\n",
       "2  00026c8a4fe2c14efa2afe807921981c  477.279999             1           1\n",
       "3  000312d02b605a8a630c3a9882793ffb  673.200012            10           1\n",
       "4  00042b26cf59d7ce69dfabb4e55b4fd9  218.039993             3           1"
      ]
     },
     "metadata": {},
     "output_type": "display_data"
    }
   ],
   "source": [
    "display(payments_data_grouped.head())"
   ]
  },
  {
   "cell_type": "code",
   "execution_count": 14,
   "id": "73215c0d-c84a-43e3-bedd-8837b2b1b102",
   "metadata": {},
   "outputs": [],
   "source": [
    "#payments_data_grouped.to_parquet(INTERIM_NOTEBOOK_DIR / \"payments_grouped_interim.parquet\", index=False)"
   ]
  },
  {
   "cell_type": "markdown",
   "id": "d4b702e1-8fd7-42e8-8ffc-a1c36a39cf4b",
   "metadata": {},
   "source": [
    "## measures_data"
   ]
  },
  {
   "cell_type": "code",
   "execution_count": 12,
   "id": "926bdbdd-357d-44a8-b5b3-a64f6c60d8f0",
   "metadata": {},
   "outputs": [],
   "source": [
    "measures_data = pd.read_parquet(INTERIM_NOTEBOOK_DIR / \"product_measures_olist_public_dataset_interim.parquet\")"
   ]
  },
  {
   "cell_type": "code",
   "execution_count": 13,
   "id": "9e0045b4-5136-4e1c-a8d3-1ea62c11da35",
   "metadata": {},
   "outputs": [
    {
     "data": {
      "text/html": [
       "<div>\n",
       "<style scoped>\n",
       "    .dataframe tbody tr th:only-of-type {\n",
       "        vertical-align: middle;\n",
       "    }\n",
       "\n",
       "    .dataframe tbody tr th {\n",
       "        vertical-align: top;\n",
       "    }\n",
       "\n",
       "    .dataframe thead th {\n",
       "        text-align: right;\n",
       "    }\n",
       "</style>\n",
       "<table border=\"1\" class=\"dataframe\">\n",
       "  <thead>\n",
       "    <tr style=\"text-align: right;\">\n",
       "      <th></th>\n",
       "      <th>product_id</th>\n",
       "      <th>product_weight_g</th>\n",
       "      <th>product_length_cm</th>\n",
       "      <th>product_height_cm</th>\n",
       "      <th>product_width_cm</th>\n",
       "    </tr>\n",
       "  </thead>\n",
       "  <tbody>\n",
       "    <tr>\n",
       "      <th>0</th>\n",
       "      <td>00faa46f36261af8bbf3a4d37fa4841b</td>\n",
       "      <td>100.0</td>\n",
       "      <td>21.0</td>\n",
       "      <td>9.0</td>\n",
       "      <td>14.0</td>\n",
       "    </tr>\n",
       "    <tr>\n",
       "      <th>1</th>\n",
       "      <td>b497d0032ea073dd58bbd2d7809d25b3</td>\n",
       "      <td>750.0</td>\n",
       "      <td>23.0</td>\n",
       "      <td>5.0</td>\n",
       "      <td>15.0</td>\n",
       "    </tr>\n",
       "    <tr>\n",
       "      <th>2</th>\n",
       "      <td>96bd76ec8810374ed1b65e291975717f</td>\n",
       "      <td>200.0</td>\n",
       "      <td>16.0</td>\n",
       "      <td>6.0</td>\n",
       "      <td>19.5</td>\n",
       "    </tr>\n",
       "    <tr>\n",
       "      <th>3</th>\n",
       "      <td>506110a1603e772a8ff52ea1f0b0431d</td>\n",
       "      <td>200.0</td>\n",
       "      <td>16.0</td>\n",
       "      <td>13.0</td>\n",
       "      <td>13.0</td>\n",
       "    </tr>\n",
       "    <tr>\n",
       "      <th>4</th>\n",
       "      <td>feb593f17c2f51af2932dbba3e99f1cb</td>\n",
       "      <td>50.0</td>\n",
       "      <td>35.0</td>\n",
       "      <td>4.0</td>\n",
       "      <td>26.0</td>\n",
       "    </tr>\n",
       "  </tbody>\n",
       "</table>\n",
       "</div>"
      ],
      "text/plain": [
       "                         product_id  product_weight_g  product_length_cm  \\\n",
       "0  00faa46f36261af8bbf3a4d37fa4841b             100.0               21.0   \n",
       "1  b497d0032ea073dd58bbd2d7809d25b3             750.0               23.0   \n",
       "2  96bd76ec8810374ed1b65e291975717f             200.0               16.0   \n",
       "3  506110a1603e772a8ff52ea1f0b0431d             200.0               16.0   \n",
       "4  feb593f17c2f51af2932dbba3e99f1cb              50.0               35.0   \n",
       "\n",
       "   product_height_cm  product_width_cm  \n",
       "0                9.0              14.0  \n",
       "1                5.0              15.0  \n",
       "2                6.0              19.5  \n",
       "3               13.0              13.0  \n",
       "4                4.0              26.0  "
      ]
     },
     "metadata": {},
     "output_type": "display_data"
    },
    {
     "data": {
      "text/plain": [
       "(24439, 5)"
      ]
     },
     "execution_count": 13,
     "metadata": {},
     "output_type": "execute_result"
    }
   ],
   "source": [
    "display(measures_data.head())\n",
    "measures_data.shape"
   ]
  },
  {
   "cell_type": "code",
   "execution_count": 14,
   "id": "a7314e54-5b32-4cb1-a341-201a63da55da",
   "metadata": {},
   "outputs": [
    {
     "data": {
      "text/plain": [
       "product_id           0\n",
       "product_weight_g     0\n",
       "product_length_cm    0\n",
       "product_height_cm    0\n",
       "product_width_cm     0\n",
       "dtype: int64"
      ]
     },
     "execution_count": 14,
     "metadata": {},
     "output_type": "execute_result"
    }
   ],
   "source": [
    "measures_data.isna().sum()"
   ]
  },
  {
   "cell_type": "markdown",
   "id": "714699a2-2088-4254-b14b-b4610c0c9255",
   "metadata": {},
   "source": [
    "## customers_data"
   ]
  },
  {
   "cell_type": "code",
   "execution_count": 15,
   "id": "2a2652e9-4bb1-4317-9d41-4072c9b3e877",
   "metadata": {},
   "outputs": [],
   "source": [
    "customers_data = pd.read_parquet(INTERIM_NOTEBOOK_DIR / \"public_customers_data_interim.parquet\")"
   ]
  },
  {
   "cell_type": "code",
   "execution_count": 16,
   "id": "ad1cdcdc-310f-40cb-87d3-ae171b023fde",
   "metadata": {},
   "outputs": [
    {
     "data": {
      "text/html": [
       "<div>\n",
       "<style scoped>\n",
       "    .dataframe tbody tr th:only-of-type {\n",
       "        vertical-align: middle;\n",
       "    }\n",
       "\n",
       "    .dataframe tbody tr th {\n",
       "        vertical-align: top;\n",
       "    }\n",
       "\n",
       "    .dataframe thead th {\n",
       "        text-align: right;\n",
       "    }\n",
       "</style>\n",
       "<table border=\"1\" class=\"dataframe\">\n",
       "  <thead>\n",
       "    <tr style=\"text-align: right;\">\n",
       "      <th></th>\n",
       "      <th>customer_id</th>\n",
       "      <th>customer_unique_id</th>\n",
       "    </tr>\n",
       "  </thead>\n",
       "  <tbody>\n",
       "    <tr>\n",
       "      <th>0</th>\n",
       "      <td>0000ca4ff2795842fd6b122c6d974468</td>\n",
       "      <td>ac0e5d7f07043dd32831bdad3b99ad26</td>\n",
       "    </tr>\n",
       "    <tr>\n",
       "      <th>1</th>\n",
       "      <td>00010f206878ba01f199aec4237de72e</td>\n",
       "      <td>4ed24aaed4079fe0661c0e4b3b420dff</td>\n",
       "    </tr>\n",
       "    <tr>\n",
       "      <th>2</th>\n",
       "      <td>00012a2ce6f8dcda20d059ce98491703</td>\n",
       "      <td>7e0e291c0f4fc2d69208954d26ed0586</td>\n",
       "    </tr>\n",
       "    <tr>\n",
       "      <th>3</th>\n",
       "      <td>000161a058600d5901f007fab4c27140</td>\n",
       "      <td>ff1dcb27ea444eddb94ea5fea77b875c</td>\n",
       "    </tr>\n",
       "    <tr>\n",
       "      <th>4</th>\n",
       "      <td>00017f1d6cce0d56046219a2cfabcbbb</td>\n",
       "      <td>237130c4b6717031ed62d9d0b16fd94f</td>\n",
       "    </tr>\n",
       "  </tbody>\n",
       "</table>\n",
       "</div>"
      ],
      "text/plain": [
       "                        customer_id                customer_unique_id\n",
       "0  0000ca4ff2795842fd6b122c6d974468  ac0e5d7f07043dd32831bdad3b99ad26\n",
       "1  00010f206878ba01f199aec4237de72e  4ed24aaed4079fe0661c0e4b3b420dff\n",
       "2  00012a2ce6f8dcda20d059ce98491703  7e0e291c0f4fc2d69208954d26ed0586\n",
       "3  000161a058600d5901f007fab4c27140  ff1dcb27ea444eddb94ea5fea77b875c\n",
       "4  00017f1d6cce0d56046219a2cfabcbbb  237130c4b6717031ed62d9d0b16fd94f"
      ]
     },
     "metadata": {},
     "output_type": "display_data"
    },
    {
     "data": {
      "text/plain": [
       "(96264, 2)"
      ]
     },
     "execution_count": 16,
     "metadata": {},
     "output_type": "execute_result"
    }
   ],
   "source": [
    "display(customers_data.head())\n",
    "customers_data.shape"
   ]
  },
  {
   "cell_type": "code",
   "execution_count": 17,
   "id": "4b03b225-222a-4923-a30d-e3e3d1999b28",
   "metadata": {},
   "outputs": [
    {
     "data": {
      "text/plain": [
       "customer_id           0\n",
       "customer_unique_id    0\n",
       "dtype: int64"
      ]
     },
     "execution_count": 17,
     "metadata": {},
     "output_type": "execute_result"
    }
   ],
   "source": [
    "customers_data.isna().sum()"
   ]
  },
  {
   "cell_type": "markdown",
   "id": "56c7e607-7517-4c03-b1d0-45bfa3fde409",
   "metadata": {},
   "source": [
    "## sellers_data"
   ]
  },
  {
   "cell_type": "code",
   "execution_count": 18,
   "id": "1d84bec3-fd80-47a3-99eb-613739b686e4",
   "metadata": {},
   "outputs": [],
   "source": [
    "sellers_data = pd.read_parquet(INTERIM_NOTEBOOK_DIR / \"sellers_olist_public_dataset_interim.parquet\")"
   ]
  },
  {
   "cell_type": "code",
   "execution_count": 19,
   "id": "2ccb098a-abd1-4b14-80cb-b5e17314cc91",
   "metadata": {},
   "outputs": [
    {
     "data": {
      "text/html": [
       "<div>\n",
       "<style scoped>\n",
       "    .dataframe tbody tr th:only-of-type {\n",
       "        vertical-align: middle;\n",
       "    }\n",
       "\n",
       "    .dataframe tbody tr th {\n",
       "        vertical-align: top;\n",
       "    }\n",
       "\n",
       "    .dataframe thead th {\n",
       "        text-align: right;\n",
       "    }\n",
       "</style>\n",
       "<table border=\"1\" class=\"dataframe\">\n",
       "  <thead>\n",
       "    <tr style=\"text-align: right;\">\n",
       "      <th></th>\n",
       "      <th>order_id</th>\n",
       "      <th>product_id</th>\n",
       "      <th>seller_id</th>\n",
       "      <th>seller_zip_code_prefix</th>\n",
       "      <th>seller_city</th>\n",
       "      <th>seller_state</th>\n",
       "    </tr>\n",
       "  </thead>\n",
       "  <tbody>\n",
       "    <tr>\n",
       "      <th>0</th>\n",
       "      <td>0faabac07131235fc5d9d711471cb4db</td>\n",
       "      <td>40b09f33e646d488df2ca6fec4082d50</td>\n",
       "      <td>3d871de0142ce09b7081e2b9d1733cb1</td>\n",
       "      <td>132</td>\n",
       "      <td>campo_limpo_paulista</td>\n",
       "      <td>sp</td>\n",
       "    </tr>\n",
       "    <tr>\n",
       "      <th>1</th>\n",
       "      <td>970f41d57d6e21afa7b8c701b09acb95</td>\n",
       "      <td>d1c427060a0f73f6b889a5c7c61f2ac4</td>\n",
       "      <td>a1043bafd471dff536d0c462352beb48</td>\n",
       "      <td>371</td>\n",
       "      <td>ilicinea</td>\n",
       "      <td>mg</td>\n",
       "    </tr>\n",
       "    <tr>\n",
       "      <th>2</th>\n",
       "      <td>b674ed44cc3f6a869249421debebe104</td>\n",
       "      <td>bd7cd34fc6d02e730221b11edc354aae</td>\n",
       "      <td>46dc3b2cc0980fb8ec44634e21d2718e</td>\n",
       "      <td>222</td>\n",
       "      <td>rio_de_janeiro</td>\n",
       "      <td>rj</td>\n",
       "    </tr>\n",
       "    <tr>\n",
       "      <th>3</th>\n",
       "      <td>cbe9eae36605cf2bd005c6bc1ae5f864</td>\n",
       "      <td>0e95d6eef2bedaf4ecf3c33f78199059</td>\n",
       "      <td>dc4a0fc896dc34b0d5bfec8438291c80</td>\n",
       "      <td>149</td>\n",
       "      <td>ibitinga</td>\n",
       "      <td>sp</td>\n",
       "    </tr>\n",
       "    <tr>\n",
       "      <th>4</th>\n",
       "      <td>f562f8a4adf5a459176f7170d0da220d</td>\n",
       "      <td>9a3a44b7cc16f2592b2110e4205edf97</td>\n",
       "      <td>5a8e7d5003a1f221f9e1d6e411de7c23</td>\n",
       "      <td>130</td>\n",
       "      <td>campinas</td>\n",
       "      <td>sp</td>\n",
       "    </tr>\n",
       "  </tbody>\n",
       "</table>\n",
       "</div>"
      ],
      "text/plain": [
       "                           order_id                        product_id  \\\n",
       "0  0faabac07131235fc5d9d711471cb4db  40b09f33e646d488df2ca6fec4082d50   \n",
       "1  970f41d57d6e21afa7b8c701b09acb95  d1c427060a0f73f6b889a5c7c61f2ac4   \n",
       "2  b674ed44cc3f6a869249421debebe104  bd7cd34fc6d02e730221b11edc354aae   \n",
       "3  cbe9eae36605cf2bd005c6bc1ae5f864  0e95d6eef2bedaf4ecf3c33f78199059   \n",
       "4  f562f8a4adf5a459176f7170d0da220d  9a3a44b7cc16f2592b2110e4205edf97   \n",
       "\n",
       "                          seller_id seller_zip_code_prefix  \\\n",
       "0  3d871de0142ce09b7081e2b9d1733cb1                    132   \n",
       "1  a1043bafd471dff536d0c462352beb48                    371   \n",
       "2  46dc3b2cc0980fb8ec44634e21d2718e                    222   \n",
       "3  dc4a0fc896dc34b0d5bfec8438291c80                    149   \n",
       "4  5a8e7d5003a1f221f9e1d6e411de7c23                    130   \n",
       "\n",
       "            seller_city seller_state  \n",
       "0  campo_limpo_paulista           sp  \n",
       "1              ilicinea           mg  \n",
       "2        rio_de_janeiro           rj  \n",
       "3              ibitinga           sp  \n",
       "4              campinas           sp  "
      ]
     },
     "metadata": {},
     "output_type": "display_data"
    },
    {
     "data": {
      "text/plain": [
       "(98981, 6)"
      ]
     },
     "execution_count": 19,
     "metadata": {},
     "output_type": "execute_result"
    }
   ],
   "source": [
    "display(sellers_data.head())\n",
    "sellers_data.shape"
   ]
  },
  {
   "cell_type": "code",
   "execution_count": 20,
   "id": "b6c4cc62-3e4c-4660-93a8-9b94bc6ca928",
   "metadata": {},
   "outputs": [
    {
     "data": {
      "text/plain": [
       "order_id                  0\n",
       "product_id                0\n",
       "seller_id                 0\n",
       "seller_zip_code_prefix    0\n",
       "seller_city               0\n",
       "seller_state              0\n",
       "dtype: int64"
      ]
     },
     "execution_count": 20,
     "metadata": {},
     "output_type": "execute_result"
    }
   ],
   "source": [
    "sellers_data.isna().sum()"
   ]
  },
  {
   "cell_type": "markdown",
   "id": "97dc2db1-fb6f-4942-95c0-1ca64cd9c2cd",
   "metadata": {},
   "source": [
    "## public_data"
   ]
  },
  {
   "cell_type": "code",
   "execution_count": 4,
   "id": "dbe9deb8-8d73-4094-8b83-83e2bf493e1c",
   "metadata": {},
   "outputs": [],
   "source": [
    "public_data = pd.read_parquet(INTERIM_NOTEBOOK_DIR / \"public_data_interim.parquet\")"
   ]
  },
  {
   "cell_type": "code",
   "execution_count": 5,
   "id": "f2f53d4d-1856-4d96-8ffe-b27fcfe86cc6",
   "metadata": {},
   "outputs": [
    {
     "data": {
      "text/html": [
       "<div>\n",
       "<style scoped>\n",
       "    .dataframe tbody tr th:only-of-type {\n",
       "        vertical-align: middle;\n",
       "    }\n",
       "\n",
       "    .dataframe tbody tr th {\n",
       "        vertical-align: top;\n",
       "    }\n",
       "\n",
       "    .dataframe thead th {\n",
       "        text-align: right;\n",
       "    }\n",
       "</style>\n",
       "<table border=\"1\" class=\"dataframe\">\n",
       "  <thead>\n",
       "    <tr style=\"text-align: right;\">\n",
       "      <th></th>\n",
       "      <th>order_id</th>\n",
       "      <th>order_products_value</th>\n",
       "      <th>order_freight_value</th>\n",
       "      <th>order_items_qty</th>\n",
       "      <th>order_purchase_timestamp</th>\n",
       "      <th>order_aproved_at</th>\n",
       "      <th>order_estimated_delivery_date</th>\n",
       "      <th>order_delivered_customer_date</th>\n",
       "      <th>customer_id</th>\n",
       "      <th>customer_city</th>\n",
       "      <th>customer_state</th>\n",
       "      <th>customer_zip_code_prefix</th>\n",
       "      <th>product_name_lenght</th>\n",
       "      <th>product_description_lenght</th>\n",
       "      <th>product_photos_qty</th>\n",
       "      <th>product_id</th>\n",
       "      <th>review_id</th>\n",
       "      <th>review_score</th>\n",
       "      <th>review_creation_date</th>\n",
       "      <th>review_answer_timestamp</th>\n",
       "      <th>product_category_name_english</th>\n",
       "    </tr>\n",
       "  </thead>\n",
       "  <tbody>\n",
       "    <tr>\n",
       "      <th>0</th>\n",
       "      <td>b95df3cef5297e79ef709ba256518f6f</td>\n",
       "      <td>349.899994</td>\n",
       "      <td>13.840000</td>\n",
       "      <td>1</td>\n",
       "      <td>2017-01-31 17:19:01</td>\n",
       "      <td>2017-02-01 02:41:21.549551</td>\n",
       "      <td>2017-03-15</td>\n",
       "      <td>2017-02-06 11:04:24.154259</td>\n",
       "      <td>297dcf281305aabfee256d313076af2b</td>\n",
       "      <td>guaratuba</td>\n",
       "      <td>pr</td>\n",
       "      <td>832</td>\n",
       "      <td>51</td>\n",
       "      <td>625</td>\n",
       "      <td>1</td>\n",
       "      <td>6cdd53843498f92890544667809f1595</td>\n",
       "      <td>b95df3cef5297e79ef709ba256518f6f</td>\n",
       "      <td>5</td>\n",
       "      <td>2017-02-07</td>\n",
       "      <td>2017-02-09 02:37:37</td>\n",
       "      <td>health_beauty</td>\n",
       "    </tr>\n",
       "    <tr>\n",
       "      <th>1</th>\n",
       "      <td>59af46052a799e80e2f0c665c587731d</td>\n",
       "      <td>15.000000</td>\n",
       "      <td>15.100000</td>\n",
       "      <td>1</td>\n",
       "      <td>2017-09-09 19:52:54</td>\n",
       "      <td>2017-09-10 20:03:31.535281</td>\n",
       "      <td>2017-10-02</td>\n",
       "      <td>2017-09-13 20:17:41.296915</td>\n",
       "      <td>b7563d94162ed0aa3f8d9cada4bcc536</td>\n",
       "      <td>uberlandia</td>\n",
       "      <td>mg</td>\n",
       "      <td>384</td>\n",
       "      <td>44</td>\n",
       "      <td>1428</td>\n",
       "      <td>2</td>\n",
       "      <td>ae5cad88462eb7b7b61401e31c45618e</td>\n",
       "      <td>59af46052a799e80e2f0c665c587731d</td>\n",
       "      <td>5</td>\n",
       "      <td>2017-09-14</td>\n",
       "      <td>2017-09-15 03:43:47</td>\n",
       "      <td>computers_accessories</td>\n",
       "    </tr>\n",
       "    <tr>\n",
       "      <th>2</th>\n",
       "      <td>a3e6136894621db402a772c6bc72a12a</td>\n",
       "      <td>238.899994</td>\n",
       "      <td>18.000000</td>\n",
       "      <td>1</td>\n",
       "      <td>2017-01-30 17:00:09</td>\n",
       "      <td>2017-01-30 17:31:25.438253</td>\n",
       "      <td>2017-03-07</td>\n",
       "      <td>2017-02-06 15:43:04.758566</td>\n",
       "      <td>f102cb15ec41ca30fa2902da06495f6b</td>\n",
       "      <td>itapevi</td>\n",
       "      <td>sp</td>\n",
       "      <td>066</td>\n",
       "      <td>55</td>\n",
       "      <td>637</td>\n",
       "      <td>1</td>\n",
       "      <td>0c9ff9d8ed9b9bdd825487b3a66e05f5</td>\n",
       "      <td>a3e6136894621db402a772c6bc72a12a</td>\n",
       "      <td>5</td>\n",
       "      <td>2017-02-07</td>\n",
       "      <td>2017-02-10 14:18:53</td>\n",
       "      <td>auto</td>\n",
       "    </tr>\n",
       "    <tr>\n",
       "      <th>3</th>\n",
       "      <td>b675ea5a618922f6e679e30531b8957b</td>\n",
       "      <td>29.990000</td>\n",
       "      <td>18.230000</td>\n",
       "      <td>1</td>\n",
       "      <td>2018-03-11 18:18:36</td>\n",
       "      <td>2018-03-11 18:30:37.931962</td>\n",
       "      <td>2018-04-03</td>\n",
       "      <td>2018-04-03 20:36:43.778451</td>\n",
       "      <td>e33c250311160298e5b457ca52720a35</td>\n",
       "      <td>goiania</td>\n",
       "      <td>go</td>\n",
       "      <td>743</td>\n",
       "      <td>55</td>\n",
       "      <td>617</td>\n",
       "      <td>1</td>\n",
       "      <td>ad0a798e7941f3a5a2fb8139cb62ad78</td>\n",
       "      <td>b675ea5a618922f6e679e30531b8957b</td>\n",
       "      <td>4</td>\n",
       "      <td>2018-04-04</td>\n",
       "      <td>2018-04-05 02:52:31</td>\n",
       "      <td>bed_bath_table</td>\n",
       "    </tr>\n",
       "    <tr>\n",
       "      <th>4</th>\n",
       "      <td>195a8be6794c487fe6cfbb97b7c61902</td>\n",
       "      <td>295.989990</td>\n",
       "      <td>47.650002</td>\n",
       "      <td>1</td>\n",
       "      <td>2017-04-20 08:01:08</td>\n",
       "      <td>2017-04-25 08:05:40.405383</td>\n",
       "      <td>2017-05-24</td>\n",
       "      <td>2017-05-04 18:47:45.721758</td>\n",
       "      <td>8a8f7c9a4450f17ba3ee25a5ba821bc7</td>\n",
       "      <td>recife</td>\n",
       "      <td>pe</td>\n",
       "      <td>511</td>\n",
       "      <td>49</td>\n",
       "      <td>558</td>\n",
       "      <td>2</td>\n",
       "      <td>eaf2046d4c87809247a30050ea13df03</td>\n",
       "      <td>195a8be6794c487fe6cfbb97b7c61902</td>\n",
       "      <td>5</td>\n",
       "      <td>2017-05-05</td>\n",
       "      <td>2017-05-08 15:20:18</td>\n",
       "      <td>furniture_decor</td>\n",
       "    </tr>\n",
       "  </tbody>\n",
       "</table>\n",
       "</div>"
      ],
      "text/plain": [
       "                           order_id  order_products_value  \\\n",
       "0  b95df3cef5297e79ef709ba256518f6f            349.899994   \n",
       "1  59af46052a799e80e2f0c665c587731d             15.000000   \n",
       "2  a3e6136894621db402a772c6bc72a12a            238.899994   \n",
       "3  b675ea5a618922f6e679e30531b8957b             29.990000   \n",
       "4  195a8be6794c487fe6cfbb97b7c61902            295.989990   \n",
       "\n",
       "   order_freight_value  order_items_qty order_purchase_timestamp  \\\n",
       "0            13.840000                1      2017-01-31 17:19:01   \n",
       "1            15.100000                1      2017-09-09 19:52:54   \n",
       "2            18.000000                1      2017-01-30 17:00:09   \n",
       "3            18.230000                1      2018-03-11 18:18:36   \n",
       "4            47.650002                1      2017-04-20 08:01:08   \n",
       "\n",
       "            order_aproved_at order_estimated_delivery_date  \\\n",
       "0 2017-02-01 02:41:21.549551                    2017-03-15   \n",
       "1 2017-09-10 20:03:31.535281                    2017-10-02   \n",
       "2 2017-01-30 17:31:25.438253                    2017-03-07   \n",
       "3 2018-03-11 18:30:37.931962                    2018-04-03   \n",
       "4 2017-04-25 08:05:40.405383                    2017-05-24   \n",
       "\n",
       "  order_delivered_customer_date                       customer_id  \\\n",
       "0    2017-02-06 11:04:24.154259  297dcf281305aabfee256d313076af2b   \n",
       "1    2017-09-13 20:17:41.296915  b7563d94162ed0aa3f8d9cada4bcc536   \n",
       "2    2017-02-06 15:43:04.758566  f102cb15ec41ca30fa2902da06495f6b   \n",
       "3    2018-04-03 20:36:43.778451  e33c250311160298e5b457ca52720a35   \n",
       "4    2017-05-04 18:47:45.721758  8a8f7c9a4450f17ba3ee25a5ba821bc7   \n",
       "\n",
       "  customer_city customer_state customer_zip_code_prefix  product_name_lenght  \\\n",
       "0     guaratuba             pr                      832                   51   \n",
       "1    uberlandia             mg                      384                   44   \n",
       "2       itapevi             sp                      066                   55   \n",
       "3       goiania             go                      743                   55   \n",
       "4        recife             pe                      511                   49   \n",
       "\n",
       "   product_description_lenght  product_photos_qty  \\\n",
       "0                         625                   1   \n",
       "1                        1428                   2   \n",
       "2                         637                   1   \n",
       "3                         617                   1   \n",
       "4                         558                   2   \n",
       "\n",
       "                         product_id                         review_id  \\\n",
       "0  6cdd53843498f92890544667809f1595  b95df3cef5297e79ef709ba256518f6f   \n",
       "1  ae5cad88462eb7b7b61401e31c45618e  59af46052a799e80e2f0c665c587731d   \n",
       "2  0c9ff9d8ed9b9bdd825487b3a66e05f5  a3e6136894621db402a772c6bc72a12a   \n",
       "3  ad0a798e7941f3a5a2fb8139cb62ad78  b675ea5a618922f6e679e30531b8957b   \n",
       "4  eaf2046d4c87809247a30050ea13df03  195a8be6794c487fe6cfbb97b7c61902   \n",
       "\n",
       "   review_score review_creation_date review_answer_timestamp  \\\n",
       "0             5           2017-02-07     2017-02-09 02:37:37   \n",
       "1             5           2017-09-14     2017-09-15 03:43:47   \n",
       "2             5           2017-02-07     2017-02-10 14:18:53   \n",
       "3             4           2018-04-04     2018-04-05 02:52:31   \n",
       "4             5           2017-05-05     2017-05-08 15:20:18   \n",
       "\n",
       "  product_category_name_english  \n",
       "0                 health_beauty  \n",
       "1         computers_accessories  \n",
       "2                          auto  \n",
       "3                bed_bath_table  \n",
       "4               furniture_decor  "
      ]
     },
     "metadata": {},
     "output_type": "display_data"
    },
    {
     "name": "stdout",
     "output_type": "stream",
     "text": [
      "(97578, 21)\n"
     ]
    }
   ],
   "source": [
    "display(public_data.head())\n",
    "print(public_data.shape)"
   ]
  },
  {
   "cell_type": "code",
   "execution_count": 6,
   "id": "8fff5c90-1b0f-4e01-bf93-f345607d107e",
   "metadata": {},
   "outputs": [
    {
     "name": "stdout",
     "output_type": "stream",
     "text": [
      "<class 'pandas.core.frame.DataFrame'>\n",
      "RangeIndex: 97578 entries, 0 to 97577\n",
      "Data columns (total 21 columns):\n",
      " #   Column                         Non-Null Count  Dtype         \n",
      "---  ------                         --------------  -----         \n",
      " 0   order_id                       97578 non-null  string        \n",
      " 1   order_products_value           97578 non-null  float32       \n",
      " 2   order_freight_value            97578 non-null  float32       \n",
      " 3   order_items_qty                97578 non-null  Int64         \n",
      " 4   order_purchase_timestamp       97578 non-null  datetime64[ns]\n",
      " 5   order_aproved_at               97578 non-null  datetime64[ns]\n",
      " 6   order_estimated_delivery_date  97578 non-null  datetime64[ns]\n",
      " 7   order_delivered_customer_date  97578 non-null  datetime64[ns]\n",
      " 8   customer_id                    97578 non-null  string        \n",
      " 9   customer_city                  97578 non-null  string        \n",
      " 10  customer_state                 97578 non-null  string        \n",
      " 11  customer_zip_code_prefix       97578 non-null  string        \n",
      " 12  product_name_lenght            97578 non-null  Int64         \n",
      " 13  product_description_lenght     97578 non-null  Int64         \n",
      " 14  product_photos_qty             97578 non-null  Int64         \n",
      " 15  product_id                     97578 non-null  string        \n",
      " 16  review_id                      97578 non-null  string        \n",
      " 17  review_score                   97578 non-null  Int64         \n",
      " 18  review_creation_date           97578 non-null  datetime64[ns]\n",
      " 19  review_answer_timestamp        97578 non-null  datetime64[ns]\n",
      " 20  product_category_name_english  97578 non-null  object        \n",
      "dtypes: Int64(5), datetime64[ns](6), float32(2), object(1), string(7)\n",
      "memory usage: 15.4+ MB\n"
     ]
    }
   ],
   "source": [
    "public_data.info()"
   ]
  },
  {
   "cell_type": "code",
   "execution_count": 25,
   "id": "b1415a6f-716f-42b9-b49a-534e91a75760",
   "metadata": {
    "scrolled": true
   },
   "outputs": [
    {
     "data": {
      "text/html": [
       "<div>\n",
       "<style scoped>\n",
       "    .dataframe tbody tr th:only-of-type {\n",
       "        vertical-align: middle;\n",
       "    }\n",
       "\n",
       "    .dataframe tbody tr th {\n",
       "        vertical-align: top;\n",
       "    }\n",
       "\n",
       "    .dataframe thead th {\n",
       "        text-align: right;\n",
       "    }\n",
       "</style>\n",
       "<table border=\"1\" class=\"dataframe\">\n",
       "  <thead>\n",
       "    <tr style=\"text-align: right;\">\n",
       "      <th></th>\n",
       "      <th>order_id</th>\n",
       "      <th>order_products_value</th>\n",
       "      <th>order_freight_value</th>\n",
       "      <th>order_items_qty</th>\n",
       "      <th>order_purchase_timestamp</th>\n",
       "      <th>order_aproved_at</th>\n",
       "      <th>order_estimated_delivery_date</th>\n",
       "      <th>order_delivered_customer_date</th>\n",
       "      <th>customer_id</th>\n",
       "      <th>customer_city</th>\n",
       "      <th>customer_state</th>\n",
       "      <th>customer_zip_code_prefix</th>\n",
       "      <th>product_name_lenght</th>\n",
       "      <th>product_description_lenght</th>\n",
       "      <th>product_photos_qty</th>\n",
       "      <th>product_id</th>\n",
       "      <th>review_id</th>\n",
       "      <th>review_score</th>\n",
       "      <th>review_creation_date</th>\n",
       "      <th>review_answer_timestamp</th>\n",
       "      <th>product_category_name_english</th>\n",
       "    </tr>\n",
       "  </thead>\n",
       "  <tbody>\n",
       "    <tr>\n",
       "      <th>3640</th>\n",
       "      <td>5a3b1c29a49756e75f1ef513383c0c12</td>\n",
       "      <td>72.900002</td>\n",
       "      <td>2.660000</td>\n",
       "      <td>1</td>\n",
       "      <td>2017-10-17 13:06:29</td>\n",
       "      <td>2017-10-18 13:06:21.646633</td>\n",
       "      <td>2017-11-03</td>\n",
       "      <td>2017-10-22 14:43:54.999785</td>\n",
       "      <td>be1c4e52bb71e0c54b11a26b8e8d59f2</td>\n",
       "      <td>sao_paulo</td>\n",
       "      <td>sp</td>\n",
       "      <td>080</td>\n",
       "      <td>31</td>\n",
       "      <td>151</td>\n",
       "      <td>1</td>\n",
       "      <td>6a0713a63e990052795623e76cc2995e</td>\n",
       "      <td>5a3b1c29a49756e75f1ef513383c0c12</td>\n",
       "      <td>1</td>\n",
       "      <td>2017-10-31</td>\n",
       "      <td>2017-10-31 21:03:31</td>\n",
       "      <td>bed_bath_table</td>\n",
       "    </tr>\n",
       "    <tr>\n",
       "      <th>37312</th>\n",
       "      <td>5a3b1c29a49756e75f1ef513383c0c12</td>\n",
       "      <td>99.980003</td>\n",
       "      <td>14.200000</td>\n",
       "      <td>2</td>\n",
       "      <td>2017-10-17 13:06:29</td>\n",
       "      <td>2017-10-18 13:06:21.646633</td>\n",
       "      <td>2017-11-03</td>\n",
       "      <td>2017-10-22 14:43:54.999785</td>\n",
       "      <td>be1c4e52bb71e0c54b11a26b8e8d59f2</td>\n",
       "      <td>sao_paulo</td>\n",
       "      <td>sp</td>\n",
       "      <td>080</td>\n",
       "      <td>40</td>\n",
       "      <td>162</td>\n",
       "      <td>1</td>\n",
       "      <td>99444c1e11fc38755dae86f5c67d3d1a</td>\n",
       "      <td>5a3b1c29a49756e75f1ef513383c0c12</td>\n",
       "      <td>1</td>\n",
       "      <td>2017-10-23</td>\n",
       "      <td>2017-10-24 10:44:02</td>\n",
       "      <td>bed_bath_table</td>\n",
       "    </tr>\n",
       "    <tr>\n",
       "      <th>45061</th>\n",
       "      <td>5a3b1c29a49756e75f1ef513383c0c12</td>\n",
       "      <td>99.980003</td>\n",
       "      <td>14.200000</td>\n",
       "      <td>2</td>\n",
       "      <td>2017-10-17 13:06:29</td>\n",
       "      <td>2017-10-18 13:06:21.646633</td>\n",
       "      <td>2017-11-03</td>\n",
       "      <td>2017-10-22 14:43:54.999785</td>\n",
       "      <td>be1c4e52bb71e0c54b11a26b8e8d59f2</td>\n",
       "      <td>sao_paulo</td>\n",
       "      <td>sp</td>\n",
       "      <td>080</td>\n",
       "      <td>40</td>\n",
       "      <td>162</td>\n",
       "      <td>1</td>\n",
       "      <td>99444c1e11fc38755dae86f5c67d3d1a</td>\n",
       "      <td>5a3b1c29a49756e75f1ef513383c0c12</td>\n",
       "      <td>1</td>\n",
       "      <td>2017-10-31</td>\n",
       "      <td>2017-10-31 21:03:31</td>\n",
       "      <td>bed_bath_table</td>\n",
       "    </tr>\n",
       "    <tr>\n",
       "      <th>52338</th>\n",
       "      <td>5a3b1c29a49756e75f1ef513383c0c12</td>\n",
       "      <td>58.900002</td>\n",
       "      <td>2.660000</td>\n",
       "      <td>1</td>\n",
       "      <td>2017-10-17 13:06:29</td>\n",
       "      <td>2017-10-18 13:06:21.646633</td>\n",
       "      <td>2017-11-03</td>\n",
       "      <td>2017-10-22 14:43:54.999785</td>\n",
       "      <td>be1c4e52bb71e0c54b11a26b8e8d59f2</td>\n",
       "      <td>sao_paulo</td>\n",
       "      <td>sp</td>\n",
       "      <td>080</td>\n",
       "      <td>26</td>\n",
       "      <td>212</td>\n",
       "      <td>2</td>\n",
       "      <td>17d8b8e9c21ec0fc5b33724e32fe422e</td>\n",
       "      <td>5a3b1c29a49756e75f1ef513383c0c12</td>\n",
       "      <td>1</td>\n",
       "      <td>2017-10-31</td>\n",
       "      <td>2017-10-31 21:03:31</td>\n",
       "      <td>bed_bath_table</td>\n",
       "    </tr>\n",
       "    <tr>\n",
       "      <th>53362</th>\n",
       "      <td>5a3b1c29a49756e75f1ef513383c0c12</td>\n",
       "      <td>139.800003</td>\n",
       "      <td>67.440002</td>\n",
       "      <td>2</td>\n",
       "      <td>2017-10-17 13:06:29</td>\n",
       "      <td>2017-10-18 13:06:21.646633</td>\n",
       "      <td>2017-11-03</td>\n",
       "      <td>2017-10-22 14:43:54.999785</td>\n",
       "      <td>be1c4e52bb71e0c54b11a26b8e8d59f2</td>\n",
       "      <td>sao_paulo</td>\n",
       "      <td>sp</td>\n",
       "      <td>080</td>\n",
       "      <td>34</td>\n",
       "      <td>308</td>\n",
       "      <td>1</td>\n",
       "      <td>d25bbb182b51d1594fe3b54a27ae143e</td>\n",
       "      <td>5a3b1c29a49756e75f1ef513383c0c12</td>\n",
       "      <td>1</td>\n",
       "      <td>2017-10-23</td>\n",
       "      <td>2017-10-24 10:44:02</td>\n",
       "      <td>bed_bath_table</td>\n",
       "    </tr>\n",
       "    <tr>\n",
       "      <th>58651</th>\n",
       "      <td>5a3b1c29a49756e75f1ef513383c0c12</td>\n",
       "      <td>58.900002</td>\n",
       "      <td>2.660000</td>\n",
       "      <td>1</td>\n",
       "      <td>2017-10-17 13:06:29</td>\n",
       "      <td>2017-10-18 13:06:21.646633</td>\n",
       "      <td>2017-11-03</td>\n",
       "      <td>2017-10-22 14:43:54.999785</td>\n",
       "      <td>be1c4e52bb71e0c54b11a26b8e8d59f2</td>\n",
       "      <td>sao_paulo</td>\n",
       "      <td>sp</td>\n",
       "      <td>080</td>\n",
       "      <td>26</td>\n",
       "      <td>212</td>\n",
       "      <td>2</td>\n",
       "      <td>17d8b8e9c21ec0fc5b33724e32fe422e</td>\n",
       "      <td>5a3b1c29a49756e75f1ef513383c0c12</td>\n",
       "      <td>1</td>\n",
       "      <td>2017-10-23</td>\n",
       "      <td>2017-10-24 10:44:02</td>\n",
       "      <td>bed_bath_table</td>\n",
       "    </tr>\n",
       "    <tr>\n",
       "      <th>77024</th>\n",
       "      <td>5a3b1c29a49756e75f1ef513383c0c12</td>\n",
       "      <td>185.699997</td>\n",
       "      <td>35.939999</td>\n",
       "      <td>3</td>\n",
       "      <td>2017-10-17 13:06:29</td>\n",
       "      <td>2017-10-18 13:06:21.646633</td>\n",
       "      <td>2017-11-03</td>\n",
       "      <td>2017-10-22 14:43:54.999785</td>\n",
       "      <td>be1c4e52bb71e0c54b11a26b8e8d59f2</td>\n",
       "      <td>sao_paulo</td>\n",
       "      <td>sp</td>\n",
       "      <td>080</td>\n",
       "      <td>34</td>\n",
       "      <td>216</td>\n",
       "      <td>2</td>\n",
       "      <td>399f54c06661d06ca45c6e24ed238e0e</td>\n",
       "      <td>5a3b1c29a49756e75f1ef513383c0c12</td>\n",
       "      <td>1</td>\n",
       "      <td>2017-10-23</td>\n",
       "      <td>2017-10-24 10:44:02</td>\n",
       "      <td>bed_bath_table</td>\n",
       "    </tr>\n",
       "    <tr>\n",
       "      <th>79507</th>\n",
       "      <td>5a3b1c29a49756e75f1ef513383c0c12</td>\n",
       "      <td>185.699997</td>\n",
       "      <td>35.939999</td>\n",
       "      <td>3</td>\n",
       "      <td>2017-10-17 13:06:29</td>\n",
       "      <td>2017-10-18 13:06:21.646633</td>\n",
       "      <td>2017-11-03</td>\n",
       "      <td>2017-10-22 14:43:54.999785</td>\n",
       "      <td>be1c4e52bb71e0c54b11a26b8e8d59f2</td>\n",
       "      <td>sao_paulo</td>\n",
       "      <td>sp</td>\n",
       "      <td>080</td>\n",
       "      <td>34</td>\n",
       "      <td>216</td>\n",
       "      <td>2</td>\n",
       "      <td>399f54c06661d06ca45c6e24ed238e0e</td>\n",
       "      <td>5a3b1c29a49756e75f1ef513383c0c12</td>\n",
       "      <td>1</td>\n",
       "      <td>2017-10-31</td>\n",
       "      <td>2017-10-31 21:03:31</td>\n",
       "      <td>bed_bath_table</td>\n",
       "    </tr>\n",
       "    <tr>\n",
       "      <th>79549</th>\n",
       "      <td>5a3b1c29a49756e75f1ef513383c0c12</td>\n",
       "      <td>72.900002</td>\n",
       "      <td>2.660000</td>\n",
       "      <td>1</td>\n",
       "      <td>2017-10-17 13:06:29</td>\n",
       "      <td>2017-10-18 13:06:21.646633</td>\n",
       "      <td>2017-11-03</td>\n",
       "      <td>2017-10-22 14:43:54.999785</td>\n",
       "      <td>be1c4e52bb71e0c54b11a26b8e8d59f2</td>\n",
       "      <td>sao_paulo</td>\n",
       "      <td>sp</td>\n",
       "      <td>080</td>\n",
       "      <td>31</td>\n",
       "      <td>151</td>\n",
       "      <td>1</td>\n",
       "      <td>6a0713a63e990052795623e76cc2995e</td>\n",
       "      <td>5a3b1c29a49756e75f1ef513383c0c12</td>\n",
       "      <td>1</td>\n",
       "      <td>2017-10-23</td>\n",
       "      <td>2017-10-24 10:44:02</td>\n",
       "      <td>bed_bath_table</td>\n",
       "    </tr>\n",
       "    <tr>\n",
       "      <th>91684</th>\n",
       "      <td>5a3b1c29a49756e75f1ef513383c0c12</td>\n",
       "      <td>157.800003</td>\n",
       "      <td>15.970000</td>\n",
       "      <td>2</td>\n",
       "      <td>2017-10-17 13:06:29</td>\n",
       "      <td>2017-10-18 13:06:21.646633</td>\n",
       "      <td>2017-11-03</td>\n",
       "      <td>2017-10-22 14:43:54.999785</td>\n",
       "      <td>be1c4e52bb71e0c54b11a26b8e8d59f2</td>\n",
       "      <td>sao_paulo</td>\n",
       "      <td>sp</td>\n",
       "      <td>080</td>\n",
       "      <td>29</td>\n",
       "      <td>263</td>\n",
       "      <td>1</td>\n",
       "      <td>e95fb3a80ca294f39de925b6428f3a32</td>\n",
       "      <td>5a3b1c29a49756e75f1ef513383c0c12</td>\n",
       "      <td>1</td>\n",
       "      <td>2017-10-31</td>\n",
       "      <td>2017-10-31 21:03:31</td>\n",
       "      <td>bed_bath_table</td>\n",
       "    </tr>\n",
       "  </tbody>\n",
       "</table>\n",
       "</div>"
      ],
      "text/plain": [
       "                               order_id  order_products_value  \\\n",
       "3640   5a3b1c29a49756e75f1ef513383c0c12             72.900002   \n",
       "37312  5a3b1c29a49756e75f1ef513383c0c12             99.980003   \n",
       "45061  5a3b1c29a49756e75f1ef513383c0c12             99.980003   \n",
       "52338  5a3b1c29a49756e75f1ef513383c0c12             58.900002   \n",
       "53362  5a3b1c29a49756e75f1ef513383c0c12            139.800003   \n",
       "58651  5a3b1c29a49756e75f1ef513383c0c12             58.900002   \n",
       "77024  5a3b1c29a49756e75f1ef513383c0c12            185.699997   \n",
       "79507  5a3b1c29a49756e75f1ef513383c0c12            185.699997   \n",
       "79549  5a3b1c29a49756e75f1ef513383c0c12             72.900002   \n",
       "91684  5a3b1c29a49756e75f1ef513383c0c12            157.800003   \n",
       "\n",
       "       order_freight_value  order_items_qty order_purchase_timestamp  \\\n",
       "3640              2.660000                1      2017-10-17 13:06:29   \n",
       "37312            14.200000                2      2017-10-17 13:06:29   \n",
       "45061            14.200000                2      2017-10-17 13:06:29   \n",
       "52338             2.660000                1      2017-10-17 13:06:29   \n",
       "53362            67.440002                2      2017-10-17 13:06:29   \n",
       "58651             2.660000                1      2017-10-17 13:06:29   \n",
       "77024            35.939999                3      2017-10-17 13:06:29   \n",
       "79507            35.939999                3      2017-10-17 13:06:29   \n",
       "79549             2.660000                1      2017-10-17 13:06:29   \n",
       "91684            15.970000                2      2017-10-17 13:06:29   \n",
       "\n",
       "                order_aproved_at order_estimated_delivery_date  \\\n",
       "3640  2017-10-18 13:06:21.646633                    2017-11-03   \n",
       "37312 2017-10-18 13:06:21.646633                    2017-11-03   \n",
       "45061 2017-10-18 13:06:21.646633                    2017-11-03   \n",
       "52338 2017-10-18 13:06:21.646633                    2017-11-03   \n",
       "53362 2017-10-18 13:06:21.646633                    2017-11-03   \n",
       "58651 2017-10-18 13:06:21.646633                    2017-11-03   \n",
       "77024 2017-10-18 13:06:21.646633                    2017-11-03   \n",
       "79507 2017-10-18 13:06:21.646633                    2017-11-03   \n",
       "79549 2017-10-18 13:06:21.646633                    2017-11-03   \n",
       "91684 2017-10-18 13:06:21.646633                    2017-11-03   \n",
       "\n",
       "      order_delivered_customer_date                       customer_id  \\\n",
       "3640     2017-10-22 14:43:54.999785  be1c4e52bb71e0c54b11a26b8e8d59f2   \n",
       "37312    2017-10-22 14:43:54.999785  be1c4e52bb71e0c54b11a26b8e8d59f2   \n",
       "45061    2017-10-22 14:43:54.999785  be1c4e52bb71e0c54b11a26b8e8d59f2   \n",
       "52338    2017-10-22 14:43:54.999785  be1c4e52bb71e0c54b11a26b8e8d59f2   \n",
       "53362    2017-10-22 14:43:54.999785  be1c4e52bb71e0c54b11a26b8e8d59f2   \n",
       "58651    2017-10-22 14:43:54.999785  be1c4e52bb71e0c54b11a26b8e8d59f2   \n",
       "77024    2017-10-22 14:43:54.999785  be1c4e52bb71e0c54b11a26b8e8d59f2   \n",
       "79507    2017-10-22 14:43:54.999785  be1c4e52bb71e0c54b11a26b8e8d59f2   \n",
       "79549    2017-10-22 14:43:54.999785  be1c4e52bb71e0c54b11a26b8e8d59f2   \n",
       "91684    2017-10-22 14:43:54.999785  be1c4e52bb71e0c54b11a26b8e8d59f2   \n",
       "\n",
       "      customer_city customer_state customer_zip_code_prefix  \\\n",
       "3640      sao_paulo             sp                      080   \n",
       "37312     sao_paulo             sp                      080   \n",
       "45061     sao_paulo             sp                      080   \n",
       "52338     sao_paulo             sp                      080   \n",
       "53362     sao_paulo             sp                      080   \n",
       "58651     sao_paulo             sp                      080   \n",
       "77024     sao_paulo             sp                      080   \n",
       "79507     sao_paulo             sp                      080   \n",
       "79549     sao_paulo             sp                      080   \n",
       "91684     sao_paulo             sp                      080   \n",
       "\n",
       "       product_name_lenght  product_description_lenght  product_photos_qty  \\\n",
       "3640                    31                         151                   1   \n",
       "37312                   40                         162                   1   \n",
       "45061                   40                         162                   1   \n",
       "52338                   26                         212                   2   \n",
       "53362                   34                         308                   1   \n",
       "58651                   26                         212                   2   \n",
       "77024                   34                         216                   2   \n",
       "79507                   34                         216                   2   \n",
       "79549                   31                         151                   1   \n",
       "91684                   29                         263                   1   \n",
       "\n",
       "                             product_id                         review_id  \\\n",
       "3640   6a0713a63e990052795623e76cc2995e  5a3b1c29a49756e75f1ef513383c0c12   \n",
       "37312  99444c1e11fc38755dae86f5c67d3d1a  5a3b1c29a49756e75f1ef513383c0c12   \n",
       "45061  99444c1e11fc38755dae86f5c67d3d1a  5a3b1c29a49756e75f1ef513383c0c12   \n",
       "52338  17d8b8e9c21ec0fc5b33724e32fe422e  5a3b1c29a49756e75f1ef513383c0c12   \n",
       "53362  d25bbb182b51d1594fe3b54a27ae143e  5a3b1c29a49756e75f1ef513383c0c12   \n",
       "58651  17d8b8e9c21ec0fc5b33724e32fe422e  5a3b1c29a49756e75f1ef513383c0c12   \n",
       "77024  399f54c06661d06ca45c6e24ed238e0e  5a3b1c29a49756e75f1ef513383c0c12   \n",
       "79507  399f54c06661d06ca45c6e24ed238e0e  5a3b1c29a49756e75f1ef513383c0c12   \n",
       "79549  6a0713a63e990052795623e76cc2995e  5a3b1c29a49756e75f1ef513383c0c12   \n",
       "91684  e95fb3a80ca294f39de925b6428f3a32  5a3b1c29a49756e75f1ef513383c0c12   \n",
       "\n",
       "       review_score review_creation_date review_answer_timestamp  \\\n",
       "3640              1           2017-10-31     2017-10-31 21:03:31   \n",
       "37312             1           2017-10-23     2017-10-24 10:44:02   \n",
       "45061             1           2017-10-31     2017-10-31 21:03:31   \n",
       "52338             1           2017-10-31     2017-10-31 21:03:31   \n",
       "53362             1           2017-10-23     2017-10-24 10:44:02   \n",
       "58651             1           2017-10-23     2017-10-24 10:44:02   \n",
       "77024             1           2017-10-23     2017-10-24 10:44:02   \n",
       "79507             1           2017-10-31     2017-10-31 21:03:31   \n",
       "79549             1           2017-10-23     2017-10-24 10:44:02   \n",
       "91684             1           2017-10-31     2017-10-31 21:03:31   \n",
       "\n",
       "      product_category_name_english  \n",
       "3640                 bed_bath_table  \n",
       "37312                bed_bath_table  \n",
       "45061                bed_bath_table  \n",
       "52338                bed_bath_table  \n",
       "53362                bed_bath_table  \n",
       "58651                bed_bath_table  \n",
       "77024                bed_bath_table  \n",
       "79507                bed_bath_table  \n",
       "79549                bed_bath_table  \n",
       "91684                bed_bath_table  "
      ]
     },
     "metadata": {},
     "output_type": "display_data"
    }
   ],
   "source": [
    "display(public_data[public_data['order_id'] == '5a3b1c29a49756e75f1ef513383c0c12'])"
   ]
  },
  {
   "cell_type": "code",
   "execution_count": 8,
   "id": "3f809986-1025-43d7-8931-d843a22dd60b",
   "metadata": {},
   "outputs": [
    {
     "data": {
      "text/html": [
       "<div>\n",
       "<style scoped>\n",
       "    .dataframe tbody tr th:only-of-type {\n",
       "        vertical-align: middle;\n",
       "    }\n",
       "\n",
       "    .dataframe tbody tr th {\n",
       "        vertical-align: top;\n",
       "    }\n",
       "\n",
       "    .dataframe thead th {\n",
       "        text-align: right;\n",
       "    }\n",
       "</style>\n",
       "<table border=\"1\" class=\"dataframe\">\n",
       "  <thead>\n",
       "    <tr style=\"text-align: right;\">\n",
       "      <th></th>\n",
       "      <th>order_id</th>\n",
       "      <th>customer_id</th>\n",
       "    </tr>\n",
       "  </thead>\n",
       "  <tbody>\n",
       "    <tr>\n",
       "      <th>17358</th>\n",
       "      <td>0000f01da58c553799200eb71eb0563b</td>\n",
       "      <td>aaf96a43700cc28f3d1f6115e9bf311e</td>\n",
       "    </tr>\n",
       "    <tr>\n",
       "      <th>69538</th>\n",
       "      <td>00010242fe8c5a6d1ba2dd792cb16214</td>\n",
       "      <td>3ce436f183e68e07877b285a838db11a</td>\n",
       "    </tr>\n",
       "    <tr>\n",
       "      <th>44142</th>\n",
       "      <td>00026c8a4fe2c14efa2afe807921981c</td>\n",
       "      <td>a7785a0278913274fddadfb4010eb59e</td>\n",
       "    </tr>\n",
       "    <tr>\n",
       "      <th>70168</th>\n",
       "      <td>000312d02b605a8a630c3a9882793ffb</td>\n",
       "      <td>d54487c6cb43a7ae702eac4adc1d9224</td>\n",
       "    </tr>\n",
       "    <tr>\n",
       "      <th>86530</th>\n",
       "      <td>000330af600103828257923c9aa98ae2</td>\n",
       "      <td>fad0bbc7d520cbb3c5b67d4d4b546826</td>\n",
       "    </tr>\n",
       "    <tr>\n",
       "      <th>...</th>\n",
       "      <td>...</td>\n",
       "      <td>...</td>\n",
       "    </tr>\n",
       "    <tr>\n",
       "      <th>28192</th>\n",
       "      <td>fffb9224b6fc7c43ebb0904318b10b5f</td>\n",
       "      <td>4d3abb73ceb86353aeadbe698aa9d5cb</td>\n",
       "    </tr>\n",
       "    <tr>\n",
       "      <th>25808</th>\n",
       "      <td>fffc6722901386c66d5f8009639fcb24</td>\n",
       "      <td>2e899e8140c36d1792eeaac96d9d058b</td>\n",
       "    </tr>\n",
       "    <tr>\n",
       "      <th>50093</th>\n",
       "      <td>fffe18544ffabc95dfada21779c9644f</td>\n",
       "      <td>b5e6afd5a41800fdf401e0272ca74655</td>\n",
       "    </tr>\n",
       "    <tr>\n",
       "      <th>88183</th>\n",
       "      <td>fffe7967a0e803b9331617191f6c7ed7</td>\n",
       "      <td>0786576d0923b748d5ac1e4f03e85a1d</td>\n",
       "    </tr>\n",
       "    <tr>\n",
       "      <th>69429</th>\n",
       "      <td>ffff4b4f540d2d98fae13222d4d3aec1</td>\n",
       "      <td>630c8d5317613978f80cc0e42f91546d</td>\n",
       "    </tr>\n",
       "  </tbody>\n",
       "</table>\n",
       "<p>97578 rows × 2 columns</p>\n",
       "</div>"
      ],
      "text/plain": [
       "                               order_id                       customer_id\n",
       "17358  0000f01da58c553799200eb71eb0563b  aaf96a43700cc28f3d1f6115e9bf311e\n",
       "69538  00010242fe8c5a6d1ba2dd792cb16214  3ce436f183e68e07877b285a838db11a\n",
       "44142  00026c8a4fe2c14efa2afe807921981c  a7785a0278913274fddadfb4010eb59e\n",
       "70168  000312d02b605a8a630c3a9882793ffb  d54487c6cb43a7ae702eac4adc1d9224\n",
       "86530  000330af600103828257923c9aa98ae2  fad0bbc7d520cbb3c5b67d4d4b546826\n",
       "...                                 ...                               ...\n",
       "28192  fffb9224b6fc7c43ebb0904318b10b5f  4d3abb73ceb86353aeadbe698aa9d5cb\n",
       "25808  fffc6722901386c66d5f8009639fcb24  2e899e8140c36d1792eeaac96d9d058b\n",
       "50093  fffe18544ffabc95dfada21779c9644f  b5e6afd5a41800fdf401e0272ca74655\n",
       "88183  fffe7967a0e803b9331617191f6c7ed7  0786576d0923b748d5ac1e4f03e85a1d\n",
       "69429  ffff4b4f540d2d98fae13222d4d3aec1  630c8d5317613978f80cc0e42f91546d\n",
       "\n",
       "[97578 rows x 2 columns]"
      ]
     },
     "metadata": {},
     "output_type": "display_data"
    }
   ],
   "source": [
    "display(public_data[['order_id', 'customer_id']].sort_values(by='order_id'))"
   ]
  },
  {
   "cell_type": "markdown",
   "id": "ba8d480d-fc31-4104-867c-677a563fff11",
   "metadata": {},
   "source": [
    "Нужно сгруппировать public_data по order_id последующего использования:"
   ]
  },
  {
   "cell_type": "code",
   "execution_count": 26,
   "id": "5f2b9972-a82b-4899-bbcd-33cb5b24d1e8",
   "metadata": {},
   "outputs": [],
   "source": [
    "# Найти числовые признаки, которые агрегируем как сумму\n",
    "sum_cols = ['order_products_value', 'order_freight_value', 'order_items_qty', 'product_photos_qty']\n",
    "mean_cols = ['product_name_lenght', 'product_description_lenght']\n",
    "min_cols = ['review_creation_date', 'review_answer_timestamp']\n",
    "# Остальные признаки, которые одинаковые в группе\n",
    "agg_cols = set(sum_cols + mean_cols + min_cols + ['order_id'])\n",
    "other_cols = [col for col in public_data.columns if col not in agg_cols]\n",
    "\n",
    "# Создаем словарь агрегации\n",
    "agg_dict = {col: \"sum\" for col in sum_cols}\n",
    "agg_dict.update({col: \"mean\" for col in mean_cols})\n",
    "agg_dict.update({col: \"min\" for col in min_cols})\n",
    "agg_dict.update({col: \"first\" for col in other_cols})\n",
    "\n",
    "# Применяем группировку\n",
    "public_data_grouped = public_data.groupby(\"order_id\").agg(agg_dict).reset_index()"
   ]
  },
  {
   "cell_type": "code",
   "execution_count": 90,
   "id": "0d61972b-0d0c-4df3-8567-9b1b96b93f61",
   "metadata": {},
   "outputs": [],
   "source": [
    "#public_data_grouped.to_parquet(INTERIM_NOTEBOOK_DIR / \"public_grouped_interim.parquet\")"
   ]
  },
  {
   "cell_type": "markdown",
   "id": "22412713-317b-4f77-8dad-795094b1659c",
   "metadata": {},
   "source": [
    "Для анализа расстояний между покупателем и продавцом нам не хватает полного zip_code. В нашем случае имеется лишь префикс в виде трех цифр, что не подходит. Нужны все 5 цифр. geolocation_data не может быть использована в данной ситуации."
   ]
  },
  {
   "cell_type": "code",
   "execution_count": 91,
   "id": "448cc292-d083-41c9-a33b-a796c1bdf2a1",
   "metadata": {},
   "outputs": [],
   "source": [
    "public_data_grouped = pd.read_parquet(INTERIM_NOTEBOOK_DIR / \"public_grouped_interim.parquet\")"
   ]
  },
  {
   "cell_type": "code",
   "execution_count": 65,
   "id": "8d35c8e6-363d-4324-9cf2-98578167110d",
   "metadata": {},
   "outputs": [
    {
     "data": {
      "text/plain": [
       "93900"
      ]
     },
     "execution_count": 65,
     "metadata": {},
     "output_type": "execute_result"
    }
   ],
   "source": [
    "len(public_data_grouped['order_id'].unique())"
   ]
  },
  {
   "cell_type": "code",
   "execution_count": 93,
   "id": "c7360a91-706d-4eac-93d8-9b087f21bf60",
   "metadata": {},
   "outputs": [],
   "source": [
    "payments_grouped = pd.read_parquet(INTERIM_NOTEBOOK_DIR / \"payments_grouped_interim.parquet\")"
   ]
  },
  {
   "cell_type": "code",
   "execution_count": 94,
   "id": "6337fa44-66b2-4d3d-95a0-f2b8ae96e9fe",
   "metadata": {},
   "outputs": [
    {
     "data": {
      "text/plain": [
       "90825"
      ]
     },
     "execution_count": 94,
     "metadata": {},
     "output_type": "execute_result"
    }
   ],
   "source": [
    "len(payments_grouped['order_id'].unique())"
   ]
  },
  {
   "cell_type": "code",
   "execution_count": 95,
   "id": "b55644b1-5d2c-4eb4-b3b3-58bc272340b9",
   "metadata": {},
   "outputs": [],
   "source": [
    "public_and_payments = public_data_grouped.merge(payments_grouped, how='left', on='order_id')"
   ]
  },
  {
   "cell_type": "code",
   "execution_count": 69,
   "id": "594643b1-45bc-4b46-b18b-d14147d98d0f",
   "metadata": {},
   "outputs": [
    {
     "data": {
      "text/plain": [
       "93900"
      ]
     },
     "execution_count": 69,
     "metadata": {},
     "output_type": "execute_result"
    }
   ],
   "source": [
    "len(public_and_payments['order_id'].unique())"
   ]
  },
  {
   "cell_type": "code",
   "execution_count": 97,
   "id": "96d43186-a5ea-495a-8491-c8e8e4b30d86",
   "metadata": {},
   "outputs": [
    {
     "data": {
      "text/plain": [
       "order_id                            0\n",
       "order_products_value                0\n",
       "order_freight_value                 0\n",
       "order_items_qty                     0\n",
       "product_photos_qty                  0\n",
       "product_name_lenght                 0\n",
       "product_description_lenght          0\n",
       "review_creation_date                0\n",
       "review_answer_timestamp             0\n",
       "order_purchase_timestamp            0\n",
       "order_aproved_at                    0\n",
       "order_estimated_delivery_date       0\n",
       "order_delivered_customer_date       0\n",
       "customer_id                         0\n",
       "customer_city                       0\n",
       "customer_state                      0\n",
       "customer_zip_code_prefix            0\n",
       "product_id                          0\n",
       "review_id                           0\n",
       "review_score                        0\n",
       "product_category_name_english       0\n",
       "value                            5337\n",
       "installments                     5337\n",
       "sequential                       5337\n",
       "dtype: int64"
      ]
     },
     "execution_count": 97,
     "metadata": {},
     "output_type": "execute_result"
    }
   ],
   "source": [
    "public_and_payments.isna().sum()"
   ]
  },
  {
   "cell_type": "markdown",
   "id": "60b8ca96-31b8-4d27-9d4f-7c167112fbf6",
   "metadata": {},
   "source": [
    "Пропуски появились вследствие объединения из-за отсутствия платежей за некоторые товары. Логично заполнить нулями (сумма платежа равна нулю если платежа еще не было)."
   ]
  },
  {
   "cell_type": "code",
   "execution_count": 98,
   "id": "eab7d657-df2e-4bd8-8f25-e76ff7b13dc2",
   "metadata": {},
   "outputs": [],
   "source": [
    "public_and_payments = public_and_payments.fillna(0)"
   ]
  },
  {
   "cell_type": "code",
   "execution_count": 99,
   "id": "45f11867-7ad2-4f55-83c3-2258be854940",
   "metadata": {},
   "outputs": [
    {
     "data": {
      "text/plain": [
       "(93900, 24)"
      ]
     },
     "execution_count": 99,
     "metadata": {},
     "output_type": "execute_result"
    }
   ],
   "source": [
    "public_and_payments.shape"
   ]
  },
  {
   "cell_type": "code",
   "execution_count": 100,
   "id": "387acdc8-2b80-475a-a71a-f052097c6a88",
   "metadata": {},
   "outputs": [],
   "source": [
    "public_and_payments_and_measures = public_and_payments.merge(measures_data, how='left', on='product_id')"
   ]
  },
  {
   "cell_type": "code",
   "execution_count": 102,
   "id": "8cfa3d15-6fdb-4e94-9d8b-f07ef5eb4268",
   "metadata": {},
   "outputs": [
    {
     "data": {
      "text/plain": [
       "(93900, 28)"
      ]
     },
     "execution_count": 102,
     "metadata": {},
     "output_type": "execute_result"
    }
   ],
   "source": [
    "public_and_payments_and_measures.shape"
   ]
  },
  {
   "cell_type": "code",
   "execution_count": 103,
   "id": "ee695b96-b1e5-48b6-800e-3a0ad243befb",
   "metadata": {},
   "outputs": [
    {
     "data": {
      "text/plain": [
       "order_id                          0\n",
       "order_products_value              0\n",
       "order_freight_value               0\n",
       "order_items_qty                   0\n",
       "product_photos_qty                0\n",
       "product_name_lenght               0\n",
       "product_description_lenght        0\n",
       "review_creation_date              0\n",
       "review_answer_timestamp           0\n",
       "order_purchase_timestamp          0\n",
       "order_aproved_at                  0\n",
       "order_estimated_delivery_date     0\n",
       "order_delivered_customer_date     0\n",
       "customer_id                       0\n",
       "customer_city                     0\n",
       "customer_state                    0\n",
       "customer_zip_code_prefix          0\n",
       "product_id                        0\n",
       "review_id                         0\n",
       "review_score                      0\n",
       "product_category_name_english     0\n",
       "value                             0\n",
       "installments                      0\n",
       "sequential                        0\n",
       "product_weight_g                 18\n",
       "product_length_cm                18\n",
       "product_height_cm                18\n",
       "product_width_cm                 18\n",
       "dtype: int64"
      ]
     },
     "execution_count": 103,
     "metadata": {},
     "output_type": "execute_result"
    }
   ],
   "source": [
    "public_and_payments_and_measures.isna().sum()"
   ]
  },
  {
   "cell_type": "markdown",
   "id": "985ee5bf-f3aa-4f5a-bd7d-d37ed0deab5a",
   "metadata": {},
   "source": [
    "Для каких-то товаров в public_data нет информации из measures_data о размерах. Удалим такие строки."
   ]
  },
  {
   "cell_type": "code",
   "execution_count": 104,
   "id": "341965c3-b136-44a6-b483-2c17940136e9",
   "metadata": {},
   "outputs": [],
   "source": [
    "public_and_payments_and_measures = public_and_payments_and_measures.dropna()"
   ]
  },
  {
   "cell_type": "code",
   "execution_count": 105,
   "id": "62a04c74-8a18-4016-89a4-ac60acd8bc2f",
   "metadata": {},
   "outputs": [],
   "source": [
    "public_and_payments_and_measures_and_customers = public_and_payments_and_measures.merge(customers_data, how='left', on='customer_id')"
   ]
  },
  {
   "cell_type": "code",
   "execution_count": 107,
   "id": "d968e3fd-adb8-4d0b-aaf6-3033bca7859c",
   "metadata": {},
   "outputs": [
    {
     "data": {
      "text/plain": [
       "order_id                         0\n",
       "order_products_value             0\n",
       "order_freight_value              0\n",
       "order_items_qty                  0\n",
       "product_photos_qty               0\n",
       "product_name_lenght              0\n",
       "product_description_lenght       0\n",
       "review_creation_date             0\n",
       "review_answer_timestamp          0\n",
       "order_purchase_timestamp         0\n",
       "order_aproved_at                 0\n",
       "order_estimated_delivery_date    0\n",
       "order_delivered_customer_date    0\n",
       "customer_id                      0\n",
       "customer_city                    0\n",
       "customer_state                   0\n",
       "customer_zip_code_prefix         0\n",
       "product_id                       0\n",
       "review_id                        0\n",
       "review_score                     0\n",
       "product_category_name_english    0\n",
       "value                            0\n",
       "installments                     0\n",
       "sequential                       0\n",
       "product_weight_g                 0\n",
       "product_length_cm                0\n",
       "product_height_cm                0\n",
       "product_width_cm                 0\n",
       "customer_unique_id               0\n",
       "dtype: int64"
      ]
     },
     "execution_count": 107,
     "metadata": {},
     "output_type": "execute_result"
    }
   ],
   "source": [
    "public_and_payments_and_measures_and_customers.isna().sum()"
   ]
  },
  {
   "cell_type": "code",
   "execution_count": 108,
   "id": "dc391ed2-effd-4c31-954a-afa4d2eb813b",
   "metadata": {},
   "outputs": [],
   "source": [
    "public_and_payments_and_measures_and_customers_and_sellers = public_and_payments_and_measures_and_customers.merge(sellers_data, how='left', on=['order_id', 'product_id'])"
   ]
  },
  {
   "cell_type": "code",
   "execution_count": 110,
   "id": "46619de1-aa3d-46ad-9280-4c8b5dc1865d",
   "metadata": {},
   "outputs": [
    {
     "data": {
      "text/plain": [
       "order_id                         0\n",
       "order_products_value             0\n",
       "order_freight_value              0\n",
       "order_items_qty                  0\n",
       "product_photos_qty               0\n",
       "product_name_lenght              0\n",
       "product_description_lenght       0\n",
       "review_creation_date             0\n",
       "review_answer_timestamp          0\n",
       "order_purchase_timestamp         0\n",
       "order_aproved_at                 0\n",
       "order_estimated_delivery_date    0\n",
       "order_delivered_customer_date    0\n",
       "customer_id                      0\n",
       "customer_city                    0\n",
       "customer_state                   0\n",
       "customer_zip_code_prefix         0\n",
       "product_id                       0\n",
       "review_id                        0\n",
       "review_score                     0\n",
       "product_category_name_english    0\n",
       "value                            0\n",
       "installments                     0\n",
       "sequential                       0\n",
       "product_weight_g                 0\n",
       "product_length_cm                0\n",
       "product_height_cm                0\n",
       "product_width_cm                 0\n",
       "customer_unique_id               0\n",
       "seller_id                        0\n",
       "seller_zip_code_prefix           0\n",
       "seller_city                      0\n",
       "seller_state                     0\n",
       "dtype: int64"
      ]
     },
     "execution_count": 110,
     "metadata": {},
     "output_type": "execute_result"
    }
   ],
   "source": [
    "public_and_payments_and_measures_and_customers_and_sellers.isna().sum()"
   ]
  },
  {
   "cell_type": "code",
   "execution_count": 111,
   "id": "cb343b85-a30d-43c1-868a-3cb6006bc3fb",
   "metadata": {},
   "outputs": [
    {
     "name": "stdout",
     "output_type": "stream",
     "text": [
      "<class 'pandas.core.frame.DataFrame'>\n",
      "RangeIndex: 93882 entries, 0 to 93881\n",
      "Data columns (total 33 columns):\n",
      " #   Column                         Non-Null Count  Dtype         \n",
      "---  ------                         --------------  -----         \n",
      " 0   order_id                       93882 non-null  string        \n",
      " 1   order_products_value           93882 non-null  float32       \n",
      " 2   order_freight_value            93882 non-null  float32       \n",
      " 3   order_items_qty                93882 non-null  Int64         \n",
      " 4   product_photos_qty             93882 non-null  Int64         \n",
      " 5   product_name_lenght            93882 non-null  Float64       \n",
      " 6   product_description_lenght     93882 non-null  Float64       \n",
      " 7   review_creation_date           93882 non-null  datetime64[ns]\n",
      " 8   review_answer_timestamp        93882 non-null  datetime64[ns]\n",
      " 9   order_purchase_timestamp       93882 non-null  datetime64[ns]\n",
      " 10  order_aproved_at               93882 non-null  datetime64[ns]\n",
      " 11  order_estimated_delivery_date  93882 non-null  datetime64[ns]\n",
      " 12  order_delivered_customer_date  93882 non-null  datetime64[ns]\n",
      " 13  customer_id                    93882 non-null  string        \n",
      " 14  customer_city                  93882 non-null  string        \n",
      " 15  customer_state                 93882 non-null  string        \n",
      " 16  customer_zip_code_prefix       93882 non-null  string        \n",
      " 17  product_id                     93882 non-null  string        \n",
      " 18  review_id                      93882 non-null  string        \n",
      " 19  review_score                   93882 non-null  Int64         \n",
      " 20  product_category_name_english  93882 non-null  object        \n",
      " 21  value                          93882 non-null  float32       \n",
      " 22  installments                   93882 non-null  Int64         \n",
      " 23  sequential                     93882 non-null  Int64         \n",
      " 24  product_weight_g               93882 non-null  float32       \n",
      " 25  product_length_cm              93882 non-null  float32       \n",
      " 26  product_height_cm              93882 non-null  float32       \n",
      " 27  product_width_cm               93882 non-null  float32       \n",
      " 28  customer_unique_id             93882 non-null  string        \n",
      " 29  seller_id                      93882 non-null  string        \n",
      " 30  seller_zip_code_prefix         93882 non-null  string        \n",
      " 31  seller_city                    93882 non-null  string        \n",
      " 32  seller_state                   93882 non-null  string        \n",
      "dtypes: Float64(2), Int64(5), datetime64[ns](6), float32(7), object(1), string(12)\n",
      "memory usage: 21.8+ MB\n"
     ]
    }
   ],
   "source": [
    "public_and_payments_and_measures_and_customers_and_sellers.info()"
   ]
  },
  {
   "cell_type": "code",
   "execution_count": 112,
   "id": "1996e433-3239-4c43-97d3-de5edb46ac7a",
   "metadata": {},
   "outputs": [],
   "source": [
    "public_and_payments_and_measures_and_customers_and_sellers.to_parquet(INTERIM_NOTEBOOK_DIR / \"merged_df.parquet\")"
   ]
  }
 ],
 "metadata": {
  "kernelspec": {
   "display_name": "Python 3 (ipykernel)",
   "language": "python",
   "name": "python3"
  },
  "language_info": {
   "codemirror_mode": {
    "name": "ipython",
    "version": 3
   },
   "file_extension": ".py",
   "mimetype": "text/x-python",
   "name": "python",
   "nbconvert_exporter": "python",
   "pygments_lexer": "ipython3",
   "version": "3.13.5"
  }
 },
 "nbformat": 4,
 "nbformat_minor": 5
}
