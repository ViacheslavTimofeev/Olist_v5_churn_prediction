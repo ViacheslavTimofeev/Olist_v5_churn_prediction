{
 "cells": [
  {
   "cell_type": "markdown",
   "id": "2bb2c7bd-7da0-4b39-83af-3927bc13730f",
   "metadata": {},
   "source": [
    "# Переформулировка задачи как анализ временного ряда"
   ]
  },
  {
   "cell_type": "markdown",
   "id": "f2789651-5003-4998-8d03-24a2d6ebc08d",
   "metadata": {},
   "source": [
    "### Проблема постановки"
   ]
  },
  {
   "cell_type": "markdown",
   "id": "3ae954c6-8dca-4bfd-819d-1533be242271",
   "metadata": {},
   "source": [
    "Изначальная постановка задачи звучала следующим образом: \"Покупатель считается ушедшим, если он с момента последней своей покупки прошло более N дней\". Эта постановка может быть верной в том случае, если нам нужно вернуть ушедших клиентов из прошлого. Однако по такой формулировке нельзя предсказывать будущее: мы уже знаем все наблюдения и определяем факт ухода постфактум."
   ]
  },
  {
   "cell_type": "markdown",
   "id": "93f0874a-adbc-4556-ade8-446da13160b9",
   "metadata": {},
   "source": [
    "### Переформулировка задачи"
   ]
  },
  {
   "cell_type": "markdown",
   "id": "01df4800-4d67-4bdb-928e-6ee7a5229815",
   "metadata": {},
   "source": [
    "Предположим, что нужно не вернуть ушедших клиентов, а предсказать по историческим данным, уйдет ли клиент в будущем. В таком случае изменим формулировку: **\"Пользователь считается неактивным, если он не совершал никаких действий в течение N дней после конца окна наблюдений длиной W\"**"
   ]
  },
  {
   "cell_type": "code",
   "execution_count": null,
   "id": "316e3835-fcc2-419d-9c9a-fd269dcc4d3d",
   "metadata": {},
   "outputs": [],
   "source": []
  }
 ],
 "metadata": {
  "kernelspec": {
   "display_name": "Python 3 (ipykernel)",
   "language": "python",
   "name": "python3"
  },
  "language_info": {
   "codemirror_mode": {
    "name": "ipython",
    "version": 3
   },
   "file_extension": ".py",
   "mimetype": "text/x-python",
   "name": "python",
   "nbconvert_exporter": "python",
   "pygments_lexer": "ipython3",
   "version": "3.13.5"
  }
 },
 "nbformat": 4,
 "nbformat_minor": 5
}
