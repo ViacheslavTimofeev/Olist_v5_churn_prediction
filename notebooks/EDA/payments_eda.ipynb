{
 "cells": [
  {
   "cell_type": "markdown",
   "id": "68421dce-08d0-4bad-9886-eceda7a3d08d",
   "metadata": {},
   "source": [
    "# Информация об оплате (payments_olist_public_dataset.csv)"
   ]
  },
  {
   "cell_type": "code",
   "execution_count": 3,
   "id": "94aba9c3-c2fb-471c-a2c7-4a049b35ac27",
   "metadata": {},
   "outputs": [],
   "source": [
    "import pandas as pd\n",
    "import matplotlib.pyplot as plt\n",
    "import re\n",
    "import seaborn as sns\n",
    "import sys, os\n",
    "import pathlib\n",
    "from pathlib import Path\n",
    "from olist_churn_prediction.paths import SRC_DIR, PROCESSED_DIR, INTERIM_NOTEBOOK_DIR, RAW_DIR\n",
    "from olist_churn_prediction import feature_processing"
   ]
  },
  {
   "cell_type": "code",
   "execution_count": 3,
   "id": "9b80ae5d-e67d-4091-9e73-70050cce98d8",
   "metadata": {},
   "outputs": [],
   "source": [
    "payments = pd.read_csv(RAW_DIR / \"payments_olist_public_dataset.csv\", low_memory=False)"
   ]
  },
  {
   "cell_type": "code",
   "execution_count": 4,
   "id": "56d0aab7-8ccd-4b64-a906-2f699fe49f5b",
   "metadata": {},
   "outputs": [
    {
     "data": {
      "text/html": [
       "<div>\n",
       "<style scoped>\n",
       "    .dataframe tbody tr th:only-of-type {\n",
       "        vertical-align: middle;\n",
       "    }\n",
       "\n",
       "    .dataframe tbody tr th {\n",
       "        vertical-align: top;\n",
       "    }\n",
       "\n",
       "    .dataframe thead th {\n",
       "        text-align: right;\n",
       "    }\n",
       "</style>\n",
       "<table border=\"1\" class=\"dataframe\">\n",
       "  <thead>\n",
       "    <tr style=\"text-align: right;\">\n",
       "      <th></th>\n",
       "      <th>order_id</th>\n",
       "      <th>installments</th>\n",
       "      <th>sequential</th>\n",
       "      <th>payment_type</th>\n",
       "      <th>value</th>\n",
       "    </tr>\n",
       "  </thead>\n",
       "  <tbody>\n",
       "    <tr>\n",
       "      <th>0</th>\n",
       "      <td>25e8ea4e93396b6fa0d3dd708e76c1bd</td>\n",
       "      <td>1</td>\n",
       "      <td>1</td>\n",
       "      <td>credit_card</td>\n",
       "      <td>65.71</td>\n",
       "    </tr>\n",
       "    <tr>\n",
       "      <th>1</th>\n",
       "      <td>ba78997921bbcdc1373bb41e913ab953</td>\n",
       "      <td>8</td>\n",
       "      <td>1</td>\n",
       "      <td>credit_card</td>\n",
       "      <td>107.78</td>\n",
       "    </tr>\n",
       "    <tr>\n",
       "      <th>2</th>\n",
       "      <td>42fdf880ba16b47b59251dd489d4441a</td>\n",
       "      <td>2</td>\n",
       "      <td>1</td>\n",
       "      <td>credit_card</td>\n",
       "      <td>128.45</td>\n",
       "    </tr>\n",
       "    <tr>\n",
       "      <th>3</th>\n",
       "      <td>771ee386b001f06208a7419e4fc1bbd7</td>\n",
       "      <td>1</td>\n",
       "      <td>1</td>\n",
       "      <td>credit_card</td>\n",
       "      <td>81.16</td>\n",
       "    </tr>\n",
       "    <tr>\n",
       "      <th>4</th>\n",
       "      <td>62fe0bd75deb58982ebf8e53a128a301</td>\n",
       "      <td>1</td>\n",
       "      <td>1</td>\n",
       "      <td>credit_card</td>\n",
       "      <td>15.82</td>\n",
       "    </tr>\n",
       "  </tbody>\n",
       "</table>\n",
       "</div>"
      ],
      "text/plain": [
       "                           order_id  installments  sequential payment_type  \\\n",
       "0  25e8ea4e93396b6fa0d3dd708e76c1bd             1           1  credit_card   \n",
       "1  ba78997921bbcdc1373bb41e913ab953             8           1  credit_card   \n",
       "2  42fdf880ba16b47b59251dd489d4441a             2           1  credit_card   \n",
       "3  771ee386b001f06208a7419e4fc1bbd7             1           1  credit_card   \n",
       "4  62fe0bd75deb58982ebf8e53a128a301             1           1  credit_card   \n",
       "\n",
       "    value  \n",
       "0   65.71  \n",
       "1  107.78  \n",
       "2  128.45  \n",
       "3   81.16  \n",
       "4   15.82  "
      ]
     },
     "metadata": {},
     "output_type": "display_data"
    },
    {
     "name": "stdout",
     "output_type": "stream",
     "text": [
      "(97433, 5)\n"
     ]
    },
    {
     "data": {
      "text/plain": [
       "order_id         object\n",
       "installments      int64\n",
       "sequential        int64\n",
       "payment_type     object\n",
       "value           float64\n",
       "dtype: object"
      ]
     },
     "execution_count": 4,
     "metadata": {},
     "output_type": "execute_result"
    }
   ],
   "source": [
    "display(payments.head())\n",
    "print(payments.shape)\n",
    "payments.dtypes"
   ]
  },
  {
   "cell_type": "markdown",
   "id": "00fe8211-f165-4ad1-b2b2-a04bce48965c",
   "metadata": {},
   "source": [
    "#### Пояснения к признакам:"
   ]
  },
  {
   "cell_type": "markdown",
   "id": "9c9aea95-3189-4e00-b020-3b3ed161096d",
   "metadata": {},
   "source": [
    "`order_id` - id заказа;\n",
    "\n",
    "`installments` - количество маленьких платежей после разбития. В случае рассрочки *installments* > 1;\n",
    "\n",
    "`sequential` - в случае рассрочки: номер платежа в очереди;\n",
    "\n",
    "`payment_type` - способ оплаты;\n",
    "\n",
    "`value` - сумма платежа."
   ]
  },
  {
   "cell_type": "code",
   "execution_count": 5,
   "id": "5b1ea0d5-588e-48f3-bc8e-e27de6947987",
   "metadata": {},
   "outputs": [
    {
     "name": "stdout",
     "output_type": "stream",
     "text": [
      "order_id        0\n",
      "installments    0\n",
      "sequential      0\n",
      "payment_type    0\n",
      "value           0\n",
      "dtype: int64\n"
     ]
    }
   ],
   "source": [
    "print(payments.isna().sum())"
   ]
  },
  {
   "cell_type": "code",
   "execution_count": 6,
   "id": "503459e4-3dde-46db-8e5b-4961c7d4843c",
   "metadata": {},
   "outputs": [
    {
     "name": "stdout",
     "output_type": "stream",
     "text": [
      "--- order_id ---\n",
      "order_id\n",
      "fa65dad1b0e818e3ccc5cb0e39231352    29\n",
      "03e1841a170fb6f5e24206904efc6fab    27\n",
      "41fb7a8d8f3d73458b618d9e8e6acfc5    26\n",
      "ccf804e764ed5650cd8759557269dc13    26\n",
      "895ab968e7bb0d5659d16cd74cd1650c    21\n",
      "                                    ..\n",
      "29dea474da93a6db101993bd66950030     1\n",
      "803e822a03730624352b85d6bb2727c3     1\n",
      "d19f4ab4bd008d9b26f5eb3afc6cc251     1\n",
      "08155dc6ba79711f958dca6dfa4bbb01     1\n",
      "fbf642fcdceb367d872ffafae54fc09a     1\n",
      "Name: count, Length: 93000, dtype: int64\n",
      "\n",
      "--- installments ---\n",
      "installments\n",
      "1     48376\n",
      "2     11745\n",
      "3     10106\n",
      "4      6806\n",
      "10     5070\n",
      "5      4940\n",
      "8      3933\n",
      "6      3810\n",
      "7      1649\n",
      "9       652\n",
      "12      129\n",
      "15       71\n",
      "11       31\n",
      "18       29\n",
      "24       25\n",
      "20       15\n",
      "13       12\n",
      "14       12\n",
      "16        8\n",
      "17        4\n",
      "19        3\n",
      "22        2\n",
      "21        2\n",
      "0         2\n",
      "23        1\n",
      "Name: count, dtype: int64\n",
      "\n",
      "--- sequential ---\n",
      "sequential\n",
      "1     92928\n",
      "2      2939\n",
      "3       583\n",
      "4       295\n",
      "5       177\n",
      "6       118\n",
      "7        83\n",
      "8        59\n",
      "9        50\n",
      "10       40\n",
      "11       33\n",
      "12       24\n",
      "13       17\n",
      "14       13\n",
      "15       10\n",
      "16        8\n",
      "17        8\n",
      "19        7\n",
      "18        7\n",
      "20        5\n",
      "21        5\n",
      "24        4\n",
      "23        4\n",
      "25        4\n",
      "26        4\n",
      "22        4\n",
      "27        2\n",
      "28        1\n",
      "29        1\n",
      "Name: count, dtype: int64\n",
      "\n",
      "--- payment_type ---\n",
      "payment_type\n",
      "credit_card    71676\n",
      "boleto         18845\n",
      "voucher         5635\n",
      "debit_card      1277\n",
      "Name: count, dtype: int64\n",
      "\n"
     ]
    }
   ],
   "source": [
    "for col in payments.columns.drop('value'):\n",
    "    print(f\"--- {col} ---\")\n",
    "    print(payments[col].value_counts())\n",
    "    print()"
   ]
  },
  {
   "cell_type": "markdown",
   "id": "22832660-85d2-4a9e-a959-3c19ab979dc9",
   "metadata": {},
   "source": [
    "Удалим строки со значениями installments=0 и value=0:"
   ]
  },
  {
   "cell_type": "code",
   "execution_count": 7,
   "id": "9833074d-0745-465c-abf7-b7a8940fadeb",
   "metadata": {},
   "outputs": [],
   "source": [
    "df = payments.copy()"
   ]
  },
  {
   "cell_type": "code",
   "execution_count": 8,
   "id": "2d76de08-a9b8-48d8-922d-36d2af7a9126",
   "metadata": {},
   "outputs": [
    {
     "name": "stdout",
     "output_type": "stream",
     "text": [
      "                               order_id  installments  sequential  \\\n",
      "44043  744bade1fcf9ff3f31d860ace076d422             0           2   \n",
      "74314  1a57108394169c0b47d8f876acc9ba2d             0           2   \n",
      "\n",
      "      payment_type   value  \n",
      "44043  credit_card   58.69  \n",
      "74314  credit_card  129.94  \n",
      "                               order_id  installments  sequential  \\\n",
      "34402  fa65dad1b0e818e3ccc5cb0e39231352             1          14   \n",
      "58923  45ed6e85398a87c253db47c2d9f48216             1           3   \n",
      "73231  fa65dad1b0e818e3ccc5cb0e39231352             1          13   \n",
      "\n",
      "      payment_type  value  \n",
      "34402      voucher    0.0  \n",
      "58923      voucher    0.0  \n",
      "73231      voucher    0.0  \n"
     ]
    }
   ],
   "source": [
    "print(df[df['installments'] == 0])\n",
    "print(df[df['value'] == 0])"
   ]
  },
  {
   "cell_type": "code",
   "execution_count": 9,
   "id": "a7d8199b-b68c-48d0-a959-f585a9ae1bc7",
   "metadata": {},
   "outputs": [],
   "source": [
    "df = df.drop(df[df['installments'] == 0].index)"
   ]
  },
  {
   "cell_type": "code",
   "execution_count": 10,
   "id": "4964c4a0-0a05-44f9-8ddf-8afa111ae70f",
   "metadata": {},
   "outputs": [],
   "source": [
    "df = df.drop(df[df['value'] == 0].index)"
   ]
  },
  {
   "cell_type": "code",
   "execution_count": 11,
   "id": "346d5422-7ce2-42ac-a015-84b30705b82f",
   "metadata": {},
   "outputs": [
    {
     "data": {
      "text/plain": [
       "<Axes: xlabel='value', ylabel='Count'>"
      ]
     },
     "execution_count": 11,
     "metadata": {},
     "output_type": "execute_result"
    },
    {
     "data": {
      "image/png": "[encoded data removed]",
      "text/plain": [
       "<Figure size 640x480 with 1 Axes>"
      ]
     },
     "metadata": {},
     "output_type": "display_data"
    }
   ],
   "source": [
    "sns.histplot(data=df, x='value')"
   ]
  },
  {
   "cell_type": "markdown",
   "id": "0c53c2d0-4c91-4d27-8ac8-96b3a65f46bf",
   "metadata": {},
   "source": [
    "## Выводы из таблицы payments:\n",
    "1. Большинство людей предпочитают платить кредитной картой или boleto - бразильский аналог наличного ваучера.\n",
    "2. Почти все суммы платежей лежат в диапазоне от 0 до 1000.\n",
    "3. Более половины клиентов предпочитают платить одним платежом, а не в рассрочку."
   ]
  },
  {
   "cell_type": "code",
   "execution_count": 39,
   "id": "2525ee95-2188-4a3f-8140-99910908e7fd",
   "metadata": {},
   "outputs": [],
   "source": [
    "df.to_parquet(INTERIM_NOTEBOOK_DIR / \"payments_olist_public_dataset_interim.parquet\", index=False)"
   ]
  }
 ],
 "metadata": {
  "kernelspec": {
   "display_name": "Python 3 (ipykernel)",
   "language": "python",
   "name": "python3"
  },
  "language_info": {
   "codemirror_mode": {
    "name": "ipython",
    "version": 3
   },
   "file_extension": ".py",
   "mimetype": "text/x-python",
   "name": "python",
   "nbconvert_exporter": "python",
   "pygments_lexer": "ipython3",
   "version": "3.13.5"
  }
 },
 "nbformat": 4,
 "nbformat_minor": 5
}
