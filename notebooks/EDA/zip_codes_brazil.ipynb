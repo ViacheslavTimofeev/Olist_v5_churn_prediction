{
 "cells": [
  {
   "cell_type": "markdown",
   "id": "5bdb9e0b-22cd-4a59-8311-61efdebe6539",
   "metadata": {},
   "source": [
    "# Публичные zip-codes для Бразилии"
   ]
  },
  {
   "cell_type": "markdown",
   "id": "5693ea1a-0610-4d30-8554-d2bf2649526e",
   "metadata": {},
   "source": [
    "Предназначение этого ноутбука: совместить zip-codes с местоположением. "
   ]
  },
  {
   "cell_type": "code",
   "execution_count": null,
   "id": "2007b404-d34c-42ee-8593-67269424a13d",
   "metadata": {},
   "outputs": [],
   "source": [
    "import pandas as pd\n",
    "import unicodedata\n",
    "from olist_churn_prediction.paths import SRC_DIR, PROCESSED_DIR, INTERIM_NOTEBOOK_DIR\n",
    "from olist_churn_prediction import feature_processing, feature_engineering"
   ]
  },
  {
   "cell_type": "code",
   "execution_count": 14,
   "id": "82c3a30c-03b2-4130-ac25-a005b8d12e90",
   "metadata": {},
   "outputs": [],
   "source": [
    "zip_codes = pd.read_csv(r\"C:\\BR.txt\", header=None, sep=\"\\t\")"
   ]
  },
  {
   "cell_type": "code",
   "execution_count": 15,
   "id": "e01f32b3-bccd-4998-a42e-48267a056330",
   "metadata": {},
   "outputs": [],
   "source": [
    "zip_codes.columns = ['0', 'zip_code', 'place_name', 'state', 'state_code', 'city', 'city_code', 'admin_name_3', 'admin_code_3', 'lat', 'lng', 'accuracy']"
   ]
  },
  {
   "cell_type": "code",
   "execution_count": 16,
   "id": "93f861b3-c08f-40b3-be38-df5e34c8599e",
   "metadata": {},
   "outputs": [],
   "source": [
    "zip_codes = zip_codes.drop(['0', 'place_name', 'admin_name_3', 'admin_code_3', 'state_code', 'accuracy', 'city_code'], axis=1)"
   ]
  },
  {
   "cell_type": "code",
   "execution_count": 17,
   "id": "1b801567-0606-4e8d-9b09-d951ac93e98d",
   "metadata": {},
   "outputs": [
    {
     "data": {
      "text/html": [
       "<div>\n",
       "<style scoped>\n",
       "    .dataframe tbody tr th:only-of-type {\n",
       "        vertical-align: middle;\n",
       "    }\n",
       "\n",
       "    .dataframe tbody tr th {\n",
       "        vertical-align: top;\n",
       "    }\n",
       "\n",
       "    .dataframe thead th {\n",
       "        text-align: right;\n",
       "    }\n",
       "</style>\n",
       "<table border=\"1\" class=\"dataframe\">\n",
       "  <thead>\n",
       "    <tr style=\"text-align: right;\">\n",
       "      <th></th>\n",
       "      <th>zip_code</th>\n",
       "      <th>state</th>\n",
       "      <th>city</th>\n",
       "      <th>lat</th>\n",
       "      <th>lng</th>\n",
       "    </tr>\n",
       "  </thead>\n",
       "  <tbody>\n",
       "    <tr>\n",
       "      <th>0</th>\n",
       "      <td>69945-000</td>\n",
       "      <td>Acre</td>\n",
       "      <td>Acrelândia</td>\n",
       "      <td>-9.9805</td>\n",
       "      <td>-66.8439</td>\n",
       "    </tr>\n",
       "    <tr>\n",
       "      <th>1</th>\n",
       "      <td>69935-000</td>\n",
       "      <td>Acre</td>\n",
       "      <td>Assis Brasil</td>\n",
       "      <td>-10.8833</td>\n",
       "      <td>-70.0131</td>\n",
       "    </tr>\n",
       "    <tr>\n",
       "      <th>2</th>\n",
       "      <td>69932-000</td>\n",
       "      <td>Acre</td>\n",
       "      <td>Brasiléia</td>\n",
       "      <td>-10.7677</td>\n",
       "      <td>-69.0114</td>\n",
       "    </tr>\n",
       "    <tr>\n",
       "      <th>3</th>\n",
       "      <td>69923-000</td>\n",
       "      <td>Acre</td>\n",
       "      <td>Bujari</td>\n",
       "      <td>-9.5786</td>\n",
       "      <td>-68.1720</td>\n",
       "    </tr>\n",
       "    <tr>\n",
       "      <th>4</th>\n",
       "      <td>69922-000</td>\n",
       "      <td>Acre</td>\n",
       "      <td>Capixaba</td>\n",
       "      <td>-10.4878</td>\n",
       "      <td>-67.8483</td>\n",
       "    </tr>\n",
       "  </tbody>\n",
       "</table>\n",
       "</div>"
      ],
      "text/plain": [
       "    zip_code state          city      lat      lng\n",
       "0  69945-000  Acre    Acrelândia  -9.9805 -66.8439\n",
       "1  69935-000  Acre  Assis Brasil -10.8833 -70.0131\n",
       "2  69932-000  Acre     Brasiléia -10.7677 -69.0114\n",
       "3  69923-000  Acre        Bujari  -9.5786 -68.1720\n",
       "4  69922-000  Acre      Capixaba -10.4878 -67.8483"
      ]
     },
     "execution_count": 17,
     "metadata": {},
     "output_type": "execute_result"
    }
   ],
   "source": [
    "zip_codes.head()"
   ]
  },
  {
   "cell_type": "code",
   "execution_count": 53,
   "id": "b5651e07-7cbe-413e-9546-23af1cdbde7c",
   "metadata": {},
   "outputs": [],
   "source": [
    "#zip_codes.to_parquet(r\"C:\\Users\\Вячеслав\\Documents\\olist_churn\\olist-ml-churn-prediction\\data\\raw\\zip_codes.parquet\")"
   ]
  },
  {
   "cell_type": "code",
   "execution_count": 8,
   "id": "86a032c7-e683-4f44-8b16-160989713563",
   "metadata": {},
   "outputs": [],
   "source": [
    "public = pd.read_parquet(r\"C:\\Users\\Вячеслав\\Documents\\olist_churn\\olist-ml-churn-prediction\\data\\interim\\notebook_related\\public_data_interim.parquet\")"
   ]
  },
  {
   "cell_type": "code",
   "execution_count": 24,
   "id": "13883dc3-d1f3-42f9-99b5-996666654348",
   "metadata": {},
   "outputs": [],
   "source": [
    "zip_codes = zip_codes.dropna()"
   ]
  },
  {
   "cell_type": "code",
   "execution_count": 25,
   "id": "f8e7688e-e5ed-402e-a0f6-9de0dbd6d412",
   "metadata": {},
   "outputs": [
    {
     "name": "stdout",
     "output_type": "stream",
     "text": [
      "zip_code    0\n",
      "state       0\n",
      "city        0\n",
      "lat         0\n",
      "lng         0\n",
      "dtype: int64\n"
     ]
    }
   ],
   "source": [
    "print(zip_codes.isna().sum())"
   ]
  },
  {
   "cell_type": "code",
   "execution_count": 26,
   "id": "c973499e-cc43-4b8b-a674-951fdd3b2bbf",
   "metadata": {},
   "outputs": [
    {
     "name": "stdout",
     "output_type": "stream",
     "text": [
      "       zip_code      state            city      lat      lng city_normalized\n",
      "0     69945-000       Acre      Acrelândia  -9.9805 -66.8439      Acrelandia\n",
      "1     69935-000       Acre    Assis Brasil -10.8833 -70.0131    Assis Brasil\n",
      "2     69932-000       Acre       Brasiléia -10.7677 -69.0114       Brasileia\n",
      "3     69923-000       Acre          Bujari  -9.5786 -68.1720          Bujari\n",
      "4     69922-000       Acre        Capixaba -10.4878 -67.8483        Capixaba\n",
      "...         ...        ...             ...      ...      ...             ...\n",
      "5519  77900-000  Tocantins  Tocantinópolis  -6.2625 -47.5577  Tocantinopolis\n",
      "5520  77704-000  Tocantins        Tupirama  -8.9192 -48.2766        Tupirama\n",
      "5521  77743-000  Tocantins      Tupiratins  -8.3858 -48.2230      Tupiratins\n",
      "5522  77860-000  Tocantins    Wanderlândia  -6.7980 -48.0041    Wanderlandia\n",
      "5523  77880-000  Tocantins         Xambioá  -6.5941 -48.4314         Xambioa\n",
      "\n",
      "[5495 rows x 6 columns]\n"
     ]
    }
   ],
   "source": [
    "def normalize_text(text: str) -> str:\n",
    "    text = unicodedata.normalize('NFKD', text)\n",
    "    text = ''.join([c for c in text if not unicodedata.combining(c)])\n",
    "    return text\n",
    "\n",
    "# Применение к колонке\n",
    "zip_codes['city_normalized'] = zip_codes['city'].apply(normalize_text)"
   ]
  },
  {
   "cell_type": "code",
   "execution_count": 28,
   "id": "7d3466e1-6721-4201-b2e3-05537f25935d",
   "metadata": {},
   "outputs": [],
   "source": [
    "zip_codes = zip_codes.drop(\"city\", axis=1)"
   ]
  },
  {
   "cell_type": "code",
   "execution_count": 30,
   "id": "8c39f3de-f62d-4ecd-8020-232f1a122bc0",
   "metadata": {},
   "outputs": [],
   "source": [
    "cat_cols=['city_normalized', '']"
   ]
  },
  {
   "cell_type": "code",
   "execution_count": 31,
   "id": "2ea79269-27b1-4761-bb5d-6f363f7c2c39",
   "metadata": {},
   "outputs": [
    {
     "data": {
      "text/html": [
       "<div>\n",
       "<style scoped>\n",
       "    .dataframe tbody tr th:only-of-type {\n",
       "        vertical-align: middle;\n",
       "    }\n",
       "\n",
       "    .dataframe tbody tr th {\n",
       "        vertical-align: top;\n",
       "    }\n",
       "\n",
       "    .dataframe thead th {\n",
       "        text-align: right;\n",
       "    }\n",
       "</style>\n",
       "<table border=\"1\" class=\"dataframe\">\n",
       "  <thead>\n",
       "    <tr style=\"text-align: right;\">\n",
       "      <th></th>\n",
       "      <th>zip_code</th>\n",
       "      <th>state</th>\n",
       "      <th>lat</th>\n",
       "      <th>lng</th>\n",
       "      <th>city_normalized</th>\n",
       "    </tr>\n",
       "  </thead>\n",
       "  <tbody>\n",
       "    <tr>\n",
       "      <th>0</th>\n",
       "      <td>69945-000</td>\n",
       "      <td>Acre</td>\n",
       "      <td>-9.9805</td>\n",
       "      <td>-66.8439</td>\n",
       "      <td>acrelandia</td>\n",
       "    </tr>\n",
       "    <tr>\n",
       "      <th>1</th>\n",
       "      <td>69935-000</td>\n",
       "      <td>Acre</td>\n",
       "      <td>-10.8833</td>\n",
       "      <td>-70.0131</td>\n",
       "      <td>assis_brasil</td>\n",
       "    </tr>\n",
       "    <tr>\n",
       "      <th>2</th>\n",
       "      <td>69932-000</td>\n",
       "      <td>Acre</td>\n",
       "      <td>-10.7677</td>\n",
       "      <td>-69.0114</td>\n",
       "      <td>brasileia</td>\n",
       "    </tr>\n",
       "    <tr>\n",
       "      <th>3</th>\n",
       "      <td>69923-000</td>\n",
       "      <td>Acre</td>\n",
       "      <td>-9.5786</td>\n",
       "      <td>-68.1720</td>\n",
       "      <td>bujari</td>\n",
       "    </tr>\n",
       "    <tr>\n",
       "      <th>4</th>\n",
       "      <td>69922-000</td>\n",
       "      <td>Acre</td>\n",
       "      <td>-10.4878</td>\n",
       "      <td>-67.8483</td>\n",
       "      <td>capixaba</td>\n",
       "    </tr>\n",
       "    <tr>\n",
       "      <th>...</th>\n",
       "      <td>...</td>\n",
       "      <td>...</td>\n",
       "      <td>...</td>\n",
       "      <td>...</td>\n",
       "      <td>...</td>\n",
       "    </tr>\n",
       "    <tr>\n",
       "      <th>5519</th>\n",
       "      <td>77900-000</td>\n",
       "      <td>Tocantins</td>\n",
       "      <td>-6.2625</td>\n",
       "      <td>-47.5577</td>\n",
       "      <td>tocantinopolis</td>\n",
       "    </tr>\n",
       "    <tr>\n",
       "      <th>5520</th>\n",
       "      <td>77704-000</td>\n",
       "      <td>Tocantins</td>\n",
       "      <td>-8.9192</td>\n",
       "      <td>-48.2766</td>\n",
       "      <td>tupirama</td>\n",
       "    </tr>\n",
       "    <tr>\n",
       "      <th>5521</th>\n",
       "      <td>77743-000</td>\n",
       "      <td>Tocantins</td>\n",
       "      <td>-8.3858</td>\n",
       "      <td>-48.2230</td>\n",
       "      <td>tupiratins</td>\n",
       "    </tr>\n",
       "    <tr>\n",
       "      <th>5522</th>\n",
       "      <td>77860-000</td>\n",
       "      <td>Tocantins</td>\n",
       "      <td>-6.7980</td>\n",
       "      <td>-48.0041</td>\n",
       "      <td>wanderlandia</td>\n",
       "    </tr>\n",
       "    <tr>\n",
       "      <th>5523</th>\n",
       "      <td>77880-000</td>\n",
       "      <td>Tocantins</td>\n",
       "      <td>-6.5941</td>\n",
       "      <td>-48.4314</td>\n",
       "      <td>xambioa</td>\n",
       "    </tr>\n",
       "  </tbody>\n",
       "</table>\n",
       "<p>5495 rows × 5 columns</p>\n",
       "</div>"
      ],
      "text/plain": [
       "       zip_code      state      lat      lng city_normalized\n",
       "0     69945-000       Acre  -9.9805 -66.8439      acrelandia\n",
       "1     69935-000       Acre -10.8833 -70.0131    assis_brasil\n",
       "2     69932-000       Acre -10.7677 -69.0114       brasileia\n",
       "3     69923-000       Acre  -9.5786 -68.1720          bujari\n",
       "4     69922-000       Acre -10.4878 -67.8483        capixaba\n",
       "...         ...        ...      ...      ...             ...\n",
       "5519  77900-000  Tocantins  -6.2625 -47.5577  tocantinopolis\n",
       "5520  77704-000  Tocantins  -8.9192 -48.2766        tupirama\n",
       "5521  77743-000  Tocantins  -8.3858 -48.2230      tupiratins\n",
       "5522  77860-000  Tocantins  -6.7980 -48.0041    wanderlandia\n",
       "5523  77880-000  Tocantins  -6.5941 -48.4314         xambioa\n",
       "\n",
       "[5495 rows x 5 columns]"
      ]
     },
     "execution_count": 31,
     "metadata": {},
     "output_type": "execute_result"
    }
   ],
   "source": [
    "feature_processing.lowercase_categoricals(zip_codes, cat_cols=cat_cols, inplace=True)"
   ]
  },
  {
   "cell_type": "code",
   "execution_count": 32,
   "id": "7cb9cc0d-0335-499f-921a-ef6174735184",
   "metadata": {},
   "outputs": [],
   "source": [
    "zip_codes['zip_code'] = zip_codes['zip_code'].str[:3]"
   ]
  },
  {
   "cell_type": "code",
   "execution_count": 35,
   "id": "36211f42-263d-4161-86d5-a125263022d6",
   "metadata": {},
   "outputs": [
    {
     "data": {
      "text/plain": [
       "city_normalized\n",
       "sao_domingos      5\n",
       "bom_jesus         5\n",
       "bonito            4\n",
       "planalto          4\n",
       "santa_ines        4\n",
       "                 ..\n",
       "tocantinopolis    1\n",
       "tupirama          1\n",
       "tupiratins        1\n",
       "wanderlandia      1\n",
       "brasileia         1\n",
       "Name: count, Length: 5219, dtype: int64"
      ]
     },
     "execution_count": 35,
     "metadata": {},
     "output_type": "execute_result"
    }
   ],
   "source": [
    "zip_codes['city_normalized'].value_counts()"
   ]
  },
  {
   "cell_type": "code",
   "execution_count": 34,
   "id": "01c6c02b-c73d-4991-9517-6dea774b4720",
   "metadata": {},
   "outputs": [
    {
     "data": {
      "text/plain": [
       "zip_code            object\n",
       "state               object\n",
       "lat                float64\n",
       "lng                float64\n",
       "city_normalized     object\n",
       "dtype: object"
      ]
     },
     "execution_count": 34,
     "metadata": {},
     "output_type": "execute_result"
    }
   ],
   "source": [
    "zip_codes.dtypes"
   ]
  },
  {
   "cell_type": "markdown",
   "id": "2a7f29d3-f3a4-4391-8a5a-072d43f95ee9",
   "metadata": {},
   "source": [
    "Пришлось отказаться от идеи получить zip_codes для продавцов для создания новых признаков, основанных на расстоянии между точкой отправки товара и точкой получения. Возможно, данная возможность появится позже."
   ]
  }
 ],
 "metadata": {
  "kernelspec": {
   "display_name": "Python 3 (ipykernel)",
   "language": "python",
   "name": "python3"
  },
  "language_info": {
   "codemirror_mode": {
    "name": "ipython",
    "version": 3
   },
   "file_extension": ".py",
   "mimetype": "text/x-python",
   "name": "python",
   "nbconvert_exporter": "python",
   "pygments_lexer": "ipython3",
   "version": "3.13.5"
  }
 },
 "nbformat": 4,
 "nbformat_minor": 5
}
