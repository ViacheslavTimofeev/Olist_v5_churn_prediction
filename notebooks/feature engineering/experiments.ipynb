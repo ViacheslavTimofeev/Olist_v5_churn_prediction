{
 "cells": [
  {
   "cell_type": "markdown",
   "id": "6fae92a2-65e3-4e78-8bbc-23a9689d45cf",
   "metadata": {},
   "source": [
    "# Эксперименты с разными наборами признаков"
   ]
  },
  {
   "cell_type": "markdown",
   "id": "3a1c582d-ffa3-4509-a195-f9564431c40d",
   "metadata": {},
   "source": [
    "## Создание временных признаков"
   ]
  },
  {
   "cell_type": "markdown",
   "id": "4dfa7c1f-686e-41ff-9f34-50ab89bb4202",
   "metadata": {},
   "source": [
    "На основе временных признаков можно создать новые полезные и хорошо интерпретируемые:\n",
    "1. Время между оплатой заказа и подтверждением заказа на сайте (order_approved_at - order_purchase_timestamp): *payment_lag*\n",
    "2. Время между подтверждением заказа и ориентировочным времени доставки (order_estimated_delivery_date - order_aproved_at): *estimated_shipping_lag*\n",
    "3. Время между фактическим времени доставки и ожидаемым (order_delivered_customer_date - order_estimated_delivery_date): *actual_and_estimated_shipping_lag*\n",
    "4. Время между рассылкой с просьбой оценить качество и ответом покупателя (review_answer_timestamp - review_creation_date): *customer_review_response_lag*\n",
    "5. Время между подтверждением заказа и его прибытием (order_delivered_customer_date - order_aproved_at): *approval_and_arrival_lag*"
   ]
  },
  {
   "cell_type": "code",
   "execution_count": null,
   "id": "74416b61-6639-46f6-b6b7-7cc360966b59",
   "metadata": {},
   "outputs": [],
   "source": [
    "diffs = FeatureUnion([\n",
    "    ('payment_lag', DateDiffTransformer('order_purchase_timestamp',\n",
    "                                        'order_aproved_at',\n",
    "                                        'payment_lag_hours')),\n",
    "    ('estimated_shipping_lag', DateDiffTransformer('order_aproved_at',\n",
    "                                         'order_estimated_delivery_date',\n",
    "                                         'estimated_shipping_lag_hours')),\n",
    "    ('actual_and_estimated_shipping_lag', DateDiffTransformer('order_estimated_delivery_date',\n",
    "                                         'order_delivered_customer_date',\n",
    "                                         'actual_and_estimated_shipping_lag_hours')),\n",
    "    ('customer_review_response_lag', DateDiffTransformer('review_creation_date',\n",
    "                                         'review_answer_timestamp',\n",
    "                                         'customer_review_response_lag_hours')),\n",
    "    ('approval_and_arrival_lag', DateDiffTransformer('order_aproved_at',\n",
    "                                         'order_delivered_customer_date',\n",
    "                                         'approval_and_arrival_lag_hours')),\n",
    "])"
   ]
  },
  {
   "cell_type": "code",
   "execution_count": null,
   "id": "20461b92-43d3-4e68-b19d-bdcd73977239",
   "metadata": {},
   "outputs": [],
   "source": [
    "diff_matrix = diffs.fit_transform(df)"
   ]
  },
  {
   "cell_type": "code",
   "execution_count": null,
   "id": "abaab96c-c910-44e4-8962-864afe6f2a7b",
   "metadata": {},
   "outputs": [],
   "source": [
    "print(diff_matrix)"
   ]
  },
  {
   "cell_type": "code",
   "execution_count": null,
   "id": "69e0420f-3570-4739-88ee-84c292147a97",
   "metadata": {},
   "outputs": [],
   "source": [
    "new_cols = [tr.new_col for _, tr in diffs.transformer_list]\n",
    "classified_data_diffs  = pd.DataFrame(diff_matrix,\n",
    "                         columns=new_cols,\n",
    "                         index=df.index)"
   ]
  },
  {
   "cell_type": "code",
   "execution_count": null,
   "id": "be534567-52d6-43c3-b543-42286071f3da",
   "metadata": {},
   "outputs": [],
   "source": [
    "df = df.join(classified_data_diffs)"
   ]
  },
  {
   "cell_type": "code",
   "execution_count": null,
   "id": "7253494a-0d82-4668-9940-10ebe466a8e2",
   "metadata": {},
   "outputs": [],
   "source": [
    "display(df.head())"
   ]
  },
  {
   "cell_type": "code",
   "execution_count": null,
   "id": "be335c0f-9848-489f-b71e-236ed8aa90e5",
   "metadata": {},
   "outputs": [],
   "source": [
    "classified_data_time = df[['most_voted_class', 'most_voted_subclass', 'payment_lag_hours', 'estimated_shipping_lag_hours', 'actual_and_estimated_shipping_lag_hours', 'customer_review_response_lag_hours', 'approval_and_arrival_lag_hours']]"
   ]
  }
 ],
 "metadata": {
  "kernelspec": {
   "display_name": "Python 3 (ipykernel)",
   "language": "python",
   "name": "python3"
  },
  "language_info": {
   "codemirror_mode": {
    "name": "ipython",
    "version": 3
   },
   "file_extension": ".py",
   "mimetype": "text/x-python",
   "name": "python",
   "nbconvert_exporter": "python",
   "pygments_lexer": "ipython3",
   "version": "3.13.5"
  }
 },
 "nbformat": 4,
 "nbformat_minor": 5
}
